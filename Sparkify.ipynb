{
 "cells": [
  {
   "cell_type": "markdown",
   "metadata": {},
   "source": [
    "# Sparkify Project Workspace\n",
    "This workspace contains a tiny subset (128MB) of the full dataset available (12GB)."
   ]
  },
  {
   "cell_type": "code",
   "execution_count": 1,
   "metadata": {
    "ExecuteTime": {
     "end_time": "2021-02-28T03:49:32.549709Z",
     "start_time": "2021-02-28T03:49:31.183559Z"
    }
   },
   "outputs": [],
   "source": [
    "# import libraries\n",
    "from pyspark.sql import SparkSession\n",
    "from pyspark.sql.functions import avg, col, concat, count, desc, explode, lit, min, max, sum, split, stddev, udf, when, lag, isnull\n",
    "from pyspark.sql.types import IntegerType\n",
    "from pyspark.ml.feature import RegexTokenizer, VectorAssembler, StandardScaler\n",
    "from pyspark.ml.regression import LinearRegression\n",
    "from pyspark.ml.classification import LogisticRegression, DecisionTreeClassifier, GBTClassifier, RandomForestClassifier\n",
    "from pyspark.ml.clustering import KMeans\n",
    "from pyspark.ml import Pipeline\n",
    "from pyspark.ml.evaluation import MulticlassClassificationEvaluator\n",
    "from pyspark.mllib.evaluation import MulticlassMetrics\n",
    "from pyspark.ml.tuning import CrossValidator, ParamGridBuilder\n",
    "\n",
    "from pyspark.sql import Window\n",
    "\n",
    "import datetime\n",
    "\n",
    "import os\n",
    "\n",
    "import pandas as pd\n",
    "import seaborn as sns\n",
    "import matplotlib.pyplot as plt\n",
    "#set seaborn style\n",
    "sns.set(style=\"whitegrid\")\n",
    "\n",
    "# Set spark environments\n",
    "os.environ['PYSPARK_PYTHON'] = '/Users/stillqe/anaconda/envs/Sparkify/bin/python3'\n",
    "os.environ['PYSPARK_DRIVER_PYTHON'] = '/Users/stillqe/anaconda/envs/Sparkify/bin/python3'"
   ]
  },
  {
   "cell_type": "code",
   "execution_count": 2,
   "metadata": {
    "ExecuteTime": {
     "end_time": "2021-02-28T03:49:38.076032Z",
     "start_time": "2021-02-28T03:49:32.552072Z"
    }
   },
   "outputs": [],
   "source": [
    "# create a Spark session\n",
    "spark = SparkSession.builder \\\n",
    "    .master(\"local\") \\\n",
    "    .appName(\"Sparkify\") \\\n",
    "    .getOrCreate()"
   ]
  },
  {
   "cell_type": "markdown",
   "metadata": {},
   "source": [
    "# Load and Clean Dataset\n",
    "In this workspace, the mini-dataset file is `mini_sparkify_event_data.json`. Load and clean the dataset, checking for invalid or missing data - for example, records without userids or sessionids. "
   ]
  },
  {
   "cell_type": "code",
   "execution_count": 3,
   "metadata": {
    "ExecuteTime": {
     "end_time": "2021-02-28T03:49:45.111083Z",
     "start_time": "2021-02-28T03:49:38.079882Z"
    }
   },
   "outputs": [
    {
     "name": "stdout",
     "output_type": "stream",
     "text": [
      "root\n",
      " |-- artist: string (nullable = true)\n",
      " |-- auth: string (nullable = true)\n",
      " |-- firstName: string (nullable = true)\n",
      " |-- gender: string (nullable = true)\n",
      " |-- itemInSession: long (nullable = true)\n",
      " |-- lastName: string (nullable = true)\n",
      " |-- length: double (nullable = true)\n",
      " |-- level: string (nullable = true)\n",
      " |-- location: string (nullable = true)\n",
      " |-- method: string (nullable = true)\n",
      " |-- page: string (nullable = true)\n",
      " |-- registration: long (nullable = true)\n",
      " |-- sessionId: long (nullable = true)\n",
      " |-- song: string (nullable = true)\n",
      " |-- status: long (nullable = true)\n",
      " |-- ts: long (nullable = true)\n",
      " |-- userAgent: string (nullable = true)\n",
      " |-- userId: string (nullable = true)\n",
      "\n",
      "Shape of Dataset:  (286500, 18)\n"
     ]
    }
   ],
   "source": [
    "sample = 'mini_sparkify_event_data.json'\n",
    "df = spark.read.json(sample)\n",
    "df.printSchema()\n",
    "print('Shape of Dataset: ' ,(df.count(), len(df.columns)))"
   ]
  },
  {
   "cell_type": "markdown",
   "metadata": {},
   "source": [
    "The dataset used here for EDA and model selection is a small subset of the original dataset of 128 GB. The sample dataset consists of 286500 rows and 18 columns. Let's first check for missing or invalid data and clean it."
   ]
  },
  {
   "cell_type": "code",
   "execution_count": 4,
   "metadata": {
    "ExecuteTime": {
     "end_time": "2021-02-28T03:49:47.411965Z",
     "start_time": "2021-02-28T03:49:45.115894Z"
    }
   },
   "outputs": [
    {
     "name": "stdout",
     "output_type": "stream",
     "text": [
      "+------+----+---------+------+-------------+--------+------+-----+--------+------+----+------------+---------+-----+------+---+---------+------+\n",
      "|artist|auth|firstName|gender|itemInSession|lastName|length|level|location|method|page|registration|sessionId| song|status| ts|userAgent|userId|\n",
      "+------+----+---------+------+-------------+--------+------+-----+--------+------+----+------------+---------+-----+------+---+---------+------+\n",
      "| 58392|   0|     8346|  8346|            0|    8346| 58392|    0|    8346|     0|   0|        8346|        0|58392|     0|  0|     8346|     0|\n",
      "+------+----+---------+------+-------------+--------+------+-----+--------+------+----+------------+---------+-----+------+---+---------+------+\n",
      "\n"
     ]
    }
   ],
   "source": [
    "def count_missings(spark_df):\n",
    "    spark_df.select([count(when(isnull(c), c)).alias(c) for c in spark_df.columns]).show()\n",
    "\n",
    "count_missings(df)"
   ]
  },
  {
   "cell_type": "markdown",
   "metadata": {},
   "source": [
    "There are 8346 records that don't have any user related information such as userId, firstName, lastName, etc. Other records with missing values on song-related information are normal records generated by events such as setting up or visiting the homepage, not playing songs."
   ]
  },
  {
   "cell_type": "code",
   "execution_count": 5,
   "metadata": {
    "ExecuteTime": {
     "end_time": "2021-02-28T03:49:49.290102Z",
     "start_time": "2021-02-28T03:49:47.416775Z"
    }
   },
   "outputs": [
    {
     "name": "stdout",
     "output_type": "stream",
     "text": [
      "+------+----+---------+------+-------------+--------+------+-----+--------+------+----+------------+---------+-----+------+---+---------+------+\n",
      "|artist|auth|firstName|gender|itemInSession|lastName|length|level|location|method|page|registration|sessionId| song|status| ts|userAgent|userId|\n",
      "+------+----+---------+------+-------------+--------+------+-----+--------+------+----+------------+---------+-----+------+---+---------+------+\n",
      "| 50046|   0|        0|     0|            0|       0| 50046|    0|       0|     0|   0|           0|        0|50046|     0|  0|        0|     0|\n",
      "+------+----+---------+------+-------------+--------+------+-----+--------+------+----+------------+---------+-----+------+---+---------+------+\n",
      "\n"
     ]
    }
   ],
   "source": [
    "df = df.where(df.userId != \"\")\n",
    "count_missings(df)"
   ]
  },
  {
   "cell_type": "markdown",
   "metadata": {},
   "source": [
    "# Exploratory Data Analysis"
   ]
  },
  {
   "cell_type": "markdown",
   "metadata": {},
   "source": [
    "We can find out what events users have done through the page feature. As it is a music streaming service, the most frequent event is music playback, followed by upvoting, visiting the homepage, and adding a playlist, etc."
   ]
  },
  {
   "cell_type": "code",
   "execution_count": 7,
   "metadata": {
    "ExecuteTime": {
     "end_time": "2021-02-28T03:49:56.781756Z",
     "start_time": "2021-02-28T03:49:52.784101Z"
    }
   },
   "outputs": [
    {
     "data": {
      "text/plain": [
       "(0.0, 50000.0)"
      ]
     },
     "execution_count": 7,
     "metadata": {},
     "output_type": "execute_result"
    },
    {
     "data": {
      "image/png": "[encoded data removed]",
      "text/plain": [
       "<Figure size 720x576 with 1 Axes>"
      ]
     },
     "metadata": {},
     "output_type": "display_data"
    }
   ],
   "source": [
    "f, ax = plt.subplots(figsize=(10, 8))\n",
    "ax.set(title=\"Page Overview\")\n",
    "sns.barplot(y='page', x='count',data=df.groupBy('page').count().orderBy(col('count').desc()).toPandas())\n",
    "ax.set_xlim(0,50000)"
   ]
  },
  {
   "cell_type": "markdown",
   "metadata": {},
   "source": [
    "We can also check the distribution of paid and free users by gender and browser."
   ]
  },
  {
   "cell_type": "code",
   "execution_count": 8,
   "metadata": {
    "ExecuteTime": {
     "end_time": "2021-02-28T03:49:59.136305Z",
     "start_time": "2021-02-28T03:49:56.786104Z"
    }
   },
   "outputs": [
    {
     "data": {
      "text/plain": [
       "<AxesSubplot:xlabel='level', ylabel='count(userId)'>"
      ]
     },
     "execution_count": 8,
     "metadata": {},
     "output_type": "execute_result"
    },
    {
     "data": {
      "image/png": "[encoded data removed]",
      "text/plain": [
       "<Figure size 432x288 with 1 Axes>"
      ]
     },
     "metadata": {},
     "output_type": "display_data"
    }
   ],
   "source": [
    "sns.barplot(x='level',y='count(userId)',hue='gender', data=df.groupBy('level','gender').agg({'userId':'count'}).toPandas())"
   ]
  },
  {
   "cell_type": "code",
   "execution_count": 9,
   "metadata": {
    "ExecuteTime": {
     "end_time": "2021-02-28T03:49:59.176125Z",
     "start_time": "2021-02-28T03:49:59.139057Z"
    }
   },
   "outputs": [],
   "source": [
    "def get_browser(x):\n",
    "    if 'Firefox' in x:\n",
    "        return 'Firefox'\n",
    "    elif 'Safari' in x:\n",
    "        if 'Chrome' in x:\n",
    "            return 'Chrome'\n",
    "        else:\n",
    "            return 'Safari'\n",
    "    elif 'Trident' in x:\n",
    "        return 'IE'\n",
    "    else:\n",
    "        return np.NaN\n",
    "    \n",
    "browser = udf(lambda x: get_browser(x))\n",
    "df = df.withColumn('browser', browser(df.userAgent))"
   ]
  },
  {
   "cell_type": "code",
   "execution_count": 10,
   "metadata": {
    "ExecuteTime": {
     "end_time": "2021-02-28T03:50:02.478121Z",
     "start_time": "2021-02-28T03:49:59.177872Z"
    }
   },
   "outputs": [
    {
     "data": {
      "text/plain": [
       "<AxesSubplot:xlabel='browser', ylabel='count(userId)'>"
      ]
     },
     "execution_count": 10,
     "metadata": {},
     "output_type": "execute_result"
    },
    {
     "data": {
      "image/png": "[encoded data removed]",
      "text/plain": [
       "<Figure size 432x288 with 1 Axes>"
      ]
     },
     "metadata": {},
     "output_type": "display_data"
    }
   ],
   "source": [
    "sns.barplot(x='browser',y='count(userId)',hue='level', data=df.groupBy('browser','level').agg({'userId':'count'}).toPandas())"
   ]
  },
  {
   "cell_type": "markdown",
   "metadata": {},
   "source": [
    "# Feature Engineering\n"
   ]
  },
  {
   "cell_type": "markdown",
   "metadata": {},
   "source": [
    "## Preprocess data\n",
    "\n",
    "- The user who has visited the cancellation confirmation page is defined as churned user.\n",
    "- The categorical page feature is transformed into multiple features by one-hot-encoding."
   ]
  },
  {
   "cell_type": "code",
   "execution_count": 11,
   "metadata": {
    "ExecuteTime": {
     "end_time": "2021-02-28T03:50:02.743915Z",
     "start_time": "2021-02-28T03:50:02.480036Z"
    }
   },
   "outputs": [],
   "source": [
    "df = df.withColumn('cancel', when(df.page == 'Cancellation Confirmation', 1).otherwise(0)) \\\n",
    "    .withColumn('thumpsup', when(df.page == 'Thumbs Up', 1).otherwise(0)) \\\n",
    "    .withColumn('thumpsdown', when(df.page == 'Thumbs Down', 1).otherwise(0)) \\\n",
    "    .withColumn('ad', when(df.page == 'Roll Advert', 1).otherwise(0)) \\\n",
    "    .withColumn('playlist', when(df.page == 'Add to Playlist', 1).otherwise(0)) \\\n",
    "    .withColumn('friend', when(df.page == 'Add Friend', 1).otherwise(0)) \\\n",
    "    .withColumn('error', when(df.page == 'Error', 1).otherwise(0)) \\\n",
    "    .withColumn('home', when(df.page == 'Home', 1).otherwise(0)) \\\n",
    "    .withColumn('downgrade', when(df.page == 'Downgrade', 1).otherwise(0)) \\\n",
    "    .withColumn('upgrade', when(df.page == 'Upgrade', 1).otherwise(0)) \\\n",
    "    .withColumn('setting', when(df.page == 'Save Settings', 1).otherwise(0)) \\\n",
    "    .withColumn('ts', col('ts')/1000) \\\n",
    "    .withColumn('registration', col('registration')/1000) \\\n",
    "    .withColumn('day', ((col('ts')-col('registration'))/(60*60*24)).cast(IntegerType()))"
   ]
  },
  {
   "cell_type": "markdown",
   "metadata": {},
   "source": [
    "- The time stamped raw data will be grouped by user id and session id."
   ]
  },
  {
   "cell_type": "code",
   "execution_count": 12,
   "metadata": {
    "ExecuteTime": {
     "end_time": "2021-02-28T03:50:02.937993Z",
     "start_time": "2021-02-28T03:50:02.746527Z"
    }
   },
   "outputs": [],
   "source": [
    "\n",
    "\n",
    "sessions = df.groupBy('userId', 'sessionId').agg(count('song').alias('play'),\n",
    "                                                 max('cancel').alias('churn'),\n",
    "                                                 min('day').alias('day'),\n",
    "                                                 min('ts').alias('start'),\n",
    "                                                 max('ts').alias('end'),                                                 \n",
    "                                                 max('level').alias('level'),\n",
    "                                                 max('gender').alias('gender'),\n",
    "                                                 max('browser').alias('browser'),\n",
    "                                                 sum('thumpsup').alias('thumpsup'),\n",
    "                                                 sum('thumpsdown').alias('thumpsdown'),\n",
    "                                                 sum('ad').alias('ads'),\n",
    "                                                 sum('playlist').alias('playlists'),\n",
    "                                                 sum('friend').alias('friends'),\n",
    "                                                 sum('error').alias('errors'),\n",
    "                                                 sum('setting').alias('setting')) \\\n",
    "    .withColumn('duration', (col('end') - col('start')).cast(IntegerType()))\n",
    "\n",
    "\n",
    "windowSpec = Window.partitionBy('userId').orderBy('start')\n",
    "userWindow = Window.partitionBy('userId')\n",
    "\n",
    "#how many days passed between sessions\n",
    "sessions = sessions.withColumn('gap', col('day') - lag('day', 1, 0).over(windowSpec))\n",
    "sessions = sessions.withColumn('churn', max('churn').over(userWindow))\n",
    "sessions = sessions.withColumn('last', max('day').over(userWindow))"
   ]
  },
  {
   "cell_type": "markdown",
   "metadata": {},
   "source": [
    "- The grouped data will be aggreated for each user. Finally we will get one aggregated row for each user."
   ]
  },
  {
   "cell_type": "code",
   "execution_count": 13,
   "metadata": {
    "ExecuteTime": {
     "end_time": "2021-02-28T03:50:03.379690Z",
     "start_time": "2021-02-28T03:50:02.940282Z"
    }
   },
   "outputs": [],
   "source": [
    "users = sessions.groupBy('userId').agg(count('sessionId').alias('total_session'),\n",
    "                                       avg('play').alias('avg_play'),\n",
    "                                       when(count('play') > 1, stddev('play')).otherwise(0).alias('std_play'),\n",
    "                                       avg('thumpsup').alias('avg_up'),\n",
    "                                       avg('thumpsdown').alias('avg_down'),\n",
    "                                       avg('ads').alias('avg_ads'),\n",
    "                                       avg('setting').alias('avg_setting'),\n",
    "                                       avg('playlists').alias('avg_playlists'),\n",
    "                                       avg('friends').alias('avg_friends'),\n",
    "                                       avg('duration').alias('avg_duration'),\n",
    "                                       when(count('duration') > 1, stddev('duration')).otherwise(0).alias('std_duration'), \n",
    "                                       avg('gap').alias('avg_gap'),\n",
    "                                       when(count('gap') > 1, stddev('gap')).otherwise(0).alias('std_gap'),\n",
    "                                       max('day').alias('life_time'),\n",
    "                                       max('churn').alias('label'))\n",
    "\n",
    "recent = sessions.where(sessions.day>(sessions.last-14)).groupBy('userId') \\\n",
    "                                  .agg(when(count('sessionId')>0, avg('play')).otherwise(0).alias('recent_play'),\n",
    "                                       when(count('play') > 1, stddev('play')).otherwise(0).alias('recent_std_play'),\n",
    "                                       when(count('sessionId')>0,avg('thumpsup')).otherwise(0).alias('recent_up'),\n",
    "                                       when(count('sessionId')>0,avg('thumpsdown')).otherwise(0).alias('recent_down'),\n",
    "                                       when(count('sessionId')>0,avg('ads')).otherwise(0).alias('recent_ads'),\n",
    "                                       when(count('sessionId')>0,avg('setting')).otherwise(0).alias('recent_setting'),\n",
    "                                       when(count('sessionId')>0,avg('playlists')).otherwise(0).alias('recent_playlists'),\n",
    "                                       when(count('sessionId')>0,avg('friends')).otherwise(0).alias('recent_friends'),\n",
    "                                       when(count('sessionId')>0,avg('duration')).otherwise(0).alias('recent_duration'),\n",
    "                                       when(count('sessionId')>0,avg('gap')).otherwise(0).alias('recent_gap'),\n",
    "                                       when(count('gap') > 1, stddev('gap')).otherwise(0).alias('recent_std_gap'))\n",
    "\n",
    "\n",
    "\n",
    "\n",
    "users = users.join(recent, on='userId')                                                             "
   ]
  },
  {
   "cell_type": "markdown",
   "metadata": {},
   "source": [
    "- Visualize how some extracted features are distributed according to the label."
   ]
  },
  {
   "cell_type": "code",
   "execution_count": 14,
   "metadata": {
    "ExecuteTime": {
     "end_time": "2021-02-28T03:50:24.040124Z",
     "start_time": "2021-02-28T03:50:03.382522Z"
    }
   },
   "outputs": [
    {
     "data": {
      "text/plain": [
       "[Text(0.5, 1.0, 'Average staying time per session'),\n",
       " Text(0.5, 0, 'churn'),\n",
       " Text(0, 0.5, '')]"
      ]
     },
     "execution_count": 14,
     "metadata": {},
     "output_type": "execute_result"
    },
    {
     "data": {
      "image/png": "[encoded data removed]",
      "text/plain": [
       "<Figure size 1152x576 with 8 Axes>"
      ]
     },
     "metadata": {},
     "output_type": "display_data"
    }
   ],
   "source": [
    "pd_users =users.select(\"total_session\",\"avg_play\",\"std_play\",\"avg_up\",\"avg_down\",\"avg_ads\",\"avg_playlists\",\n",
    "                       \"avg_friends\",\"avg_duration\",\"std_duration\",\"avg_gap\",\"std_gap\",\"label\").toPandas()\n",
    "\n",
    "fig, axes = plt.subplots(2, 4, figsize=(16, 8))\n",
    "\n",
    "sns.boxplot(ax=axes[0,0], x=\"label\", y=\"total_session\", data=pd_users)\n",
    "axes[0,0].set(title=\"Total sessions\", xlabel='',ylabel='')\n",
    "\n",
    "sns.boxplot(ax=axes[0,1], x=\"label\", y=\"avg_play\", data=pd_users)\n",
    "axes[0,1].set(title=\"Average play count per session\", xlabel='',ylabel='')\n",
    "\n",
    "sns.boxplot(ax=axes[0,2], x=\"label\", y=\"avg_up\", data=pd_users)\n",
    "axes[0,2].set(title=\"Average up votes per session\", xlabel='',ylabel='')\n",
    "\n",
    "sns.boxplot(ax=axes[0,3], x=\"label\", y=\"avg_down\", data=pd_users)\n",
    "axes[0,3].set(title=\"Average down votes per session\", xlabel='',ylabel='')\n",
    "\n",
    "sns.boxplot(ax=axes[1,0], x=\"label\", y=\"avg_ads\", data=pd_users)\n",
    "axes[1,0].set(title=\"Average ads per session\", xlabel='churn',ylabel='')\n",
    "\n",
    "sns.boxplot(ax=axes[1,1], x=\"label\", y=\"avg_playlists\", data=pd_users)\n",
    "axes[1,1].set(title=\"Average playlist added per session\", xlabel='churn',ylabel='')\n",
    "\n",
    "sns.boxplot(ax=axes[1,2], x=\"label\", y=\"avg_friends\", data=pd_users)\n",
    "axes[1,2].set(title=\"Average friend added per session\", xlabel='churn',ylabel='')\n",
    "\n",
    "sns.boxplot(ax=axes[1,3], x=\"label\", y=\"avg_duration\", data=pd_users)\n",
    "axes[1,3].set(title=\"Average staying time per session\", xlabel='churn',ylabel='')"
   ]
  },
  {
   "cell_type": "markdown",
   "metadata": {},
   "source": [
    "# Modeling\n",
    "## baseline classifier\n",
    "First, let's check four representative classifiers such as logistic regression, decision tree, random forest, and gradient boosting tree without tuning hyperparameters to get a baseline. Since the churned users are a fairly small subset, we are using F1 score as the metric to optimize."
   ]
  },
  {
   "cell_type": "code",
   "execution_count": 22,
   "metadata": {
    "ExecuteTime": {
     "end_time": "2021-02-28T05:58:05.676243Z",
     "start_time": "2021-02-28T05:58:05.644130Z"
    }
   },
   "outputs": [],
   "source": [
    "SEED=123\n",
    "# Split the data into train and test subsets\n",
    "train, test = users.randomSplit([0.8, 0.2], seed=SEED)\n",
    "\n",
    "assembler = VectorAssembler(inputCols=[\"total_session\",\n",
    "                                       \"avg_play\",\n",
    "                                       \"std_play\",\n",
    "                                       \"avg_up\",\n",
    "                                       \"avg_down\",\n",
    "                                       \"avg_ads\",\n",
    "                                       \"avg_setting\",\n",
    "                                       \"avg_playlists\",\n",
    "                                       \"avg_friends\",\n",
    "                                       \"avg_duration\",\n",
    "                                       \"std_duration\",\n",
    "                                       \"avg_gap\",\n",
    "                                       \"std_gap\",\n",
    "                                       \"life_time\",\n",
    "                                       \"recent_play\",\n",
    "                                       \"recent_std_play\",\n",
    "                                       \"recent_up\",\n",
    "                                       \"recent_down\",\n",
    "                                       \"recent_ads\",\n",
    "                                       \"recent_setting\",\n",
    "                                       \"recent_playlists\",\n",
    "                                       \"recent_friends\",\n",
    "                                       \"recent_duration\",\n",
    "                                       \"recent_gap\",\n",
    "                                       \"recent_std_gap\"\n",
    "                                      ], outputCol=\"NumFeatures\")\n",
    "\n",
    "scaler = StandardScaler(inputCol=\"NumFeatures\", outputCol=\"features\", withStd=True)"
   ]
  },
  {
   "cell_type": "code",
   "execution_count": 23,
   "metadata": {
    "ExecuteTime": {
     "end_time": "2021-02-28T06:09:30.628850Z",
     "start_time": "2021-02-28T05:58:08.126262Z"
    }
   },
   "outputs": [
    {
     "name": "stdout",
     "output_type": "stream",
     "text": [
      "LogisticRegression : The F1 score on the test set is 77.55%\n",
      "DecisionTreeClassifier : The F1 score on the test set is 76.18%\n",
      "RandomForestClassifier : The F1 score on the test set is 78.61%\n",
      "GBTClassifier : The F1 score on the test set is 74.23%\n"
     ]
    }
   ],
   "source": [
    "def check_baseline():\n",
    "    lr = LogisticRegression()\n",
    "    dt = DecisionTreeClassifier(seed=SEED)\n",
    "    rf = RandomForestClassifier(featuresCol=\"features\")\n",
    "    gbt = GBTClassifier(featuresCol=\"features\", maxIter=10)\n",
    "    \n",
    "    for clf in [lr, dt, rf, gbt]:\n",
    "        clf_name = clf.__class__.__name__\n",
    "        pipeline = Pipeline(stages=[assembler, scaler, clf])\n",
    "        model = pipeline.fit(train)\n",
    "        pred_test = model.transform(test)\n",
    "        f1_score_evaluator = MulticlassClassificationEvaluator(metricName='f1')\n",
    "        f1_score = f1_score_evaluator.evaluate(pred_test.select('label','prediction'),{f1_score_evaluator.metricName: 'f1'})\n",
    "\n",
    "        print('{} : The F1 score on the test set is {:.2%}'.format(clf_name, f1_score))\n",
    "        \n",
    "check_baseline()"
   ]
  },
  {
   "cell_type": "markdown",
   "metadata": {},
   "source": [
    "## Fine tune the selected model\n",
    "\n",
    "As we can see above, the random forest model works best. Now we tune hyperparameters for random forest model. We are using a cross-validation method to avoid overfitting and get more general results."
   ]
  },
  {
   "cell_type": "code",
   "execution_count": 24,
   "metadata": {
    "ExecuteTime": {
     "end_time": "2021-02-28T07:02:52.074892Z",
     "start_time": "2021-02-28T06:10:04.058434Z"
    }
   },
   "outputs": [
    {
     "data": {
      "text/plain": [
       "[0.7664790025336337,\n",
       " 0.7768797842244426,\n",
       " 0.7791263924496259,\n",
       " 0.7653635265175116,\n",
       " 0.7321736798379506,\n",
       " 0.7567855097008562,\n",
       " 0.7442240275468095,\n",
       " 0.7503141602122558,\n",
       " 0.7658934997416208,\n",
       " 0.7731383215441037,\n",
       " 0.7992795122246799,\n",
       " 0.7792985200766782,\n",
       " 0.7852337978302779,\n",
       " 0.7653887704050517,\n",
       " 0.7787738040139622,\n",
       " 0.7570821461613959,\n",
       " 0.7607324936046085,\n",
       " 0.758053182019409,\n",
       " 0.770137664714234,\n",
       " 0.7917038734899335,\n",
       " 0.7786730281285372,\n",
       " 0.7939473065437865,\n",
       " 0.760867160407528,\n",
       " 0.7561931610240753,\n",
       " 0.7663965365852317,\n",
       " 0.756320720996289,\n",
       " 0.7853837832770132]"
      ]
     },
     "execution_count": 24,
     "metadata": {},
     "output_type": "execute_result"
    }
   ],
   "source": [
    "clf = RandomForestClassifier(featuresCol=\"features\")\n",
    "pipeline = Pipeline(stages=[assembler, scaler, clf])\n",
    "\n",
    "paramGrid = ParamGridBuilder() \\\n",
    "            .addGrid(clf.maxDepth, [3, 5, 10]) \\\n",
    "            .addGrid(clf.numTrees, [10, 20, 40]) \\\n",
    "            .addGrid(clf.maxBins, [16, 32, 64]).build()\n",
    "\n",
    "crossval = CrossValidator(estimator=pipeline,\n",
    "                         estimatorParamMaps=paramGrid,\n",
    "                         evaluator=MulticlassClassificationEvaluator(metricName='f1'),\n",
    "                         numFolds=3)\n",
    "\n",
    "cvModel = crossval.fit(train)\n",
    "cvModel.avgMetrics"
   ]
  },
  {
   "cell_type": "markdown",
   "metadata": {},
   "source": [
    "# Results and Limitations"
   ]
  },
  {
   "cell_type": "code",
   "execution_count": 26,
   "metadata": {
    "ExecuteTime": {
     "end_time": "2021-02-28T07:07:39.697486Z",
     "start_time": "2021-02-28T07:07:17.857205Z"
    }
   },
   "outputs": [
    {
     "name": "stdout",
     "output_type": "stream",
     "text": [
      "The F1 score of the fine-tuned model on the test set is 78.13%\n"
     ]
    }
   ],
   "source": [
    "pred_test = cvModel.transform(test)\n",
    "f1_score_evaluator = MulticlassClassificationEvaluator(metricName='f1')\n",
    "f1_score = f1_score_evaluator.evaluate(pred_test.select('label','prediction'),{f1_score_evaluator.metricName: 'f1'})\n",
    "\n",
    "print('The F1 score of the fine-tuned model on the test set is {:.2%}'.format(f1_score))"
   ]
  },
  {
   "cell_type": "code",
   "execution_count": 27,
   "metadata": {
    "ExecuteTime": {
     "end_time": "2021-02-28T07:07:43.187738Z",
     "start_time": "2021-02-28T07:07:43.000294Z"
    }
   },
   "outputs": [
    {
     "name": "stdout",
     "output_type": "stream",
     "text": [
      "total_session : 0.016258040917460324 \n",
      "\n",
      "avg_play : 0.035296206293131946 \n",
      "\n",
      "std_play : 0.031184034413085326 \n",
      "\n",
      "avg_up : 0.011100422820686106 \n",
      "\n",
      "avg_down : 0.03119248768034103 \n",
      "\n",
      "avg_ads : 0.06278029151927533 \n",
      "\n",
      "avg_setting : 0.020150509718108407 \n",
      "\n",
      "avg_playlists : 0.03104788437197961 \n",
      "\n",
      "avg_friends : 0.03202030491301703 \n",
      "\n",
      "avg_duration : 0.058859871489838324 \n",
      "\n",
      "std_duration : 0.013479595407684609 \n",
      "\n",
      "avg_gap : 0.023103751577902554 \n",
      "\n",
      "std_gap : 0.011190623749428245 \n",
      "\n",
      "life_time : 0.3121919550758399 \n",
      "\n",
      "recent_play : 0.033415738445543394 \n",
      "\n",
      "recent_std_play : 0.013509290906352325 \n",
      "\n",
      "recent_up : 0.011344359289843103 \n",
      "\n",
      "recent_down : 0.05141944057958062 \n",
      "\n",
      "recent_ads : 0.0804797364795451 \n",
      "\n",
      "recent_setting : 0.009198919224910299 \n",
      "\n",
      "recent_playlists : 0.021379499894722605 \n",
      "\n",
      "recent_friends : 0.0170894467333906 \n",
      "\n",
      "recent_duration : 0.015808608767388634 \n",
      "\n",
      "recent_gap : 0.042932553872191324 \n",
      "\n",
      "recent_std_gap : 0.013566425858753315 \n",
      "\n"
     ]
    }
   ],
   "source": [
    "inputCols=[\"total_session\", \"avg_play\",\"std_play\",\"avg_up\",\"avg_down\",\"avg_ads\",\"avg_setting\",\"avg_playlists\",\n",
    "           \"avg_friends\",\"avg_duration\",\"std_duration\",\"avg_gap\",\"std_gap\",\"life_time\",\"recent_play\",\n",
    "                                       \"recent_std_play\",\n",
    "                                       \"recent_up\",\n",
    "                                       \"recent_down\",\n",
    "                                       \"recent_ads\",\n",
    "                                       \"recent_setting\",\n",
    "                                       \"recent_playlists\",\n",
    "                                       \"recent_friends\",\n",
    "                                       \"recent_duration\",\n",
    "                                       \"recent_gap\",\n",
    "                                       \"recent_std_gap\"]\n",
    "# print feature importances\n",
    "for i in range(len(cvModel.bestModel.stages[-1].featureImportances)):\n",
    "    print(\"{} : {} \\n\".format(inputCols[i], cvModel.bestModel.stages[-1].featureImportances[i]))\n"
   ]
  },
  {
   "cell_type": "markdown",
   "metadata": {},
   "source": [
    "The F1 score of the best model is 88.62%, and it looks reasonable. I think there is room for improvement through ensembles with other models and more hyperparameters tuning. \n",
    "\n",
    "Also, it is practically not useful to predict churning with a whole records including right before churn. We need to predict churning in advance, for example, 30 days before the cancellation, to take proactive actions. For this reason, the data from 30 days before the last session could be excluded.\n",
    "\n",
    "The last thing I want to mention is the importance of trend-related information. Because user interactions and attitudes toward the service change over time, we need to analyze what events occur in a particular time frame and how it changes over time. However, the analysis here seems to have limitations in this part. More specifically, in the process of aggregating the number of time series data into one record per user, the trend-related information would be missing.  Of course, the features of the last 14 days have been selected to prevent missing the information, but it might be insufficient. There is a possibility that we will get better performance if we include more trend-related features, or if we even use all the raw data without an aggregation process."
   ]
  },
  {
   "cell_type": "code",
   "execution_count": null,
   "metadata": {},
   "outputs": [],
   "source": []
  }
 ],
 "metadata": {
  "hide_input": false,
  "kernelspec": {
   "display_name": "Python 3",
   "language": "python",
   "name": "python3"
  },
  "language_info": {
   "codemirror_mode": {
    "name": "ipython",
    "version": 3
   },
   "file_extension": ".py",
   "mimetype": "text/x-python",
   "name": "python",
   "nbconvert_exporter": "python",
   "pygments_lexer": "ipython3",
   "version": "3.8.5"
  },
  "toc": {
   "base_numbering": 1,
   "nav_menu": {},
   "number_sections": true,
   "sideBar": true,
   "skip_h1_title": false,
   "title_cell": "Table of Contents",
   "title_sidebar": "Contents",
   "toc_cell": false,
   "toc_position": {
    "height": "calc(100% - 180px)",
    "left": "10px",
    "top": "150px",
    "width": "238.59375px"
   },
   "toc_section_display": true,
   "toc_window_display": true
  },
  "varInspector": {
   "cols": {
    "lenName": 16,
    "lenType": 16,
    "lenVar": 40
   },
   "kernels_config": {
    "python": {
     "delete_cmd_postfix": "",
     "delete_cmd_prefix": "del ",
     "library": "var_list.py",
     "varRefreshCmd": "print(var_dic_list())"
    },
    "r": {
     "delete_cmd_postfix": ") ",
     "delete_cmd_prefix": "rm(",
     "library": "var_list.r",
     "varRefreshCmd": "cat(var_dic_list()) "
    }
   },
   "types_to_exclude": [
    "module",
    "function",
    "builtin_function_or_method",
    "instance",
    "_Feature"
   ],
   "window_display": false
  }
 },
 "nbformat": 4,
 "nbformat_minor": 2
}
