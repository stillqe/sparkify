{
 "cells": [
  {
   "cell_type": "markdown",
   "metadata": {},
   "source": [
    "# Sparkify Project Workspace\n",
    "This workspace contains a tiny subset (128MB) of the full dataset available (12GB). Feel free to use this workspace to build your project, or to explore a smaller subset with Spark before deploying your cluster on the cloud. Instructions for setting up your Spark cluster is included in the last lesson of the Extracurricular Spark Course content.\n",
    "\n",
    "You can follow the steps below to guide your data analysis and model building portion of this project."
   ]
  },
  {
   "cell_type": "code",
   "execution_count": 1,
   "metadata": {
    "ExecuteTime": {
     "end_time": "2021-02-04T20:11:36.987177Z",
     "start_time": "2021-02-04T20:11:36.845095Z"
    }
   },
   "outputs": [],
   "source": [
    "# import libraries\n",
    "from pyspark.sql import SparkSession\n",
    "from pyspark.sql.functions import avg, col, concat, count, desc, explode, lit, min, max, split, stddev, udf\n",
    "from pyspark.sql.functions import sum as Fsum\n",
    "from pyspark.sql.types import IntegerType\n",
    "from pyspark.ml.feature import RegexTokenizer, VectorAssembler\n",
    "from pyspark.ml.regression import LinearRegression\n",
    "from pyspark.ml.clustering import KMeans\n",
    "from pyspark.sql import Window\n",
    "\n",
    "import datetime\n",
    "\n",
    "import os\n",
    "\n",
    "# Set spark environments\n",
    "os.environ['PYSPARK_PYTHON'] = '/Users/stillqe/anaconda/envs/Sparkify/bin/python3'\n",
    "os.environ['PYSPARK_DRIVER_PYTHON'] = '/Users/stillqe/anaconda/envs/Sparkify/bin/python3'\n",
    "\n"
   ]
  },
  {
   "cell_type": "code",
   "execution_count": 5,
   "metadata": {
    "ExecuteTime": {
     "end_time": "2021-02-04T20:14:57.473731Z",
     "start_time": "2021-02-04T20:14:57.469610Z"
    }
   },
   "outputs": [],
   "source": [
    "# create a Spark session\n",
    "spark = SparkSession.builder \\\n",
    "    .master(\"local\") \\\n",
    "    .appName(\"Sparkify\") \\\n",
    "    .getOrCreate()"
   ]
  },
  {
   "cell_type": "markdown",
   "metadata": {},
   "source": [
    "# Load and Clean Dataset\n",
    "In this workspace, the mini-dataset file is `mini_sparkify_event_data.json`. Load and clean the dataset, checking for invalid or missing data - for example, records without userids or sessionids. "
   ]
  },
  {
   "cell_type": "code",
   "execution_count": 17,
   "metadata": {
    "ExecuteTime": {
     "end_time": "2021-02-04T20:25:40.351247Z",
     "start_time": "2021-02-04T20:25:38.859227Z"
    }
   },
   "outputs": [
    {
     "name": "stdout",
     "output_type": "stream",
     "text": [
      "root\n",
      " |-- artist: string (nullable = true)\n",
      " |-- auth: string (nullable = true)\n",
      " |-- firstName: string (nullable = true)\n",
      " |-- gender: string (nullable = true)\n",
      " |-- itemInSession: long (nullable = true)\n",
      " |-- lastName: string (nullable = true)\n",
      " |-- length: double (nullable = true)\n",
      " |-- level: string (nullable = true)\n",
      " |-- location: string (nullable = true)\n",
      " |-- method: string (nullable = true)\n",
      " |-- page: string (nullable = true)\n",
      " |-- registration: long (nullable = true)\n",
      " |-- sessionId: long (nullable = true)\n",
      " |-- song: string (nullable = true)\n",
      " |-- status: long (nullable = true)\n",
      " |-- ts: long (nullable = true)\n",
      " |-- userAgent: string (nullable = true)\n",
      " |-- userId: string (nullable = true)\n",
      "\n"
     ]
    }
   ],
   "source": [
    "sample = 'mini_sparkify_event_data.json'\n",
    "df = spark.read.json(sample)\n",
    "df.printSchema()"
   ]
  },
  {
   "cell_type": "markdown",
   "metadata": {},
   "source": [
    "# Exploratory Data Analysis\n",
    "When you're working with the full dataset, perform EDA by loading a small subset of the data and doing basic manipulations within Spark. In this workspace, you are already provided a small subset of data you can explore.\n",
    "\n",
    "### Define Churn\n",
    "\n",
    "Once you've done some preliminary analysis, create a column `Churn` to use as the label for your model. I suggest using the `Cancellation Confirmation` events to define your churn, which happen for both paid and free users. As a bonus task, you can also look into the `Downgrade` events.\n",
    "\n",
    "### Explore Data\n",
    "Once you've defined churn, perform some exploratory data analysis to observe the behavior for users who stayed vs users who churned. You can start by exploring aggregates on these two groups of users, observing how much of a specific action they experienced per a certain time unit or number of songs played."
   ]
  },
  {
   "cell_type": "code",
   "execution_count": 18,
   "metadata": {
    "ExecuteTime": {
     "end_time": "2021-02-04T20:25:51.592926Z",
     "start_time": "2021-02-04T20:25:51.499993Z"
    }
   },
   "outputs": [
    {
     "name": "stdout",
     "output_type": "stream",
     "text": [
      "+--------------+---------+---------+------+-------------+--------+---------+-----+---------------+------+--------+-------------+---------+---------+------+-------------+--------------------+------+\n",
      "|        artist|     auth|firstName|gender|itemInSession|lastName|   length|level|       location|method|    page| registration|sessionId|     song|status|           ts|           userAgent|userId|\n",
      "+--------------+---------+---------+------+-------------+--------+---------+-----+---------------+------+--------+-------------+---------+---------+------+-------------+--------------------+------+\n",
      "|Martha Tilston|Logged In|    Colin|     M|           50| Freeman|277.89016| paid|Bakersfield, CA|   PUT|NextSong|1538173362000|       29|Rockpools|   200|1538352117000|Mozilla/5.0 (Wind...|    30|\n",
      "+--------------+---------+---------+------+-------------+--------+---------+-----+---------------+------+--------+-------------+---------+---------+------+-------------+--------------------+------+\n",
      "only showing top 1 row\n",
      "\n"
     ]
    }
   ],
   "source": [
    "df.show(1)"
   ]
  },
  {
   "cell_type": "markdown",
   "metadata": {
    "ExecuteTime": {
     "end_time": "2021-02-04T20:12:44.982589Z",
     "start_time": "2021-02-04T20:12:44.980208Z"
    }
   },
   "source": [
    "### Explore what pages we have"
   ]
  },
  {
   "cell_type": "code",
   "execution_count": 19,
   "metadata": {
    "ExecuteTime": {
     "end_time": "2021-02-04T20:25:54.613729Z",
     "start_time": "2021-02-04T20:25:53.082580Z"
    }
   },
   "outputs": [
    {
     "name": "stdout",
     "output_type": "stream",
     "text": [
      "+--------------------+\n",
      "|                page|\n",
      "+--------------------+\n",
      "|              Cancel|\n",
      "|    Submit Downgrade|\n",
      "|         Thumbs Down|\n",
      "|                Home|\n",
      "|           Downgrade|\n",
      "|         Roll Advert|\n",
      "|              Logout|\n",
      "|       Save Settings|\n",
      "|Cancellation Conf...|\n",
      "|               About|\n",
      "| Submit Registration|\n",
      "|            Settings|\n",
      "|               Login|\n",
      "|            Register|\n",
      "|     Add to Playlist|\n",
      "|          Add Friend|\n",
      "|            NextSong|\n",
      "|           Thumbs Up|\n",
      "|                Help|\n",
      "|             Upgrade|\n",
      "|               Error|\n",
      "|      Submit Upgrade|\n",
      "+--------------------+\n",
      "\n"
     ]
    }
   ],
   "source": [
    "df.select('page').dropDuplicates().show(30)"
   ]
  },
  {
   "cell_type": "code",
   "execution_count": 20,
   "metadata": {
    "ExecuteTime": {
     "end_time": "2021-02-04T20:25:58.385102Z",
     "start_time": "2021-02-04T20:25:56.156119Z"
    }
   },
   "outputs": [
    {
     "name": "stdout",
     "output_type": "stream",
     "text": [
      "+------+-----+\n",
      "|userId|count|\n",
      "+------+-----+\n",
      "|    39| 9632|\n",
      "|      | 8346|\n",
      "|    92| 7230|\n",
      "|   140| 6880|\n",
      "|300011| 5732|\n",
      "|   124| 4825|\n",
      "|300021| 4659|\n",
      "|300017| 4428|\n",
      "|    85| 4370|\n",
      "|    42| 4257|\n",
      "|200023| 3769|\n",
      "|     6| 3761|\n",
      "|    29| 3603|\n",
      "|    54| 3437|\n",
      "|   100| 3214|\n",
      "|     9| 3191|\n",
      "|   126| 3102|\n",
      "|300015| 3051|\n",
      "|    91| 3014|\n",
      "|    98| 2891|\n",
      "+------+-----+\n",
      "only showing top 20 rows\n",
      "\n"
     ]
    }
   ],
   "source": [
    "df.groupBy('userId').count().orderBy(desc('count')).show()"
   ]
  },
  {
   "cell_type": "code",
   "execution_count": 9,
   "metadata": {
    "ExecuteTime": {
     "end_time": "2021-02-04T20:15:19.873203Z",
     "start_time": "2021-02-04T20:15:15.240656Z"
    }
   },
   "outputs": [
    {
     "name": "stdout",
     "output_type": "stream",
     "text": [
      "Upgrade\n",
      "Submit Downgrade\n",
      "Save Settings\n",
      "Cancel\n",
      "Downgrade\n",
      "Thumbs Down\n",
      "Settings\n",
      "Roll Advert\n",
      "Cancellation Confirmation\n",
      "Submit Upgrade\n",
      "Logout\n",
      "Thumbs Up\n",
      "NextSong\n",
      "Add to Playlist\n",
      "Add Friend\n"
     ]
    }
   ],
   "source": [
    "# filter for users with blank user id\n",
    "blank_pages = df.filter(df.userId == '') \\\n",
    "    .select(col('page') \\\n",
    "    .alias('blank_pages')) \\\n",
    "    .dropDuplicates()\n",
    "\n",
    "# get a list of possible pages that could be visited\n",
    "all_pages = df.select('page').dropDuplicates()\n",
    "\n",
    "# find values in all_pages that are not in blank_pages\n",
    "# these are the pages that the blank user did not go to\n",
    "for row in set(all_pages.collect()) - set(blank_pages.collect()):\n",
    "    print(row.page)"
   ]
  },
  {
   "cell_type": "code",
   "execution_count": 21,
   "metadata": {
    "ExecuteTime": {
     "end_time": "2021-02-04T20:26:23.467276Z",
     "start_time": "2021-02-04T20:26:21.189055Z"
    }
   },
   "outputs": [
    {
     "name": "stdout",
     "output_type": "stream",
     "text": [
      "+------+-----------+\n",
      "|gender|count(song)|\n",
      "+------+-----------+\n",
      "|     F|     126696|\n",
      "|     M|     101412|\n",
      "+------+-----------+\n",
      "\n"
     ]
    }
   ],
   "source": [
    "df.where(df.page=='NextSong').groupBy('gender').agg({'song':'count'}).show()"
   ]
  },
  {
   "cell_type": "code",
   "execution_count": 22,
   "metadata": {
    "ExecuteTime": {
     "end_time": "2021-02-04T20:26:32.289429Z",
     "start_time": "2021-02-04T20:26:29.828737Z"
    }
   },
   "outputs": [
    {
     "name": "stdout",
     "output_type": "stream",
     "text": [
      "+--------------------+-----------+\n",
      "|              Artist|Artistcount|\n",
      "+--------------------+-----------+\n",
      "|       Kings Of Leon|       1841|\n",
      "|            Coldplay|       1813|\n",
      "|Florence + The Ma...|       1236|\n",
      "|       Dwight Yoakam|       1135|\n",
      "|            BjÃÂ¶rk|       1133|\n",
      "+--------------------+-----------+\n",
      "only showing top 5 rows\n",
      "\n"
     ]
    }
   ],
   "source": [
    "df.filter(df.page == 'NextSong') \\\n",
    "    .select('Artist') \\\n",
    "    .groupBy('Artist') \\\n",
    "    .agg({'Artist':'count'}) \\\n",
    "    .withColumnRenamed('count(Artist)', 'Artistcount') \\\n",
    "    .sort(desc('Artistcount')) \\\n",
    "    .show(5)"
   ]
  },
  {
   "cell_type": "code",
   "execution_count": null,
   "metadata": {
    "ExecuteTime": {
     "end_time": "2021-02-04T20:26:32.327225Z",
     "start_time": "2021-02-04T20:26:32.137Z"
    }
   },
   "outputs": [],
   "source": [
    "df.select('userId').dropDuplicates().count()"
   ]
  },
  {
   "cell_type": "code",
   "execution_count": 23,
   "metadata": {
    "ExecuteTime": {
     "end_time": "2021-02-04T20:26:39.966459Z",
     "start_time": "2021-02-04T20:26:33.301182Z"
    }
   },
   "outputs": [
    {
     "name": "stdout",
     "output_type": "stream",
     "text": [
      "+-----+-----------+\n",
      "|churn|count(song)|\n",
      "+-----+-----------+\n",
      "|    0|     191714|\n",
      "|    1|      36394|\n",
      "+-----+-----------+\n",
      "\n"
     ]
    }
   ],
   "source": [
    "churned_usr = df.filter(df.page == 'Cancellation Confirmation').select('userId').dropDuplicates()\n",
    "churned_usr = churned_usr.withColumn('churn', lit('1'))\n",
    "df = df.join(churned_usr, 'userId', 'outer')\n",
    "df = df.fillna('0','churn')\n",
    "df.select(['userId', 'churn','song']).groupby('churn').agg({'song': 'count'}).show()"
   ]
  },
  {
   "cell_type": "code",
   "execution_count": 24,
   "metadata": {
    "ExecuteTime": {
     "end_time": "2021-02-04T20:26:59.032639Z",
     "start_time": "2021-02-04T20:26:50.243981Z"
    }
   },
   "outputs": [
    {
     "name": "stdout",
     "output_type": "stream",
     "text": [
      "+-----+-----+\n",
      "|churn|count|\n",
      "+-----+-----+\n",
      "|    0|  174|\n",
      "|    1|   52|\n",
      "+-----+-----+\n",
      "\n"
     ]
    }
   ],
   "source": [
    "df.select(['userId', 'churn']).dropDuplicates().groupby('churn').count().show()"
   ]
  },
  {
   "cell_type": "code",
   "execution_count": 25,
   "metadata": {
    "ExecuteTime": {
     "end_time": "2021-02-04T20:27:33.608660Z",
     "start_time": "2021-02-04T20:27:18.461005Z"
    }
   },
   "outputs": [
    {
     "data": {
      "text/html": [
       "<div>\n",
       "<style scoped>\n",
       "    .dataframe tbody tr th:only-of-type {\n",
       "        vertical-align: middle;\n",
       "    }\n",
       "\n",
       "    .dataframe tbody tr th {\n",
       "        vertical-align: top;\n",
       "    }\n",
       "\n",
       "    .dataframe thead th {\n",
       "        text-align: right;\n",
       "    }\n",
       "</style>\n",
       "<table border=\"1\" class=\"dataframe\">\n",
       "  <thead>\n",
       "    <tr style=\"text-align: right;\">\n",
       "      <th></th>\n",
       "      <th>count</th>\n",
       "    </tr>\n",
       "  </thead>\n",
       "  <tbody>\n",
       "    <tr>\n",
       "      <th>length</th>\n",
       "      <td>58392</td>\n",
       "    </tr>\n",
       "    <tr>\n",
       "      <th>artist</th>\n",
       "      <td>58392</td>\n",
       "    </tr>\n",
       "    <tr>\n",
       "      <th>song</th>\n",
       "      <td>58392</td>\n",
       "    </tr>\n",
       "    <tr>\n",
       "      <th>location</th>\n",
       "      <td>8346</td>\n",
       "    </tr>\n",
       "    <tr>\n",
       "      <th>registration</th>\n",
       "      <td>8346</td>\n",
       "    </tr>\n",
       "    <tr>\n",
       "      <th>userAgent</th>\n",
       "      <td>8346</td>\n",
       "    </tr>\n",
       "    <tr>\n",
       "      <th>firstName</th>\n",
       "      <td>8346</td>\n",
       "    </tr>\n",
       "    <tr>\n",
       "      <th>gender</th>\n",
       "      <td>8346</td>\n",
       "    </tr>\n",
       "    <tr>\n",
       "      <th>lastName</th>\n",
       "      <td>8346</td>\n",
       "    </tr>\n",
       "    <tr>\n",
       "      <th>ts</th>\n",
       "      <td>0</td>\n",
       "    </tr>\n",
       "    <tr>\n",
       "      <th>status</th>\n",
       "      <td>0</td>\n",
       "    </tr>\n",
       "    <tr>\n",
       "      <th>sessionId</th>\n",
       "      <td>0</td>\n",
       "    </tr>\n",
       "    <tr>\n",
       "      <th>userId</th>\n",
       "      <td>0</td>\n",
       "    </tr>\n",
       "    <tr>\n",
       "      <th>page</th>\n",
       "      <td>0</td>\n",
       "    </tr>\n",
       "    <tr>\n",
       "      <th>method</th>\n",
       "      <td>0</td>\n",
       "    </tr>\n",
       "    <tr>\n",
       "      <th>level</th>\n",
       "      <td>0</td>\n",
       "    </tr>\n",
       "    <tr>\n",
       "      <th>itemInSession</th>\n",
       "      <td>0</td>\n",
       "    </tr>\n",
       "    <tr>\n",
       "      <th>auth</th>\n",
       "      <td>0</td>\n",
       "    </tr>\n",
       "    <tr>\n",
       "      <th>churn</th>\n",
       "      <td>0</td>\n",
       "    </tr>\n",
       "  </tbody>\n",
       "</table>\n",
       "</div>"
      ],
      "text/plain": [
       "               count\n",
       "length         58392\n",
       "artist         58392\n",
       "song           58392\n",
       "location        8346\n",
       "registration    8346\n",
       "userAgent       8346\n",
       "firstName       8346\n",
       "gender          8346\n",
       "lastName        8346\n",
       "ts                 0\n",
       "status             0\n",
       "sessionId          0\n",
       "userId             0\n",
       "page               0\n",
       "method             0\n",
       "level              0\n",
       "itemInSession      0\n",
       "auth               0\n",
       "churn              0"
      ]
     },
     "execution_count": 25,
     "metadata": {},
     "output_type": "execute_result"
    }
   ],
   "source": [
    "import pyspark.sql.functions as F\n",
    "def count_missings(spark_df,sort=True):\n",
    "    \"\"\"\n",
    "    Counts number of nulls and nans in each column\n",
    "    \"\"\"\n",
    "    df = spark_df.select([F.count(F.when(F.isnan(c) | F.isnull(c), c)).alias(c) for c in spark_df.columns]).toPandas()\n",
    "\n",
    "    if len(df) == 0:\n",
    "        print(\"There are no any missing values!\")\n",
    "        return None\n",
    "\n",
    "    if sort:\n",
    "        return df.rename(index={0: 'count'}).T.sort_values(\"count\",ascending=False)\n",
    "\n",
    "    return df\n",
    "\n",
    "count_missings(df)"
   ]
  },
  {
   "cell_type": "code",
   "execution_count": 26,
   "metadata": {
    "ExecuteTime": {
     "end_time": "2021-02-04T20:28:20.140307Z",
     "start_time": "2021-02-04T20:28:05.086404Z"
    }
   },
   "outputs": [
    {
     "data": {
      "text/html": [
       "<div>\n",
       "<style scoped>\n",
       "    .dataframe tbody tr th:only-of-type {\n",
       "        vertical-align: middle;\n",
       "    }\n",
       "\n",
       "    .dataframe tbody tr th {\n",
       "        vertical-align: top;\n",
       "    }\n",
       "\n",
       "    .dataframe thead th {\n",
       "        text-align: right;\n",
       "    }\n",
       "</style>\n",
       "<table border=\"1\" class=\"dataframe\">\n",
       "  <thead>\n",
       "    <tr style=\"text-align: right;\">\n",
       "      <th></th>\n",
       "      <th>count</th>\n",
       "    </tr>\n",
       "  </thead>\n",
       "  <tbody>\n",
       "    <tr>\n",
       "      <th>song</th>\n",
       "      <td>50046</td>\n",
       "    </tr>\n",
       "    <tr>\n",
       "      <th>length</th>\n",
       "      <td>50046</td>\n",
       "    </tr>\n",
       "    <tr>\n",
       "      <th>artist</th>\n",
       "      <td>50046</td>\n",
       "    </tr>\n",
       "    <tr>\n",
       "      <th>userId</th>\n",
       "      <td>0</td>\n",
       "    </tr>\n",
       "    <tr>\n",
       "      <th>page</th>\n",
       "      <td>0</td>\n",
       "    </tr>\n",
       "    <tr>\n",
       "      <th>userAgent</th>\n",
       "      <td>0</td>\n",
       "    </tr>\n",
       "    <tr>\n",
       "      <th>ts</th>\n",
       "      <td>0</td>\n",
       "    </tr>\n",
       "    <tr>\n",
       "      <th>status</th>\n",
       "      <td>0</td>\n",
       "    </tr>\n",
       "    <tr>\n",
       "      <th>sessionId</th>\n",
       "      <td>0</td>\n",
       "    </tr>\n",
       "    <tr>\n",
       "      <th>registration</th>\n",
       "      <td>0</td>\n",
       "    </tr>\n",
       "    <tr>\n",
       "      <th>location</th>\n",
       "      <td>0</td>\n",
       "    </tr>\n",
       "    <tr>\n",
       "      <th>method</th>\n",
       "      <td>0</td>\n",
       "    </tr>\n",
       "    <tr>\n",
       "      <th>level</th>\n",
       "      <td>0</td>\n",
       "    </tr>\n",
       "    <tr>\n",
       "      <th>lastName</th>\n",
       "      <td>0</td>\n",
       "    </tr>\n",
       "    <tr>\n",
       "      <th>itemInSession</th>\n",
       "      <td>0</td>\n",
       "    </tr>\n",
       "    <tr>\n",
       "      <th>gender</th>\n",
       "      <td>0</td>\n",
       "    </tr>\n",
       "    <tr>\n",
       "      <th>firstName</th>\n",
       "      <td>0</td>\n",
       "    </tr>\n",
       "    <tr>\n",
       "      <th>auth</th>\n",
       "      <td>0</td>\n",
       "    </tr>\n",
       "    <tr>\n",
       "      <th>churn</th>\n",
       "      <td>0</td>\n",
       "    </tr>\n",
       "  </tbody>\n",
       "</table>\n",
       "</div>"
      ],
      "text/plain": [
       "               count\n",
       "song           50046\n",
       "length         50046\n",
       "artist         50046\n",
       "userId             0\n",
       "page               0\n",
       "userAgent          0\n",
       "ts                 0\n",
       "status             0\n",
       "sessionId          0\n",
       "registration       0\n",
       "location           0\n",
       "method             0\n",
       "level              0\n",
       "lastName           0\n",
       "itemInSession      0\n",
       "gender             0\n",
       "firstName          0\n",
       "auth               0\n",
       "churn              0"
      ]
     },
     "execution_count": 26,
     "metadata": {},
     "output_type": "execute_result"
    }
   ],
   "source": [
    "df = df.dropna(thresh=13)\n",
    "count_missings(df)"
   ]
  },
  {
   "cell_type": "code",
   "execution_count": 28,
   "metadata": {
    "ExecuteTime": {
     "end_time": "2021-02-04T20:28:54.734558Z",
     "start_time": "2021-02-04T20:28:47.173624Z"
    }
   },
   "outputs": [
    {
     "name": "stdout",
     "output_type": "stream",
     "text": [
      "+------+\n",
      "|status|\n",
      "+------+\n",
      "|   307|\n",
      "|   404|\n",
      "|   200|\n",
      "+------+\n",
      "\n"
     ]
    }
   ],
   "source": [
    "df.select('status').dropDuplicates().show(50)"
   ]
  },
  {
   "cell_type": "code",
   "execution_count": 29,
   "metadata": {
    "ExecuteTime": {
     "end_time": "2021-02-04T20:29:09.392937Z",
     "start_time": "2021-02-04T20:29:02.580927Z"
    }
   },
   "outputs": [
    {
     "name": "stdout",
     "output_type": "stream",
     "text": [
      "+----------------+\n",
      "|            page|\n",
      "+----------------+\n",
      "|          Cancel|\n",
      "|Submit Downgrade|\n",
      "|     Thumbs Down|\n",
      "|          Logout|\n",
      "|   Save Settings|\n",
      "|      Add Friend|\n",
      "|       Thumbs Up|\n",
      "|  Submit Upgrade|\n",
      "+----------------+\n",
      "\n"
     ]
    }
   ],
   "source": [
    "df.where(df.status=='307').select('page').dropDuplicates().show()"
   ]
  },
  {
   "cell_type": "code",
   "execution_count": 31,
   "metadata": {
    "ExecuteTime": {
     "end_time": "2021-02-04T23:42:34.116142Z",
     "start_time": "2021-02-04T23:42:26.923751Z"
    }
   },
   "outputs": [
    {
     "name": "stdout",
     "output_type": "stream",
     "text": [
      "+---------------+--------------------+-------------+---------+-------------+-------------------+\n",
      "|           page|                song| registration|sessionId|           ts|               time|\n",
      "+---------------+--------------------+-------------+---------+-------------+-------------------+\n",
      "|       NextSong|           Rockpools|1538173362000|       29|1538352117000|2018-09-30 17:01:57|\n",
      "|       NextSong|   Time For Miracles|1538173362000|       29|1538352394000|2018-09-30 17:06:34|\n",
      "|       NextSong|Harder Better Fas...|1538173362000|       29|1538352676000|2018-09-30 17:11:16|\n",
      "|       NextSong|Passengers (Old A...|1538173362000|       29|1538352899000|2018-09-30 17:14:59|\n",
      "|Add to Playlist|                null|1538173362000|       29|1538352905000|2018-09-30 17:15:05|\n",
      "|       NextSong|          Fuck Kitty|1538173362000|       29|1538353084000|2018-09-30 17:18:04|\n",
      "|       NextSong|                Jade|1538173362000|       29|1538353218000|2018-09-30 17:20:18|\n",
      "|       NextSong|   So-Called Friends|1538173362000|       29|1538353441000|2018-09-30 17:24:01|\n",
      "|       NextSong|           Represent|1538173362000|       29|1538353687000|2018-09-30 17:28:07|\n",
      "|       NextSong|           Here I Am|1538173362000|       29|1538353909000|2018-09-30 17:31:49|\n",
      "|       NextSong|Rebirthing (Album...|1538173362000|       29|1538354132000|2018-09-30 17:35:32|\n",
      "|       NextSong|Dog Days Are Over...|1538173362000|       29|1538354365000|2018-09-30 17:39:25|\n",
      "|       NextSong|Tomorrow Is A Lon...|1538173362000|       29|1538354584000|2018-09-30 17:43:04|\n",
      "|       NextSong|    Halloween Spooks|1538173362000|       29|1538354806000|2018-09-30 17:46:46|\n",
      "|       NextSong|            Stronger|1538173362000|       29|1538354945000|2018-09-30 17:49:05|\n",
      "|       NextSong|   Dis Iz Brick City|1538173362000|       29|1538355256000|2018-09-30 17:54:16|\n",
      "|       NextSong|          Move Along|1538173362000|       29|1538355473000|2018-09-30 17:57:53|\n",
      "|       NextSong|           Manhattan|1538173362000|       29|1538355711000|2018-09-30 18:01:51|\n",
      "|       NextSong|                Undo|1538173362000|       29|1538355915000|2018-09-30 18:05:15|\n",
      "|       NextSong|     The Big Gundown|1538173362000|       29|1538356263000|2018-09-30 18:11:03|\n",
      "+---------------+--------------------+-------------+---------+-------------+-------------------+\n",
      "only showing top 20 rows\n",
      "\n"
     ]
    }
   ],
   "source": [
    "get_time = udf(lambda x: datetime.datetime.fromtimestamp(x / 1000.0).strftime('%Y-%m-%d %H:%M:%S'))\n",
    "df = df.withColumn('time', get_time(df.ts))\n",
    "df.filter(df.userId == '30').select(['page', 'song', 'registration', 'sessionId', 'ts', 'time']).sort('ts').show()"
   ]
  },
  {
   "cell_type": "code",
   "execution_count": null,
   "metadata": {
    "ExecuteTime": {
     "end_time": "2021-02-04T19:40:16.351578Z",
     "start_time": "2021-02-04T19:40:16.347630Z"
    }
   },
   "outputs": [],
   "source": []
  },
  {
   "cell_type": "code",
   "execution_count": 32,
   "metadata": {
    "ExecuteTime": {
     "end_time": "2021-02-04T23:42:45.554832Z",
     "start_time": "2021-02-04T23:42:41.331414Z"
    }
   },
   "outputs": [
    {
     "name": "stdout",
     "output_type": "stream",
     "text": [
      "+---------------+---------+-------------+-------------------+\n",
      "|           page|sessionId|           ts|               time|\n",
      "+---------------+---------+-------------+-------------------+\n",
      "|       NextSong|       29|1538352117000|2018-09-30 17:01:57|\n",
      "|       NextSong|       29|1538352394000|2018-09-30 17:06:34|\n",
      "|       NextSong|       29|1538352676000|2018-09-30 17:11:16|\n",
      "|       NextSong|       29|1538352899000|2018-09-30 17:14:59|\n",
      "|Add to Playlist|       29|1538352905000|2018-09-30 17:15:05|\n",
      "|       NextSong|       29|1538353084000|2018-09-30 17:18:04|\n",
      "|       NextSong|       29|1538353218000|2018-09-30 17:20:18|\n",
      "|       NextSong|       29|1538353441000|2018-09-30 17:24:01|\n",
      "|       NextSong|       29|1538353687000|2018-09-30 17:28:07|\n",
      "|       NextSong|       29|1538353909000|2018-09-30 17:31:49|\n",
      "|       NextSong|       29|1538354132000|2018-09-30 17:35:32|\n",
      "|       NextSong|       29|1538354365000|2018-09-30 17:39:25|\n",
      "|       NextSong|       29|1538354584000|2018-09-30 17:43:04|\n",
      "|       NextSong|       29|1538354806000|2018-09-30 17:46:46|\n",
      "|       NextSong|       29|1538354945000|2018-09-30 17:49:05|\n",
      "|       NextSong|       29|1538355256000|2018-09-30 17:54:16|\n",
      "|       NextSong|       29|1538355473000|2018-09-30 17:57:53|\n",
      "|       NextSong|       29|1538355711000|2018-09-30 18:01:51|\n",
      "|       NextSong|       29|1538355915000|2018-09-30 18:05:15|\n",
      "|       NextSong|       29|1538356263000|2018-09-30 18:11:03|\n",
      "|       NextSong|       29|1538356523000|2018-09-30 18:15:23|\n",
      "|    Thumbs Down|       29|1538356524000|2018-09-30 18:15:24|\n",
      "|       NextSong|       29|1538356707000|2018-09-30 18:18:27|\n",
      "|       NextSong|       29|1538356903000|2018-09-30 18:21:43|\n",
      "|       NextSong|       29|1538357223000|2018-09-30 18:27:03|\n",
      "|       NextSong|       29|1538357452000|2018-09-30 18:30:52|\n",
      "|       NextSong|       29|1538357648000|2018-09-30 18:34:08|\n",
      "|      Thumbs Up|       29|1538357649000|2018-09-30 18:34:09|\n",
      "|       NextSong|       29|1538357990000|2018-09-30 18:39:50|\n",
      "|      Thumbs Up|       29|1538357991000|2018-09-30 18:39:51|\n",
      "|       NextSong|       29|1538358314000|2018-09-30 18:45:14|\n",
      "|       NextSong|       29|1538358532000|2018-09-30 18:48:52|\n",
      "|       NextSong|       29|1538358761000|2018-09-30 18:52:41|\n",
      "|       NextSong|       29|1538359054000|2018-09-30 18:57:34|\n",
      "|       NextSong|       29|1538359320000|2018-09-30 19:02:00|\n",
      "|       NextSong|       29|1538360720000|2018-09-30 19:25:20|\n",
      "|    Roll Advert|       29|1538360737000|2018-09-30 19:25:37|\n",
      "|       NextSong|       29|1538360905000|2018-09-30 19:28:25|\n",
      "|       NextSong|       29|1538361107000|2018-09-30 19:31:47|\n",
      "|       NextSong|       29|1538361372000|2018-09-30 19:36:12|\n",
      "|       NextSong|       29|1538361540000|2018-09-30 19:39:00|\n",
      "|Add to Playlist|       29|1538361575000|2018-09-30 19:39:35|\n",
      "|       NextSong|      264|1538810630000|2018-10-06 00:23:50|\n",
      "|     Add Friend|      264|1538810631000|2018-10-06 00:23:51|\n",
      "|           Home|      532|1538948226000|2018-10-07 14:37:06|\n",
      "|       NextSong|      532|1538948240000|2018-10-07 14:37:20|\n",
      "|       NextSong|      532|1538948591000|2018-10-07 14:43:11|\n",
      "|       NextSong|      532|1538948837000|2018-10-07 14:47:17|\n",
      "|       NextSong|      532|1538949034000|2018-10-07 14:50:34|\n",
      "|       NextSong|      532|1538949225000|2018-10-07 14:53:45|\n",
      "|       NextSong|      532|1538949548000|2018-10-07 14:59:08|\n",
      "|       NextSong|      532|1538949893000|2018-10-07 15:04:53|\n",
      "|       NextSong|      532|1538950072000|2018-10-07 15:07:52|\n",
      "|       NextSong|      532|1538950302000|2018-10-07 15:11:42|\n",
      "|       NextSong|      532|1538950541000|2018-10-07 15:15:41|\n",
      "|           Help|      532|1538950549000|2018-10-07 15:15:49|\n",
      "|           Home|      532|1538950593000|2018-10-07 15:16:33|\n",
      "|       NextSong|      532|1538950812000|2018-10-07 15:20:12|\n",
      "|       NextSong|      532|1538951123000|2018-10-07 15:25:23|\n",
      "|       NextSong|      532|1538951327000|2018-10-07 15:28:47|\n",
      "|       NextSong|      532|1538951566000|2018-10-07 15:32:46|\n",
      "|       NextSong|      532|1538951758000|2018-10-07 15:35:58|\n",
      "|       NextSong|      532|1538951976000|2018-10-07 15:39:36|\n",
      "|       NextSong|      532|1538952145000|2018-10-07 15:42:25|\n",
      "|       NextSong|      532|1538952381000|2018-10-07 15:46:21|\n",
      "|       NextSong|      532|1538952621000|2018-10-07 15:50:21|\n",
      "|       NextSong|      532|1538952837000|2018-10-07 15:53:57|\n",
      "|       NextSong|      532|1538953091000|2018-10-07 15:58:11|\n",
      "|       NextSong|      532|1538953282000|2018-10-07 16:01:22|\n",
      "|       NextSong|      532|1538953507000|2018-10-07 16:05:07|\n",
      "|      Downgrade|      532|1538953526000|2018-10-07 16:05:26|\n",
      "|       NextSong|      532|1538953759000|2018-10-07 16:09:19|\n",
      "|       NextSong|      532|1538953924000|2018-10-07 16:12:04|\n",
      "|       NextSong|      532|1538954176000|2018-10-07 16:16:16|\n",
      "|       NextSong|      532|1538954314000|2018-10-07 16:18:34|\n",
      "|       NextSong|      532|1538954495000|2018-10-07 16:21:35|\n",
      "|       NextSong|      532|1538954728000|2018-10-07 16:25:28|\n",
      "|       NextSong|      532|1538954902000|2018-10-07 16:28:22|\n",
      "|       NextSong|      532|1538955151000|2018-10-07 16:32:31|\n",
      "|       NextSong|      532|1538955377000|2018-10-07 16:36:17|\n",
      "|       NextSong|      532|1538955595000|2018-10-07 16:39:55|\n",
      "|       NextSong|      532|1538955835000|2018-10-07 16:43:55|\n",
      "|       NextSong|      532|1538956036000|2018-10-07 16:47:16|\n",
      "|       NextSong|      532|1538956230000|2018-10-07 16:50:30|\n",
      "|       NextSong|      532|1538956475000|2018-10-07 16:54:35|\n",
      "|       NextSong|      532|1538956816000|2018-10-07 17:00:16|\n",
      "|       NextSong|      532|1538957055000|2018-10-07 17:04:15|\n",
      "|       NextSong|      532|1538957228000|2018-10-07 17:07:08|\n",
      "|       NextSong|      532|1538957589000|2018-10-07 17:13:09|\n",
      "|       NextSong|      532|1538957763000|2018-10-07 17:16:03|\n",
      "|       NextSong|      532|1538957960000|2018-10-07 17:19:20|\n",
      "|       NextSong|      532|1538958090000|2018-10-07 17:21:30|\n",
      "|       NextSong|      532|1538958387000|2018-10-07 17:26:27|\n",
      "|       NextSong|      532|1538958666000|2018-10-07 17:31:06|\n",
      "|       NextSong|      532|1538958923000|2018-10-07 17:35:23|\n",
      "|       NextSong|      532|1538959027000|2018-10-07 17:37:07|\n",
      "|       NextSong|      532|1538959280000|2018-10-07 17:41:20|\n",
      "|       NextSong|      532|1538959533000|2018-10-07 17:45:33|\n",
      "|       NextSong|      532|1538959963000|2018-10-07 17:52:43|\n",
      "|       NextSong|      532|1538960213000|2018-10-07 17:56:53|\n",
      "+---------------+---------+-------------+-------------------+\n",
      "only showing top 100 rows\n",
      "\n"
     ]
    }
   ],
   "source": [
    "df.where(df.userId == '30').select(['page', 'sessionId', 'ts', 'time']).show(100)"
   ]
  },
  {
   "cell_type": "code",
   "execution_count": 21,
   "metadata": {
    "ExecuteTime": {
     "end_time": "2021-02-04T19:42:07.924198Z",
     "start_time": "2021-02-04T19:42:07.854506Z"
    }
   },
   "outputs": [],
   "source": [
    "\n",
    "\n",
    "cancel = udf(lambda cancled : int(cancled == 'Cancellation Confirmation'), IntegerType())\n",
    "\n",
    "user_window = Window \\\n",
    "    .partitionBy('userId') \\\n",
    "    .orderBy(desc('ts')) \\\n",
    "    .rangeBetween(Window.unboundedPreceding, 0)\n",
    "\n",
    "chu = df \\\n",
    "    .select('userId', 'page', 'ts') \\\n",
    "    .withColumn('churn', cancel(col('page'))).withColumn('churned', Fsum(col('churn')).over(user_window))"
   ]
  },
  {
   "cell_type": "code",
   "execution_count": 22,
   "metadata": {
    "ExecuteTime": {
     "end_time": "2021-02-04T19:42:15.215159Z",
     "start_time": "2021-02-04T19:42:07.933012Z"
    }
   },
   "outputs": [
    {
     "data": {
      "text/plain": [
       "52"
      ]
     },
     "execution_count": 22,
     "metadata": {},
     "output_type": "execute_result"
    }
   ],
   "source": []
  },
  {
   "cell_type": "markdown",
   "metadata": {},
   "source": [
    "# Feature Engineering\n",
    "Once you've familiarized yourself with the data, build out the features you find promising to train your model on. To work with the full dataset, you can follow the following steps.\n",
    "- Write a script to extract the necessary features from the smaller subset of data\n",
    "- Ensure that your script is scalable, using the best practices discussed in Lesson 3\n",
    "- Try your script on the full data set, debugging your script if necessary\n",
    "\n",
    "If you are working in the classroom workspace, you can just extract features based on the small subset of data contained here. Be sure to transfer over this work to the larger dataset when you work on your Spark cluster."
   ]
  },
  {
   "cell_type": "code",
   "execution_count": null,
   "metadata": {},
   "outputs": [],
   "source": []
  },
  {
   "cell_type": "markdown",
   "metadata": {},
   "source": [
    "# Modeling\n",
    "Split the full dataset into train, test, and validation sets. Test out several of the machine learning methods you learned. Evaluate the accuracy of the various models, tuning parameters as necessary. Determine your winning model based on test accuracy and report results on the validation set. Since the churned users are a fairly small subset, I suggest using F1 score as the metric to optimize."
   ]
  },
  {
   "cell_type": "code",
   "execution_count": null,
   "metadata": {},
   "outputs": [],
   "source": []
  },
  {
   "cell_type": "markdown",
   "metadata": {},
   "source": [
    "# Final Steps\n",
    "Clean up your code, adding comments and renaming variables to make the code easier to read and maintain. Refer to the Spark Project Overview page and Data Scientist Capstone Project Rubric to make sure you are including all components of the capstone project and meet all expectations. Remember, this includes thorough documentation in a README file in a Github repository, as well as a web app or blog post."
   ]
  },
  {
   "cell_type": "code",
   "execution_count": null,
   "metadata": {},
   "outputs": [],
   "source": []
  }
 ],
 "metadata": {
  "hide_input": false,
  "kernelspec": {
   "display_name": "Python 3",
   "language": "python",
   "name": "python3"
  },
  "language_info": {
   "codemirror_mode": {
    "name": "ipython",
    "version": 3
   },
   "file_extension": ".py",
   "mimetype": "text/x-python",
   "name": "python",
   "nbconvert_exporter": "python",
   "pygments_lexer": "ipython3",
   "version": "3.8.5"
  },
  "toc": {
   "base_numbering": 1,
   "nav_menu": {},
   "number_sections": true,
   "sideBar": true,
   "skip_h1_title": false,
   "title_cell": "Table of Contents",
   "title_sidebar": "Contents",
   "toc_cell": false,
   "toc_position": {
    "height": "calc(100% - 180px)",
    "left": "10px",
    "top": "150px",
    "width": "383.59375px"
   },
   "toc_section_display": true,
   "toc_window_display": true
  },
  "varInspector": {
   "cols": {
    "lenName": 16,
    "lenType": 16,
    "lenVar": 40
   },
   "kernels_config": {
    "python": {
     "delete_cmd_postfix": "",
     "delete_cmd_prefix": "del ",
     "library": "var_list.py",
     "varRefreshCmd": "print(var_dic_list())"
    },
    "r": {
     "delete_cmd_postfix": ") ",
     "delete_cmd_prefix": "rm(",
     "library": "var_list.r",
     "varRefreshCmd": "cat(var_dic_list()) "
    }
   },
   "types_to_exclude": [
    "module",
    "function",
    "builtin_function_or_method",
    "instance",
    "_Feature"
   ],
   "window_display": false
  }
 },
 "nbformat": 4,
 "nbformat_minor": 2
}
