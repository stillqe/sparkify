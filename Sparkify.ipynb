{
 "cells": [
  {
   "cell_type": "markdown",
   "metadata": {},
   "source": [
    "# Sparkify Project Workspace\n",
    "This workspace contains a tiny subset (128MB) of the full dataset available (12GB)."
   ]
  },
  {
   "cell_type": "code",
   "execution_count": 23,
   "metadata": {
    "ExecuteTime": {
     "end_time": "2021-02-23T00:49:32.626852Z",
     "start_time": "2021-02-23T00:49:32.621669Z"
    }
   },
   "outputs": [],
   "source": [
    "# import libraries\n",
    "from pyspark.sql import SparkSession\n",
    "from pyspark.sql.functions import avg, col, concat, count, desc, explode, lit, min, max, sum, split, stddev, udf, when, lag, isnull\n",
    "\n",
    "from pyspark.sql.types import IntegerType\n",
    "from pyspark.ml.feature import RegexTokenizer, VectorAssembler, StandardScaler\n",
    "from pyspark.ml.regression import LinearRegression\n",
    "from pyspark.ml.classification import LogisticRegression, DecisionTreeClassifier, GBTClassifier, RandomForestClassifier\n",
    "from pyspark.ml.clustering import KMeans\n",
    "from pyspark.ml import Pipeline\n",
    "from pyspark.ml.evaluation import MulticlassClassificationEvaluator\n",
    "from pyspark.mllib.evaluation import MulticlassMetrics\n",
    "from pyspark.ml.tuning import CrossValidator, ParamGridBuilder\n",
    "\n",
    "from pyspark.sql import Window\n",
    "\n",
    "import datetime\n",
    "\n",
    "import os\n",
    "\n",
    "# Set spark environments\n",
    "os.environ['PYSPARK_PYTHON'] = '/Users/stillqe/anaconda/envs/Sparkify/bin/python3'\n",
    "os.environ['PYSPARK_DRIVER_PYTHON'] = '/Users/stillqe/anaconda/envs/Sparkify/bin/python3'"
   ]
  },
  {
   "cell_type": "code",
   "execution_count": 2,
   "metadata": {
    "ExecuteTime": {
     "end_time": "2021-02-23T00:39:57.928710Z",
     "start_time": "2021-02-23T00:39:52.499697Z"
    }
   },
   "outputs": [],
   "source": [
    "# create a Spark session\n",
    "spark = SparkSession.builder \\\n",
    "    .master(\"local\") \\\n",
    "    .appName(\"Sparkify\") \\\n",
    "    .getOrCreate()"
   ]
  },
  {
   "cell_type": "markdown",
   "metadata": {},
   "source": [
    "# Load and Clean Dataset\n",
    "In this workspace, the mini-dataset file is `mini_sparkify_event_data.json`. Load and clean the dataset, checking for invalid or missing data - for example, records without userids or sessionids. "
   ]
  },
  {
   "cell_type": "code",
   "execution_count": 3,
   "metadata": {
    "ExecuteTime": {
     "end_time": "2021-02-23T00:40:05.319934Z",
     "start_time": "2021-02-23T00:39:57.949011Z"
    }
   },
   "outputs": [
    {
     "name": "stdout",
     "output_type": "stream",
     "text": [
      "root\n",
      " |-- artist: string (nullable = true)\n",
      " |-- auth: string (nullable = true)\n",
      " |-- firstName: string (nullable = true)\n",
      " |-- gender: string (nullable = true)\n",
      " |-- itemInSession: long (nullable = true)\n",
      " |-- lastName: string (nullable = true)\n",
      " |-- length: double (nullable = true)\n",
      " |-- level: string (nullable = true)\n",
      " |-- location: string (nullable = true)\n",
      " |-- method: string (nullable = true)\n",
      " |-- page: string (nullable = true)\n",
      " |-- registration: long (nullable = true)\n",
      " |-- sessionId: long (nullable = true)\n",
      " |-- song: string (nullable = true)\n",
      " |-- status: long (nullable = true)\n",
      " |-- ts: long (nullable = true)\n",
      " |-- userAgent: string (nullable = true)\n",
      " |-- userId: string (nullable = true)\n",
      "\n",
      "(286500, 18)\n"
     ]
    }
   ],
   "source": [
    "sample = 'mini_sparkify_event_data.json'\n",
    "df = spark.read.json(sample)\n",
    "df.printSchema()\n",
    "print((df.count(), len(df.columns)))"
   ]
  },
  {
   "cell_type": "code",
   "execution_count": 5,
   "metadata": {
    "ExecuteTime": {
     "end_time": "2021-02-23T00:40:13.564647Z",
     "start_time": "2021-02-23T00:40:13.559824Z"
    }
   },
   "outputs": [],
   "source": [
    "def count_missings(spark_df):\n",
    "    spark_df.select([count(when(isnull(c), c)).alias(c) for c in spark_df.columns]).show()\n",
    "\n",
    "count_missings(df)"
   ]
  },
  {
   "cell_type": "code",
   "execution_count": 10,
   "metadata": {
    "ExecuteTime": {
     "end_time": "2021-02-23T00:41:05.368170Z",
     "start_time": "2021-02-23T00:41:02.967348Z"
    }
   },
   "outputs": [
    {
     "name": "stdout",
     "output_type": "stream",
     "text": [
      "+------+----+---------+------+-------------+--------+------+-----+--------+------+----+------------+---------+-----+------+---+---------+------+------+--------+----------+---+--------+------+-----+----+---------+-------+-------+---+\n",
      "|artist|auth|firstName|gender|itemInSession|lastName|length|level|location|method|page|registration|sessionId| song|status| ts|userAgent|userId|cancel|thumpsup|thumpsdown| ad|playlist|friend|error|home|downgrade|upgrade|setting|day|\n",
      "+------+----+---------+------+-------------+--------+------+-----+--------+------+----+------------+---------+-----+------+---+---------+------+------+--------+----------+---+--------+------+-----+----+---------+-------+-------+---+\n",
      "| 50046|   0|        0|     0|            0|       0| 50046|    0|       0|     0|   0|           0|        0|50046|     0|  0|        0|     0|     0|       0|         0|  0|       0|     0|    0|   0|        0|      0|      0|  0|\n",
      "+------+----+---------+------+-------------+--------+------+-----+--------+------+----+------------+---------+-----+------+---+---------+------+------+--------+----------+---+--------+------+-----+----+---------+-------+-------+---+\n",
      "\n"
     ]
    }
   ],
   "source": [
    "df = df.where(df.userId != \"\")\n",
    "count_missings(df)"
   ]
  },
  {
   "cell_type": "markdown",
   "metadata": {},
   "source": [
    "# Exploratory Data Analysis\n",
    "\n",
    "### Define Churn\n",
    "\n",
    "Churn is more like dynamic feature rather than static. Some users are stick to the service from the begining but they can be likely to churn at certain time period. So focus on behavioral events for certain period, not just entire service life time. \n",
    "\n",
    "User characteristics change over time. The probability of a user churn also changes over time. Therefore, it is more appropriate to view the user's characteristics in multiple time windows rather than consolidating them with one input without considering changes over time.\n",
    "\n",
    "You need to know in advance when predicting churn. That way, you can act ahead. It is practically meaningless to make predictions by looking at the records up to the moment of churn. After a certain period of time, for example, by looking at the records up to 4 weeks ago, you have to learn whether it is churn or not after 4 weeks. "
   ]
  },
  {
   "cell_type": "markdown",
   "metadata": {},
   "source": [
    "### Explore Data\n",
    "Once you've defined churn, perform some exploratory data analysis to observe the behavior for users who stayed vs users who churned. You can start by exploring aggregates on these two groups of users, observing how much of a specific action they experienced per a certain time unit or number of songs played."
   ]
  },
  {
   "cell_type": "code",
   "execution_count": 4,
   "metadata": {
    "ExecuteTime": {
     "end_time": "2021-02-23T00:40:12.599615Z",
     "start_time": "2021-02-23T00:40:09.420633Z"
    }
   },
   "outputs": [
    {
     "name": "stdout",
     "output_type": "stream",
     "text": [
      "+--------------------+\n",
      "|                page|\n",
      "+--------------------+\n",
      "|              Cancel|\n",
      "|    Submit Downgrade|\n",
      "|         Thumbs Down|\n",
      "|                Home|\n",
      "|           Downgrade|\n",
      "|         Roll Advert|\n",
      "|              Logout|\n",
      "|       Save Settings|\n",
      "|Cancellation Conf...|\n",
      "|               About|\n",
      "| Submit Registration|\n",
      "|            Settings|\n",
      "|               Login|\n",
      "|            Register|\n",
      "|     Add to Playlist|\n",
      "|          Add Friend|\n",
      "|            NextSong|\n",
      "|           Thumbs Up|\n",
      "|                Help|\n",
      "|             Upgrade|\n",
      "|               Error|\n",
      "|      Submit Upgrade|\n",
      "+--------------------+\n",
      "\n"
     ]
    }
   ],
   "source": [
    "df.select('page').dropDuplicates().show(30)"
   ]
  },
  {
   "cell_type": "code",
   "execution_count": 6,
   "metadata": {
    "ExecuteTime": {
     "end_time": "2021-02-23T00:40:20.902823Z",
     "start_time": "2021-02-23T00:40:18.831967Z"
    }
   },
   "outputs": [
    {
     "name": "stdout",
     "output_type": "stream",
     "text": [
      "+------+---------+---------+------+-------------+--------+------+-----+--------------------+------+--------------------+-------------+---------+----+------+-------------+--------------------+------+\n",
      "|artist|     auth|firstName|gender|itemInSession|lastName|length|level|            location|method|                page| registration|sessionId|song|status|           ts|           userAgent|userId|\n",
      "+------+---------+---------+------+-------------+--------+------+-----+--------------------+------+--------------------+-------------+---------+----+------+-------------+--------------------+------+\n",
      "|  null|Logged In|  Delaney|     F|           22|   Perez|  null| free|Miami-Fort Lauder...|   PUT|              Cancel|1534627466000|       53|null|   307|1538498074000|\"Mozilla/5.0 (Mac...|100001|\n",
      "|  null|Cancelled|  Delaney|     F|           23|   Perez|  null| free|Miami-Fort Lauder...|   GET|Cancellation Conf...|1534627466000|       53|null|   200|1538498205000|\"Mozilla/5.0 (Mac...|100001|\n",
      "|  null|Logged In|   Nevaeh|     F|           80|   Jones|  null| free|Miami-Fort Lauder...|   PUT|              Cancel|1537309344000|       86|null|   307|1539274776000|Mozilla/5.0 (Wind...|100003|\n",
      "|  null|Cancelled|   Nevaeh|     F|           81|   Jones|  null| free|Miami-Fort Lauder...|   GET|Cancellation Conf...|1537309344000|       86|null|   200|1539274781000|Mozilla/5.0 (Wind...|100003|\n",
      "|  null|Logged In|    Cason|     M|           72|   Smith|  null| free|          Monroe, LA|   PUT|              Cancel|1532610926000|      115|null|   307|1539971810000|\"Mozilla/5.0 (Mac...|100005|\n",
      "|  null|Cancelled|    Cason|     M|           73|   Smith|  null| free|          Monroe, LA|   GET|Cancellation Conf...|1532610926000|      115|null|   200|1539971825000|\"Mozilla/5.0 (Mac...|100005|\n",
      "|  null|Logged In|    Leyla|     F|           44|  Barnes|  null| free|           Flint, MI|   PUT|              Cancel|1537964483000|        6|null|   307|1538753067000|\"Mozilla/5.0 (Win...|100006|\n",
      "|  null|Cancelled|    Leyla|     F|           45|  Barnes|  null| free|           Flint, MI|   GET|Cancellation Conf...|1537964483000|        6|null|   200|1538753070000|\"Mozilla/5.0 (Win...|100006|\n",
      "|  null|Logged In|    Piper|     F|          200|    Cook|  null| paid|Little Rock-North...|   PUT|              Cancel|1533522419000|      205|null|   307|1543491907000|\"Mozilla/5.0 (Win...|100007|\n",
      "|  null|Cancelled|    Piper|     F|          201|    Cook|  null| paid|Little Rock-North...|   GET|Cancellation Conf...|1533522419000|      205|null|   200|1543491909000|\"Mozilla/5.0 (Win...|100007|\n",
      "|  null|Logged In|     Troy|     M|           60|  Mathis|  null| free|San Francisco-Oak...|   PUT|              Cancel|1537376437000|      145|null|   307|1540611085000|\"Mozilla/5.0 (Win...|100009|\n",
      "|  null|Cancelled|     Troy|     M|           61|  Mathis|  null| free|San Francisco-Oak...|   GET|Cancellation Conf...|1537376437000|      145|null|   200|1540611104000|\"Mozilla/5.0 (Win...|100009|\n",
      "|  null|Logged In|Sebastian|     M|           21|    Ball|  null| free|          Albany, OR|   PUT|              Cancel|1537970819000|       40|null|   307|1538417064000|Mozilla/5.0 (Wind...|100011|\n",
      "|  null|Cancelled|Sebastian|     M|           22|    Ball|  null| free|          Albany, OR|   GET|Cancellation Conf...|1537970819000|       40|null|   200|1538417085000|Mozilla/5.0 (Wind...|100011|\n",
      "|  null|Logged In|   Daniel|     M|           73|   Marks|  null| free|Chicago-Napervill...|   PUT|              Cancel|1537381154000|      156|null|   307|1541100897000|\"Mozilla/5.0 (Mac...|100012|\n",
      "|  null|Cancelled|   Daniel|     M|           74|   Marks|  null| free|Chicago-Napervill...|   GET|Cancellation Conf...|1537381154000|      156|null|   200|1541100900000|\"Mozilla/5.0 (Mac...|100012|\n",
      "|  null|Logged In|     Cali|     F|           50|   Brown|  null| paid|Cleveland-Elyria, OH|   PUT|              Cancel|1537367773000|      165|null|   307|1541184785000|\"Mozilla/5.0 (Win...|100013|\n",
      "|  null|Cancelled|     Cali|     F|           51|   Brown|  null| paid|Cleveland-Elyria, OH|   GET|Cancellation Conf...|1537367773000|      165|null|   200|1541184816000|\"Mozilla/5.0 (Win...|100013|\n",
      "|  null|Logged In|  Rodrigo|     M|           72|   Carey|  null| paid|New York-Newark-J...|   PUT|              Cancel|1535389443000|      185|null|   307|1542740642000|\"Mozilla/5.0 (Win...|100014|\n",
      "|  null|Cancelled|  Rodrigo|     M|           73|   Carey|  null| paid|New York-Newark-J...|   GET|Cancellation Conf...|1535389443000|      185|null|   200|1542740649000|\"Mozilla/5.0 (Win...|100014|\n",
      "+------+---------+---------+------+-------------+--------+------+-----+--------------------+------+--------------------+-------------+---------+----+------+-------------+--------------------+------+\n",
      "only showing top 20 rows\n",
      "\n"
     ]
    }
   ],
   "source": [
    "df.where((df.page=='Cancel') | (df.page=='Cancellation Confirmation')).orderBy('userID', 'ts').show()"
   ]
  },
  {
   "cell_type": "code",
   "execution_count": 7,
   "metadata": {
    "ExecuteTime": {
     "end_time": "2021-02-23T00:40:24.786736Z",
     "start_time": "2021-02-23T00:40:21.893170Z"
    }
   },
   "outputs": [
    {
     "name": "stdout",
     "output_type": "stream",
     "text": [
      "+------+-----------+\n",
      "|gender|count(song)|\n",
      "+------+-----------+\n",
      "|     F|     126696|\n",
      "|     M|     101412|\n",
      "+------+-----------+\n",
      "\n"
     ]
    }
   ],
   "source": [
    "df.where(df.page=='NextSong').groupBy('gender').agg({'song':'count'}).show()"
   ]
  },
  {
   "cell_type": "code",
   "execution_count": null,
   "metadata": {
    "ExecuteTime": {
     "end_time": "2021-02-23T00:40:24.817773Z",
     "start_time": "2021-02-23T00:40:22.654Z"
    }
   },
   "outputs": [],
   "source": [
    "df.filter(df.page == 'NextSong') \\\n",
    "    .select('Artist') \\\n",
    "    .groupBy('Artist') \\\n",
    "    .agg({'Artist':'count'}) \\\n",
    "    .withColumnRenamed('count(Artist)', 'Artistcount') \\\n",
    "    .sort(desc('Artistcount')) \\\n",
    "    .show(5)"
   ]
  },
  {
   "cell_type": "code",
   "execution_count": 8,
   "metadata": {
    "ExecuteTime": {
     "end_time": "2021-02-23T00:40:41.980111Z",
     "start_time": "2021-02-23T00:40:39.644006Z"
    }
   },
   "outputs": [
    {
     "name": "stdout",
     "output_type": "stream",
     "text": [
      "+--------------------+\n",
      "|                page|\n",
      "+--------------------+\n",
      "|              Cancel|\n",
      "|    Submit Downgrade|\n",
      "|         Thumbs Down|\n",
      "|                Home|\n",
      "|           Downgrade|\n",
      "|         Roll Advert|\n",
      "|              Logout|\n",
      "|       Save Settings|\n",
      "|Cancellation Conf...|\n",
      "|               About|\n",
      "| Submit Registration|\n",
      "|            Settings|\n",
      "|               Login|\n",
      "|            Register|\n",
      "|     Add to Playlist|\n",
      "|          Add Friend|\n",
      "|            NextSong|\n",
      "|           Thumbs Up|\n",
      "|                Help|\n",
      "|             Upgrade|\n",
      "|               Error|\n",
      "|      Submit Upgrade|\n",
      "+--------------------+\n",
      "\n"
     ]
    }
   ],
   "source": [
    "df.select('page').dropDuplicates().show(30)"
   ]
  },
  {
   "cell_type": "code",
   "execution_count": null,
   "metadata": {
    "ExecuteTime": {
     "end_time": "2021-02-10T00:56:55.431530Z",
     "start_time": "2021-02-10T00:56:55.415192Z"
    }
   },
   "outputs": [],
   "source": []
  },
  {
   "cell_type": "code",
   "execution_count": 9,
   "metadata": {
    "ExecuteTime": {
     "end_time": "2021-02-23T00:40:58.701459Z",
     "start_time": "2021-02-23T00:40:58.354277Z"
    }
   },
   "outputs": [],
   "source": [
    "df = df.withColumn('cancel', when(df.page == 'Cancellation Confirmation', 1).otherwise(0)) \\\n",
    "    .withColumn('thumpsup', when(df.page == 'Thumbs Up', 1).otherwise(0)) \\\n",
    "    .withColumn('thumpsdown', when(df.page == 'Thumbs Down', 1).otherwise(0)) \\\n",
    "    .withColumn('ad', when(df.page == 'Roll Advert', 1).otherwise(0)) \\\n",
    "    .withColumn('playlist', when(df.page == 'Add to Playlist', 1).otherwise(0)) \\\n",
    "    .withColumn('friend', when(df.page == 'Add Friend', 1).otherwise(0)) \\\n",
    "    .withColumn('error', when(df.page == 'Error', 1).otherwise(0)) \\\n",
    "    .withColumn('home', when(df.page == 'Home', 1).otherwise(0)) \\\n",
    "    .withColumn('downgrade', when(df.page == 'Downgrade', 1).otherwise(0)) \\\n",
    "    .withColumn('upgrade', when(df.page == 'Upgrade', 1).otherwise(0)) \\\n",
    "    .withColumn('setting', when(df.page == 'Save Settings', 1).otherwise(0)) \\\n",
    "    .withColumn('ts', col('ts')/1000) \\\n",
    "    .withColumn('registration', col('registration')/1000) \\\n",
    "    .withColumn('day', ((col('ts')-col('registration'))/(60*60*24)).cast(IntegerType()))"
   ]
  },
  {
   "cell_type": "markdown",
   "metadata": {},
   "source": [
    "### Aggregate\n",
    "\n",
    "How to aggregate historical data into a single row?\n"
   ]
  },
  {
   "cell_type": "code",
   "execution_count": 11,
   "metadata": {
    "ExecuteTime": {
     "end_time": "2021-02-23T00:41:18.819353Z",
     "start_time": "2021-02-23T00:41:18.730802Z"
    }
   },
   "outputs": [],
   "source": [
    "\n",
    "\n",
    "sessions = df.groupBy('userId', 'sessionId').agg(count('song').alias('play'),\n",
    "                                                 max('cancel').alias('churn'),\n",
    "                                            min('day').alias('day'),\n",
    "                                            min('ts').alias('start'), \n",
    "                                            max('ts').alias('end'),\n",
    "                                           max('cancel').alias('cancel'),\n",
    "                                           sum('thumpsup').alias('thumpsup'),\n",
    "                                           sum('thumpsdown').alias('thumpsdown'),\n",
    "                                           sum('ad').alias('ads'),\n",
    "                                           sum('playlist').alias('playlists'),\n",
    "                                           sum('friend').alias('friends'),\n",
    "                                           sum('error').alias('errors'),\n",
    "                                           sum('setting').alias('setting')) \\\n",
    "    .withColumn('duration', (col('end') - col('start')).cast(IntegerType()))\n"
   ]
  },
  {
   "cell_type": "code",
   "execution_count": 12,
   "metadata": {
    "ExecuteTime": {
     "end_time": "2021-02-23T00:41:20.170806Z",
     "start_time": "2021-02-23T00:41:20.038363Z"
    }
   },
   "outputs": [],
   "source": [
    "windowSpec = Window.partitionBy('userId').orderBy('start')\n",
    "userWindow = Window.partitionBy('userId')\n",
    "sessions = sessions.withColumn('gap', col('day') - lag('day', 1, 0).over(windowSpec))\n",
    "sessions = sessions.withColumn('churn', max('cancel').over(userWindow))\n",
    "sessions = sessions.withColumn('last', max('day').over(userWindow))\n",
    "#It is practically not useful to predict churning with entire records including right before churning. \n",
    "# Exclude the record from 30 days before last sessions.\n",
    "sessions = sessions.withColumn('first', min('day').over(userWindow)) \\\n",
    "                   .withColumn('last', max('day').over(userWindow))"
   ]
  },
  {
   "cell_type": "markdown",
   "metadata": {},
   "source": [
    "It is practically not useful to predict churning with data "
   ]
  },
  {
   "cell_type": "code",
   "execution_count": 13,
   "metadata": {
    "ExecuteTime": {
     "end_time": "2021-02-23T00:41:22.656602Z",
     "start_time": "2021-02-23T00:41:22.609967Z"
    }
   },
   "outputs": [],
   "source": [
    "sessions = sessions.where(sessions.day < (sessions.last-30))\n",
    "sessions = sessions.withColumn('elast', max('day').over(userWindow))\n",
    "sessions = sessions.withColumn('span', col('elast')-col('first'))\n"
   ]
  },
  {
   "cell_type": "code",
   "execution_count": 14,
   "metadata": {
    "ExecuteTime": {
     "end_time": "2021-02-23T00:41:30.812986Z",
     "start_time": "2021-02-23T00:41:23.848157Z"
    }
   },
   "outputs": [
    {
     "name": "stdout",
     "output_type": "stream",
     "text": [
      "+------+---------+----+-----+---+-------------+-------------+------+--------+----------+---+---------+-------+------+-------+--------+---+----+-----+-----+----+------+\n",
      "|userId|sessionId|play|churn|day|        start|          end|cancel|thumpsup|thumpsdown|ads|playlists|friends|errors|setting|duration|gap|last|first|elast|span|quater|\n",
      "+------+---------+----+-----+---+-------------+-------------+------+--------+----------+---+---------+-------+------+-------+--------+---+----+-----+-----+----+------+\n",
      "|100010|       31|  31|    0| 11|1.539003534E9|1.539010247E9|     0|       2|         0|  7|        0|      0|     0|      0|    6713| 11|  55|   11|   23|  12|     1|\n",
      "|100010|       78|   7|    0| 18|1.539603322E9|1.539604675E9|     0|       0|         0|  0|        0|      0|     0|      0|    1353|  7|  55|   11|   23|  12|     3|\n",
      "|100010|      113|  38|    0| 19|1.539699018E9|1.539707924E9|     0|       2|         1|  7|        1|      1|     0|      0|    8906|  1|  55|   11|   23|  12|     3|\n",
      "|100010|      118|  44|    0| 23|1.540045112E9|1.540055028E9|     0|       2|         0|  8|        1|      2|     0|      0|    9916|  4|  55|   11|   23|  12|     4|\n",
      "|200002|        2|   4|    0| 24| 1.53839343E9|1.538394156E9|     0|       1|         0|  1|        1|      0|     0|      0|     726| 24|  69|   24|   25|   1|     1|\n",
      "|200002|       44|  20|    0| 25|1.538501988E9|1.538506697E9|     0|       1|         0|  2|        0|      2|     0|      0|    4709|  1|  69|   24|   25|   1|     4|\n",
      "|   124|      123| 265|    0| 71| 1.53840703E9|1.538472728E9|     0|      10|         2|  0|        5|      0|     0|      0|   65698| 71| 131|   71|   99|  28|     1|\n",
      "|   124|      333| 148|    0| 73|1.538566433E9|1.538603467E9|     0|       5|         1|  0|        2|      2|     0|      0|   37034|  2| 131|   71|   99|  28|     1|\n",
      "|   124|      420| 366|    0| 74|1.538657269E9|1.538750836E9|     0|      15|         3|  1|       12|     12|     2|      0|   93567|  1| 131|   71|   99|  28|     1|\n",
      "|   124|      511|   7|    0| 75|1.538765854E9|1.538767104E9|     0|       0|         0|  0|        0|      0|     0|      0|    1250|  1| 131|   71|   99|  28|     1|\n",
      "|   124|      517| 123|    0| 78|1.539014481E9|1.539043022E9|     0|       4|         1|  0|        6|      0|     1|      0|   28541|  3| 131|   71|   99|  28|     1|\n",
      "|   124|      628|   3|    0| 79|1.539132481E9|1.539133066E9|     0|       0|         0|  0|        0|      0|     0|      0|     585|  1| 131|   71|   99|  28|     2|\n",
      "|   124|      668|   9|    0| 80|1.539198814E9|1.539200974E9|     0|       0|         0|  0|        1|      1|     0|      0|    2160|  1| 131|   71|   99|  28|     2|\n",
      "|   124|      708| 434|    0| 86|1.539681586E9|1.539785198E9|     0|      16|         4|  1|       16|     10|     2|      0|  103612|  6| 131|   71|   99|  28|     3|\n",
      "|   124|      974|  87|    0| 92|1.540233952E9|1.540255274E9|     0|       2|         1|  0|        2|      0|     0|      0|   21322|  6| 131|   71|   99|  28|     3|\n",
      "|   124|     1179|  85|    0| 94|1.540373108E9|1.540394256E9|     0|       3|         1|  0|        2|      4|     0|      0|   21148|  2| 131|   71|   99|  28|     4|\n",
      "|   124|     1229| 143|    0| 96|1.540523162E9|1.540561384E9|     0|      13|         1|  0|        6|      2|     0|      1|   38222|  2| 131|   71|   99|  28|     4|\n",
      "|   124|     1307| 100|    0| 99|1.540804723E9|1.540829989E9|     0|       4|         0|  0|        5|      3|     0|      0|   25266|  3| 131|   71|   99|  28|     4|\n",
      "|   124|     1394| 434|    0| 99|1.540834373E9| 1.54094061E9|     0|      14|         4|  2|       16|      3|     0|      2|  106237|  0| 131|   71|   99|  28|     4|\n",
      "|     7|      245|  14|    0| 21|1.538567869E9|1.538571424E9|     0|       0|         1|  2|        0|      1|     0|      0|    3555| 21|  72|   21|   36|  15|     1|\n",
      "+------+---------+----+-----+---+-------------+-------------+------+--------+----------+---+---------+-------+------+-------+--------+---+----+-----+-----+----+------+\n",
      "only showing top 20 rows\n",
      "\n"
     ]
    }
   ],
   "source": [
    "sessions = sessions.withColumn('quater', when(col('day') <= (col('first')+col('span')/4), 1) \\\n",
    "                    .when((col('day')>(col('first')+col('span')/4)) & (col('day')<=(col('first')+col('span')/2)), 2) \\\n",
    "                    .when((col('day')>(col('first')+col('span')/2)) & (col('day')<=(col('first')+col('span')*3/4)), 3) \\\n",
    "                    .otherwise(4))\n",
    "sessions.show()"
   ]
  },
  {
   "cell_type": "code",
   "execution_count": 15,
   "metadata": {
    "ExecuteTime": {
     "end_time": "2021-02-23T00:42:32.112554Z",
     "start_time": "2021-02-23T00:42:21.842422Z"
    }
   },
   "outputs": [
    {
     "name": "stdout",
     "output_type": "stream",
     "text": [
      "+------+---------+----+-----+---+-----+---+------+--------+----------+---+---------+-------+------+-------+--------+---+----+-----+-----+----+------+\n",
      "|userId|sessionId|play|churn|day|start|end|cancel|thumpsup|thumpsdown|ads|playlists|friends|errors|setting|duration|gap|last|first|elast|span|quater|\n",
      "+------+---------+----+-----+---+-----+---+------+--------+----------+---+---------+-------+------+-------+--------+---+----+-----+-----+----+------+\n",
      "|     0|        0|   0|    0|  0|    0|  0|     0|       0|         0|  0|        0|      0|     0|      0|       0|  0|   0|    0|    0|   0|     0|\n",
      "+------+---------+----+-----+---+-----+---+------+--------+----------+---+---------+-------+------+-------+--------+---+----+-----+-----+----+------+\n",
      "\n"
     ]
    }
   ],
   "source": [
    "count_missings(sessions)"
   ]
  },
  {
   "cell_type": "markdown",
   "metadata": {},
   "source": [
    "### How to simulate setup\n",
    "\n",
    "As mentioned before, it is not practically useful to predict churning with all users records inclduing data right before users churn. If we predict users churn within 1 month, we should use users records from the begining to the some point before churn. "
   ]
  },
  {
   "cell_type": "markdown",
   "metadata": {},
   "source": [
    "# Feature Engineering\n",
    "Once you've familiarized yourself with the data, build out the features you find promising to train your model on. To work with the full dataset, you can follow the following steps.\n",
    "- Write a script to extract the necessary features from the smaller subset of data\n",
    "- Ensure that your script is scalable, using the best practices discussed in Lesson 3\n",
    "- Try your script on the full data set, debugging your script if necessary\n",
    "\n",
    "If you are working in the classroom workspace, you can just extract features based on the small subset of data contained here. Be sure to transfer over this work to the larger dataset when you work on your Spark cluster."
   ]
  },
  {
   "cell_type": "code",
   "execution_count": 16,
   "metadata": {
    "ExecuteTime": {
     "end_time": "2021-02-23T00:42:45.993836Z",
     "start_time": "2021-02-23T00:42:45.990370Z"
    }
   },
   "outputs": [
    {
     "name": "stdout",
     "output_type": "stream",
     "text": [
      "root\n",
      " |-- userId: string (nullable = true)\n",
      " |-- sessionId: long (nullable = true)\n",
      " |-- play: long (nullable = false)\n",
      " |-- churn: integer (nullable = true)\n",
      " |-- day: integer (nullable = true)\n",
      " |-- start: double (nullable = true)\n",
      " |-- end: double (nullable = true)\n",
      " |-- cancel: integer (nullable = true)\n",
      " |-- thumpsup: long (nullable = true)\n",
      " |-- thumpsdown: long (nullable = true)\n",
      " |-- ads: long (nullable = true)\n",
      " |-- playlists: long (nullable = true)\n",
      " |-- friends: long (nullable = true)\n",
      " |-- errors: long (nullable = true)\n",
      " |-- setting: long (nullable = true)\n",
      " |-- duration: integer (nullable = true)\n",
      " |-- gap: integer (nullable = true)\n",
      " |-- last: integer (nullable = true)\n",
      " |-- first: integer (nullable = true)\n",
      " |-- elast: integer (nullable = true)\n",
      " |-- span: integer (nullable = true)\n",
      " |-- quater: integer (nullable = false)\n",
      "\n"
     ]
    }
   ],
   "source": [
    "sessions.printSchema()"
   ]
  },
  {
   "cell_type": "code",
   "execution_count": 17,
   "metadata": {
    "ExecuteTime": {
     "end_time": "2021-02-23T00:43:01.378972Z",
     "start_time": "2021-02-23T00:42:47.453763Z"
    }
   },
   "outputs": [
    {
     "name": "stdout",
     "output_type": "stream",
     "text": [
      "+------+-------------+------------------+------------------+------------------+-------------------+-------------------+--------------------+------------------+------------------+------------------+------------------+------------------+------------------+---------+-----+------------------+------------------+------------------+-------------------+------------------+------------------+------------------+------------------+------------------+------------------+------------------+\n",
      "|userId|total_session|          avg_play|          std_play|            avg_up|           avg_down|            avg_ads|         avg_setting|     avg_playlists|       avg_friends|      avg_duration|      std_duration|           avg_gap|           std_gap|life_time|label|       recent_play|   recent_std_play|         recent_up|        recent_down|        recent_ads|    recent_setting|  recent_playlists|    recent_friends|   recent_duration|        recent_gap|    recent_std_gap|\n",
      "+------+-------------+------------------+------------------+------------------+-------------------+-------------------+--------------------+------------------+------------------+------------------+------------------+------------------+------------------+---------+-----+------------------+------------------+------------------+-------------------+------------------+------------------+------------------+------------------+------------------+------------------+------------------+\n",
      "|100010|            4|              30.0| 16.22754859285078|               1.5|               0.25|                5.5|                 0.0|               0.5|              0.75|            6722.0|3820.8957937461037|              5.75| 4.272001872658766|       23|    0|              30.0| 16.22754859285078|               1.5|               0.25|               5.5|               0.0|               0.5|              0.75|            6722.0|              5.75| 4.272001872658766|\n",
      "|200002|            2|              12.0|11.313708498984761|               1.0|                0.0|                1.5|                 0.0|               0.5|               1.0|            2717.5|2816.4063094660187|              12.5|16.263455967290593|       25|    0|              12.0|11.313708498984761|               1.0|                0.0|               1.5|               0.0|               0.5|               1.0|            2717.5|              12.5|16.263455967290593|\n",
      "|   124|           13|169.53846153846155| 155.3612003175264| 6.615384615384615| 1.3846153846153846| 0.3076923076923077| 0.23076923076923078| 5.615384615384615|2.8461538461538463| 41895.53846153846| 38153.76929525964| 7.615384615384615| 19.13347181223898|       99|    0|213.83333333333334|171.81782988580278| 8.666666666666666| 1.8333333333333333|               0.5|               0.5| 7.833333333333333|3.6666666666666665|           52634.5|3.1666666666666665| 2.401388487243717|\n",
      "|     7|            3|12.333333333333334|  9.60902353693305|0.3333333333333333| 0.3333333333333333| 1.3333333333333333|                 0.0|               0.0|0.3333333333333333|            2824.0|2303.2110194248376|              12.0| 9.539392014169456|       36|    0|              11.5|13.435028842544403|               0.5|                0.0|               1.0|               0.0|               0.0|               0.0|            2458.5|               7.5|7.7781745930520225|\n",
      "|    15|            9|124.11111111111111|101.08714612210156| 5.222222222222222| 0.8888888888888888|                0.0|  0.1111111111111111|3.3333333333333335|1.8888888888888888| 31020.11111111111|25541.738994459854|2.5555555555555554| 2.455153310442706|       23|    0| 91.33333333333333| 53.59415391004259| 5.333333333333333| 0.3333333333333333|               0.0|               0.0|2.6666666666666665|1.3333333333333333|           22579.0|               5.0|               3.0|\n",
      "|    54|           10|             110.8| 146.0827771428849|               5.5|                0.7|                0.3|                 0.1|               3.5|               1.6|           27901.1|35896.238937774215|               7.9|20.781669273130532|       79|    1|             110.8| 146.0827771428849|               5.5|                0.7|               0.3|               0.1|               3.5|               1.6|           27901.1|               7.9|20.781669273130532|\n",
      "|100014|            4|             48.75|17.075811352124187|               3.0|                0.5|                0.5|                 0.0|              1.25|              1.25|          12977.75| 4306.532199268146|             13.25| 19.85572965166478|       53|    1|             48.75|17.075811352124187|               3.0|                0.5|               0.5|               0.0|              1.25|              1.25|          12977.75|             13.25| 19.85572965166478|\n",
      "|   132|            5|              75.2| 79.08982235408043|               3.6|                0.8|                0.0|                 0.0|               1.0|               1.4|           18729.2|19269.411957815424|               6.8| 5.585696017507576|       34|    0|              82.0| 89.62142600963232|              4.25|                1.0|               0.0|               0.0|              1.25|               1.5|           20238.5|               4.5| 2.516611478423583|\n",
      "|    11|            5|              21.8|15.319921670818033|               1.8|                0.4|                1.6|                 0.2|               0.4|               0.0|            5198.8|3871.2349709104456|              18.2|  29.7018517941222|       91|    0|20.333333333333332| 11.71893055416463|1.6666666666666667| 0.3333333333333333|               2.0|               0.0|               0.0|               0.0|            4845.0| 4.666666666666667| 4.618802153517007|\n",
      "|   138|            9|107.33333333333333|145.04999138228172| 4.888888888888889| 0.8888888888888888| 1.6666666666666667|  0.2222222222222222|3.4444444444444446|1.3333333333333333|26101.555555555555| 35753.41672173133|3.4444444444444446|3.0459444804161775|       31|    0|135.28571428571428|154.73818133190255| 6.142857142857143| 1.1428571428571428|1.8571428571428572|0.2857142857142857| 4.428571428571429|1.7142857142857142|32918.857142857145| 2.142857142857143|1.4638501094227998|\n",
      "|300017|           31|63.516129032258064| 51.56217668520335| 5.225806451612903| 0.5806451612903226|0.25806451612903225| 0.03225806451612903| 2.129032258064516| 1.032258064516129|15380.806451612903|12438.444844967169|1.3870967741935485|2.6290355564330516|       43|    0|              64.0|46.467192727772996| 5.090909090909091| 0.8181818181818182|0.2727272727272727|               0.0|2.4545454545454546|0.5454545454545454|15562.727272727272|1.2727272727272727|0.7862453931068965|\n",
      "|100021|            3|22.666666666666668|23.692474191889147|               1.0| 0.3333333333333333|                4.0|                 0.0|0.6666666666666666|0.6666666666666666|            6557.0|7468.7521715478015|               7.0|10.392304845413264|       21|    1|22.666666666666668|23.692474191889147|               1.0| 0.3333333333333333|               4.0|               0.0|0.6666666666666666|0.6666666666666666|            6557.0|               7.0|10.392304845413264|\n",
      "|    29|           15| 69.26666666666667|108.45898939669492|               3.2| 0.4666666666666667| 1.0666666666666667|                 0.0|               2.2|1.0666666666666667|17130.133333333335|27136.391832652294|1.8666666666666667|3.9976183385801574|       28|    1| 69.26666666666667|108.45898939669492|               3.2| 0.4666666666666667|1.0666666666666667|               0.0|               2.2|1.0666666666666667|17130.133333333335|1.8666666666666667|3.9976183385801574|\n",
      "|    69|            4|             85.25| 94.89775199304425|               6.5|                0.5|               0.75|                 0.0|              1.25|               2.0|          21243.25|24050.808127448305|               9.0| 7.571877794400366|       36|    0|106.66666666666667|103.71274431492657| 8.333333333333334| 0.6666666666666666|0.3333333333333333|               0.0|1.3333333333333333|               2.0|26832.333333333332| 5.333333333333333|2.3094010767585034|\n",
      "|   112|            5|              19.2| 9.628083921528727|               0.6|                0.2|                1.2|                 0.6|               0.6|               0.2|            4374.4|2377.3748757821095|              11.2| 12.31665539016173|       56|    0|              22.0|  8.48528137423857|               0.5|                0.0|               1.0|               0.5|               1.0|               0.5|            5124.5|              11.5|7.7781745930520225|\n",
      "|    42|           24| 64.45833333333333| 62.59322033482586|3.3333333333333335|                0.5| 0.4166666666666667|0.041666666666666664|             2.125|              1.25|         16764.875|16248.332819661167|1.4583333333333333| 1.587427962533067|       35|    0| 65.27272727272727| 63.39257197667706| 3.272727272727273|0.45454545454545453|               0.0|               0.0|               2.0|1.0909090909090908|16412.727272727272|1.2727272727272727|0.7862453931068965|\n",
      "|   113|           12| 69.33333333333333|57.686193926250404|3.0833333333333335| 0.4166666666666667|0.08333333333333333| 0.16666666666666666|               2.0|1.6666666666666667|          17414.75|14514.017870665588| 7.583333333333333| 17.62982149826271|       91|    0|              84.8|52.585169011804076|               3.6|                0.2|               0.0|               0.2|               2.6|               2.0|           21434.2|               2.8| 3.492849839314596|\n",
      "|    30|           14|34.785714285714285| 61.92449319245865|1.7857142857142858|0.21428571428571427| 1.5714285714285714|                 0.0|1.2857142857142858|0.5714285714285714|  8768.42857142857|15788.422821384447|               2.0|1.5689290811054721|       28|    0|22.714285714285715| 23.06306054938854|0.7142857142857143| 0.2857142857142857|               2.0|               0.0|0.8571428571428571|0.2857142857142857| 5722.285714285715|2.2857142857142856|1.3801311186847085|\n",
      "|    34|            2|              19.5|0.7071067811865476|               0.5|                0.0|                1.0|                 0.0|               1.5|               0.0|            4580.0| 19.79898987322333|              17.5|16.263455967290593|       35|    0|              19.5|0.7071067811865476|               0.5|                0.0|               1.0|               0.0|               1.5|               0.0|            4580.0|              17.5|16.263455967290593|\n",
      "|    59|            5|              66.6| 67.80707927642953|               2.4|                1.2|                1.8|                 0.0|               0.6|               0.6|           17923.6| 18349.41961752469|               3.8|3.8340579025361627|       19|    0|             70.25| 77.72762271762423|              2.75|                1.0|               1.5|               0.0|              0.75|              0.25|          18858.25|               3.5| 4.358898943540673|\n",
      "+------+-------------+------------------+------------------+------------------+-------------------+-------------------+--------------------+------------------+------------------+------------------+------------------+------------------+------------------+---------+-----+------------------+------------------+------------------+-------------------+------------------+------------------+------------------+------------------+------------------+------------------+------------------+\n",
      "only showing top 20 rows\n",
      "\n"
     ]
    }
   ],
   "source": [
    "users = sessions.groupBy('userId').agg(count('sessionId').alias('total_session'),\n",
    "                                       avg('play').alias('avg_play'),\n",
    "                                       when(count('play') > 1, stddev('play')).otherwise(0).alias('std_play'),\n",
    "                                       avg('thumpsup').alias('avg_up'),\n",
    "                                       avg('thumpsdown').alias('avg_down'),\n",
    "                                       avg('ads').alias('avg_ads'),\n",
    "                                       avg('setting').alias('avg_setting'),\n",
    "                                       avg('playlists').alias('avg_playlists'),\n",
    "                                       avg('friends').alias('avg_friends'),\n",
    "                                       avg('duration').alias('avg_duration'),\n",
    "                                       when(count('duration') > 1, stddev('duration')).otherwise(0).alias('std_duration'), \n",
    "                                       avg('gap').alias('avg_gap'),\n",
    "                                       when(count('gap') > 1, stddev('gap')).otherwise(0).alias('std_gap'),\n",
    "                                       max('day').alias('life_time'),\n",
    "                                       max('churn').alias('label'))\n",
    "\n",
    "recent = sessions.where(sessions.day>(sessions.elast-14)).groupBy('userId') \\\n",
    "                                  .agg(when(count('sessionId')>0, avg('play')).otherwise(0).alias('recent_play'),\n",
    "                                       when(count('play') > 1, stddev('play')).otherwise(0).alias('recent_std_play'),\n",
    "                                       when(count('sessionId')>0,avg('thumpsup')).otherwise(0).alias('recent_up'),\n",
    "                                       when(count('sessionId')>0,avg('thumpsdown')).otherwise(0).alias('recent_down'),\n",
    "                                       when(count('sessionId')>0,avg('ads')).otherwise(0).alias('recent_ads'),\n",
    "                                       when(count('sessionId')>0,avg('setting')).otherwise(0).alias('recent_setting'),\n",
    "                                       when(count('sessionId')>0,avg('playlists')).otherwise(0).alias('recent_playlists'),\n",
    "                                       when(count('sessionId')>0,avg('friends')).otherwise(0).alias('recent_friends'),\n",
    "                                       when(count('sessionId')>0,avg('duration')).otherwise(0).alias('recent_duration'),\n",
    "                                       when(count('sessionId')>0,avg('gap')).otherwise(0).alias('recent_gap'),\n",
    "                                       when(count('gap') > 1, stddev('gap')).otherwise(0).alias('recent_std_gap'))\n",
    "\n",
    "\n",
    "\n",
    "\n",
    "users = users.join(recent, on='userId')\n",
    "\n",
    "users.show()\n",
    "                                                                           "
   ]
  },
  {
   "cell_type": "code",
   "execution_count": 18,
   "metadata": {
    "ExecuteTime": {
     "end_time": "2021-02-23T00:43:27.645085Z",
     "start_time": "2021-02-23T00:43:06.059605Z"
    }
   },
   "outputs": [
    {
     "name": "stdout",
     "output_type": "stream",
     "text": [
      "+------+-------------+--------+--------+------+--------+-------+-----------+-------------+-----------+------------+------------+-------+-------+---------+-----+-----------+---------------+---------+-----------+----------+--------------+----------------+--------------+---------------+----------+--------------+\n",
      "|userId|total_session|avg_play|std_play|avg_up|avg_down|avg_ads|avg_setting|avg_playlists|avg_friends|avg_duration|std_duration|avg_gap|std_gap|life_time|label|recent_play|recent_std_play|recent_up|recent_down|recent_ads|recent_setting|recent_playlists|recent_friends|recent_duration|recent_gap|recent_std_gap|\n",
      "+------+-------------+--------+--------+------+--------+-------+-----------+-------------+-----------+------------+------------+-------+-------+---------+-----+-----------+---------------+---------+-----------+----------+--------------+----------------+--------------+---------------+----------+--------------+\n",
      "|     0|            0|       0|       0|     0|       0|      0|          0|            0|          0|           0|           0|      0|      0|        0|    0|          0|              0|        0|          0|         0|             0|               0|             0|              0|         0|             0|\n",
      "+------+-------------+--------+--------+------+--------+-------+-----------+-------------+-----------+------------+------------+-------+-------+---------+-----+-----------+---------------+---------+-----------+----------+--------------+----------------+--------------+---------------+----------+--------------+\n",
      "\n"
     ]
    }
   ],
   "source": [
    "count_missings(users)\n"
   ]
  },
  {
   "cell_type": "markdown",
   "metadata": {},
   "source": [
    "# Modeling\n",
    "Split the full dataset into train, test, and validation sets. Test out several of the machine learning methods you learned. Evaluate the accuracy of the various models, tuning parameters as necessary. Determine your winning model based on test accuracy and report results on the validation set. Since the churned users are a fairly small subset, I suggest using F1 score as the metric to optimize."
   ]
  },
  {
   "cell_type": "markdown",
   "metadata": {
    "ExecuteTime": {
     "end_time": "2021-02-12T08:50:00.510119Z",
     "start_time": "2021-02-12T08:50:00.494445Z"
    }
   },
   "source": [
    "### Build a pipeline"
   ]
  },
  {
   "cell_type": "code",
   "execution_count": 19,
   "metadata": {
    "ExecuteTime": {
     "end_time": "2021-02-23T00:47:55.606008Z",
     "start_time": "2021-02-23T00:47:55.570441Z"
    }
   },
   "outputs": [],
   "source": [
    "# Split the data into train and test subsets\n",
    "train, test = users.randomSplit([0.8, 0.2], seed=123)"
   ]
  },
  {
   "cell_type": "code",
   "execution_count": 20,
   "metadata": {
    "ExecuteTime": {
     "end_time": "2021-02-23T00:47:57.446435Z",
     "start_time": "2021-02-23T00:47:57.346140Z"
    }
   },
   "outputs": [],
   "source": [
    "\n",
    "\n",
    "\n",
    "assembler = VectorAssembler(inputCols=[\"total_session\",\n",
    "                                       \"avg_play\",\n",
    "                                       \"std_play\",\n",
    "                                       \"avg_up\",\n",
    "                                       \"avg_down\",\n",
    "                                       \"avg_ads\",\n",
    "                                       \"avg_setting\",\n",
    "                                       \"avg_playlists\",\n",
    "                                       \"avg_friends\",\n",
    "                                       \"avg_duration\",\n",
    "                                       \"std_duration\",\n",
    "                                       \"avg_gap\",\n",
    "                                       \"std_gap\",\n",
    "                                       \"life_time\",\n",
    "                                       \"recent_play\",\n",
    "                                       \"recent_std_play\",\n",
    "                                       \"recent_up\",\n",
    "                                       \"recent_down\",\n",
    "                                       \"recent_ads\",\n",
    "                                       \"recent_setting\",\n",
    "                                       \"recent_playlists\",\n",
    "                                       \"recent_friends\",\n",
    "                                       \"recent_duration\",\n",
    "                                       \"recent_gap\",\n",
    "                                       \"recent_std_gap\"\n",
    "                                      ], outputCol=\"NumFeatures\")\n",
    "\n",
    "scaler = StandardScaler(inputCol=\"NumFeatures\", outputCol=\"features\", withStd=True)\n",
    "#gbt = GBTClassifier(featuresCol=\"features\", maxIter=10)\n",
    "rf = RandomForestClassifier(featuresCol=\"features\")\n",
    "\n",
    "\n",
    "pipeline = Pipeline(stages=[assembler, scaler, rf])"
   ]
  },
  {
   "cell_type": "markdown",
   "metadata": {
    "ExecuteTime": {
     "end_time": "2021-02-22T23:44:28.652902Z",
     "start_time": "2021-02-22T23:44:28.643468Z"
    }
   },
   "source": [
    "## baseline classifier"
   ]
  },
  {
   "cell_type": "code",
   "execution_count": null,
   "metadata": {},
   "outputs": [],
   "source": []
  },
  {
   "cell_type": "code",
   "execution_count": 28,
   "metadata": {
    "ExecuteTime": {
     "end_time": "2021-02-23T01:00:45.438067Z",
     "start_time": "2021-02-23T01:00:45.433049Z"
    }
   },
   "outputs": [],
   "source": [
    "SEED=123\n",
    "\n",
    "def check_baseline():\n",
    "    lr = LogisticRegression()\n",
    "    dt = DecisionTreeClassifier(seed=SEED)\n",
    "    rf = RandomForestClassifier(featuresCol=\"features\")\n",
    "    gbt = GBTClassifier(featuresCol=\"features\", maxIter=10)\n",
    "    \n",
    "    for clf in [lr, dt, rf, gbt]:\n",
    "        clf_name = clf.__class__.__name__\n",
    "        pipeline = Pipeline(stages=[assembler, scaler, clf])\n",
    "        model = pipeline.fit(train)\n",
    "        pred_test = model.transform(test)\n",
    "        f1_score_evaluator = MulticlassClassificationEvaluator(metricName='f1')\n",
    "        f1_score = f1_score_evaluator.evaluate(pred_test.select('label','prediction'),{f1_score_evaluator.metricName: 'f1'})\n",
    "\n",
    "        print('{} : The F1 score on the test set is {:.2%}'.format(clf_name, f1_score))"
   ]
  },
  {
   "cell_type": "code",
   "execution_count": 29,
   "metadata": {
    "ExecuteTime": {
     "end_time": "2021-02-23T01:13:04.645919Z",
     "start_time": "2021-02-23T01:00:46.379215Z"
    }
   },
   "outputs": [
    {
     "name": "stdout",
     "output_type": "stream",
     "text": [
      "LogisticRegression : The F1 score on the test set is 84.61%\n",
      "DecisionTreeClassifier : The F1 score on the test set is 76.01%\n",
      "RandomForestClassifier : The F1 score on the test set is 87.67%\n",
      "GBTClassifier : The F1 score on the test set is 76.01%\n"
     ]
    }
   ],
   "source": [
    "check_baseline()"
   ]
  },
  {
   "cell_type": "code",
   "execution_count": 31,
   "metadata": {
    "ExecuteTime": {
     "end_time": "2021-02-23T05:45:44.608806Z",
     "start_time": "2021-02-23T05:12:10.179089Z"
    }
   },
   "outputs": [
    {
     "data": {
      "text/plain": [
       "[0.8345543082129314,\n",
       " 0.8067056796776213,\n",
       " 0.8000877953292405,\n",
       " 0.8216518587564561,\n",
       " 0.818416241077041,\n",
       " 0.818416241077041,\n",
       " 0.8339838355723397,\n",
       " 0.8369227646265922,\n",
       " 0.8339838355723397,\n",
       " 0.7977634458374352,\n",
       " 0.8282697431048369,\n",
       " 0.8499090530401386,\n",
       " 0.8268118174767862,\n",
       " 0.8140340396990084,\n",
       " 0.8268118174767862,\n",
       " 0.827157949864783,\n",
       " 0.8339838355723397,\n",
       " 0.818566145506755,\n",
       " 0.811652334726324,\n",
       " 0.8282697431048369,\n",
       " 0.8248246489081155,\n",
       " 0.8305040895380005,\n",
       " 0.818416241077041,\n",
       " 0.818416241077041,\n",
       " 0.8334164532661434,\n",
       " 0.8339838355723397,\n",
       " 0.818566145506755]"
      ]
     },
     "execution_count": 31,
     "metadata": {},
     "output_type": "execute_result"
    }
   ],
   "source": [
    "clf = RandomForestClassifier(featuresCol=\"features\")\n",
    "pipeline = Pipeline(stages=[assembler, scaler, clf])\n",
    "\n",
    "paramGrid = ParamGridBuilder() \\\n",
    "            .addGrid(clf.maxDepth, [3, 5, 10]) \\\n",
    "            .addGrid(clf.numTrees, [2, 4, 8]) \\\n",
    "            .addGrid(clf.maxBins, [16, 32, 64]).build()\n",
    "\n",
    "crossval = CrossValidator(estimator=pipeline,\n",
    "                         estimatorParamMaps=paramGrid,\n",
    "                         evaluator=MulticlassClassificationEvaluator(metricName='f1'),\n",
    "                         numFolds=3)\n",
    "\n",
    "cvModel = crossval.fit(train)\n",
    "cvModel.avgMetrics"
   ]
  },
  {
   "cell_type": "code",
   "execution_count": 32,
   "metadata": {
    "ExecuteTime": {
     "end_time": "2021-02-23T08:14:49.782428Z",
     "start_time": "2021-02-23T08:14:29.064907Z"
    }
   },
   "outputs": [
    {
     "name": "stdout",
     "output_type": "stream",
     "text": [
      "The F1 score on the test set is 79.46%\n"
     ]
    }
   ],
   "source": [
    "pred_test = cvModel.transform(test)\n",
    "\n",
    "f1_score_evaluator = MulticlassClassificationEvaluator(metricName='f1')\n",
    "f1_score = f1_score_evaluator.evaluate(pred_test.select('label','prediction'),{f1_score_evaluator.metricName: 'f1'})\n",
    "\n",
    "print('The F1 score on the test set is {:.2%}'.format(f1_score))"
   ]
  },
  {
   "cell_type": "code",
   "execution_count": 33,
   "metadata": {
    "ExecuteTime": {
     "end_time": "2021-02-23T08:17:07.377974Z",
     "start_time": "2021-02-23T08:17:07.368711Z"
    }
   },
   "outputs": [
    {
     "ename": "NameError",
     "evalue": "name 'model' is not defined",
     "output_type": "error",
     "traceback": [
      "\u001b[0;31m---------------------------------------------------------------------------\u001b[0m",
      "\u001b[0;31mNameError\u001b[0m                                 Traceback (most recent call last)",
      "\u001b[0;32m<ipython-input-33-6b1a2fde9c1d>\u001b[0m in \u001b[0;36m<module>\u001b[0;34m\u001b[0m\n\u001b[1;32m     12\u001b[0m                                        \"recent_std_gap\"]\n\u001b[1;32m     13\u001b[0m \u001b[0;31m# print feature importances\u001b[0m\u001b[0;34m\u001b[0m\u001b[0;34m\u001b[0m\u001b[0;34m\u001b[0m\u001b[0m\n\u001b[0;32m---> 14\u001b[0;31m \u001b[0;32mfor\u001b[0m \u001b[0mi\u001b[0m \u001b[0;32min\u001b[0m \u001b[0mrange\u001b[0m\u001b[0;34m(\u001b[0m\u001b[0mlen\u001b[0m\u001b[0;34m(\u001b[0m\u001b[0mmodel\u001b[0m\u001b[0;34m.\u001b[0m\u001b[0mstages\u001b[0m\u001b[0;34m[\u001b[0m\u001b[0;34m-\u001b[0m\u001b[0;36m1\u001b[0m\u001b[0;34m]\u001b[0m\u001b[0;34m.\u001b[0m\u001b[0mfeatureImportances\u001b[0m\u001b[0;34m)\u001b[0m\u001b[0;34m)\u001b[0m\u001b[0;34m:\u001b[0m\u001b[0;34m\u001b[0m\u001b[0;34m\u001b[0m\u001b[0m\n\u001b[0m\u001b[1;32m     15\u001b[0m     \u001b[0mprint\u001b[0m\u001b[0;34m(\u001b[0m\u001b[0;34m\"{} : {} \\n\"\u001b[0m\u001b[0;34m.\u001b[0m\u001b[0mformat\u001b[0m\u001b[0;34m(\u001b[0m\u001b[0minputCols\u001b[0m\u001b[0;34m[\u001b[0m\u001b[0mi\u001b[0m\u001b[0;34m]\u001b[0m\u001b[0;34m,\u001b[0m \u001b[0mmodel\u001b[0m\u001b[0;34m.\u001b[0m\u001b[0mstages\u001b[0m\u001b[0;34m[\u001b[0m\u001b[0;34m-\u001b[0m\u001b[0;36m1\u001b[0m\u001b[0;34m]\u001b[0m\u001b[0;34m.\u001b[0m\u001b[0mfeatureImportances\u001b[0m\u001b[0;34m[\u001b[0m\u001b[0mi\u001b[0m\u001b[0;34m]\u001b[0m\u001b[0;34m)\u001b[0m\u001b[0;34m)\u001b[0m\u001b[0;34m\u001b[0m\u001b[0;34m\u001b[0m\u001b[0m\n",
      "\u001b[0;31mNameError\u001b[0m: name 'model' is not defined"
     ]
    }
   ],
   "source": [
    "inputCols=[\"total_session\", \"avg_play\",\"std_play\",\"avg_up\",\"avg_down\",\"avg_ads\",\"avg_setting\",\"avg_playlists\",\n",
    "           \"avg_friends\",\"avg_duration\",\"std_duration\",\"avg_gap\",\"std_gap\",\"life_time\",\"recent_play\",\n",
    "                                       \"recent_std_play\",\n",
    "                                       \"recent_up\",\n",
    "                                       \"recent_down\",\n",
    "                                       \"recent_ads\",\n",
    "                                       \"recent_setting\",\n",
    "                                       \"recent_playlists\",\n",
    "                                       \"recent_friends\",\n",
    "                                       \"recent_duration\",\n",
    "                                       \"recent_gap\",\n",
    "                                       \"recent_std_gap\"]\n",
    "# print feature importances\n",
    "for i in range(len(model.stages[-1].featureImportances)):\n",
    "    print(\"{} : {} \\n\".format(inputCols[i], model.stages[-1].featureImportances[i]))\n"
   ]
  },
  {
   "cell_type": "code",
   "execution_count": null,
   "metadata": {
    "ExecuteTime": {
     "end_time": "2021-02-18T01:10:32.374277Z",
     "start_time": "2021-02-18T01:10:08.778734Z"
    }
   },
   "outputs": [],
   "source": [
    "pred_test.select(\"prediction\", \"label\", \"features\").show(100)"
   ]
  },
  {
   "cell_type": "code",
   "execution_count": null,
   "metadata": {},
   "outputs": [],
   "source": [
    "accuracy = evaluator.evaluate(predictions)"
   ]
  },
  {
   "cell_type": "markdown",
   "metadata": {},
   "source": [
    "# Final Steps\n",
    "Clean up your code, adding comments and renaming variables to make the code easier to read and maintain. Refer to the Spark Project Overview page and Data Scientist Capstone Project Rubric to make sure you are including all components of the capstone project and meet all expectations. Remember, this includes thorough documentation in a README file in a Github repository, as well as a web app or blog post."
   ]
  },
  {
   "cell_type": "code",
   "execution_count": null,
   "metadata": {},
   "outputs": [],
   "source": []
  }
 ],
 "metadata": {
  "hide_input": false,
  "kernelspec": {
   "display_name": "Python 3",
   "language": "python",
   "name": "python3"
  },
  "language_info": {
   "codemirror_mode": {
    "name": "ipython",
    "version": 3
   },
   "file_extension": ".py",
   "mimetype": "text/x-python",
   "name": "python",
   "nbconvert_exporter": "python",
   "pygments_lexer": "ipython3",
   "version": "3.8.5"
  },
  "toc": {
   "base_numbering": 1,
   "nav_menu": {},
   "number_sections": true,
   "sideBar": true,
   "skip_h1_title": false,
   "title_cell": "Table of Contents",
   "title_sidebar": "Contents",
   "toc_cell": false,
   "toc_position": {
    "height": "calc(100% - 180px)",
    "left": "10px",
    "top": "150px",
    "width": "282.59375px"
   },
   "toc_section_display": true,
   "toc_window_display": true
  },
  "varInspector": {
   "cols": {
    "lenName": 16,
    "lenType": 16,
    "lenVar": 40
   },
   "kernels_config": {
    "python": {
     "delete_cmd_postfix": "",
     "delete_cmd_prefix": "del ",
     "library": "var_list.py",
     "varRefreshCmd": "print(var_dic_list())"
    },
    "r": {
     "delete_cmd_postfix": ") ",
     "delete_cmd_prefix": "rm(",
     "library": "var_list.r",
     "varRefreshCmd": "cat(var_dic_list()) "
    }
   },
   "types_to_exclude": [
    "module",
    "function",
    "builtin_function_or_method",
    "instance",
    "_Feature"
   ],
   "window_display": false
  }
 },
 "nbformat": 4,
 "nbformat_minor": 2
}
