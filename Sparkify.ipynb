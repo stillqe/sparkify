{
 "cells": [
  {
   "cell_type": "markdown",
   "metadata": {},
   "source": [
    "# Sparkify Project Workspace\n",
    "This workspace contains a tiny subset (128MB) of the full dataset available (12GB)."
   ]
  },
  {
   "cell_type": "code",
   "execution_count": 311,
   "metadata": {
    "ExecuteTime": {
     "end_time": "2021-02-12T23:44:02.591084Z",
     "start_time": "2021-02-12T23:44:02.580019Z"
    }
   },
   "outputs": [],
   "source": [
    "# import libraries\n",
    "from pyspark.sql import SparkSession\n",
    "from pyspark.sql.functions import avg, col, concat, count, desc, explode, lit, min, max, sum, split, stddev, udf, when, lag\n",
    "from pyspark.sql.functions import sum as Fsum\n",
    "from pyspark.sql.types import IntegerType\n",
    "from pyspark.ml.feature import RegexTokenizer, VectorAssembler, StandardScaler\n",
    "from pyspark.ml.regression import LinearRegression\n",
    "from pyspark.ml.classification import GBTClassifier, RandomForestClassifier\n",
    "from pyspark.ml.clustering import KMeans\n",
    "from pyspark.ml import Pipeline\n",
    "from pyspark.ml.evaluation import MulticlassClassificationEvaluator\n",
    "from pyspark.mllib.evaluation import MulticlassMetrics\n",
    "from pyspark.ml.tuning import CrossValidator, ParamGridBuilder\n",
    "\n",
    "from pyspark.sql import Window\n",
    "\n",
    "import datetime\n",
    "\n",
    "import os\n",
    "\n",
    "# Set spark environments\n",
    "os.environ['PYSPARK_PYTHON'] = '/Users/stillqe/anaconda/envs/Sparkify/bin/python3'\n",
    "os.environ['PYSPARK_DRIVER_PYTHON'] = '/Users/stillqe/anaconda/envs/Sparkify/bin/python3'"
   ]
  },
  {
   "cell_type": "code",
   "execution_count": 89,
   "metadata": {
    "ExecuteTime": {
     "end_time": "2021-02-09T10:42:10.460749Z",
     "start_time": "2021-02-09T10:42:10.452032Z"
    }
   },
   "outputs": [],
   "source": [
    "# create a Spark session\n",
    "spark = SparkSession.builder \\\n",
    "    .master(\"local\") \\\n",
    "    .appName(\"Sparkify\") \\\n",
    "    .getOrCreate()"
   ]
  },
  {
   "cell_type": "markdown",
   "metadata": {},
   "source": [
    "# Load and Clean Dataset\n",
    "In this workspace, the mini-dataset file is `mini_sparkify_event_data.json`. Load and clean the dataset, checking for invalid or missing data - for example, records without userids or sessionids. "
   ]
  },
  {
   "cell_type": "code",
   "execution_count": 90,
   "metadata": {
    "ExecuteTime": {
     "end_time": "2021-02-09T10:42:15.894238Z",
     "start_time": "2021-02-09T10:42:13.365630Z"
    }
   },
   "outputs": [
    {
     "name": "stdout",
     "output_type": "stream",
     "text": [
      "root\n",
      " |-- artist: string (nullable = true)\n",
      " |-- auth: string (nullable = true)\n",
      " |-- firstName: string (nullable = true)\n",
      " |-- gender: string (nullable = true)\n",
      " |-- itemInSession: long (nullable = true)\n",
      " |-- lastName: string (nullable = true)\n",
      " |-- length: double (nullable = true)\n",
      " |-- level: string (nullable = true)\n",
      " |-- location: string (nullable = true)\n",
      " |-- method: string (nullable = true)\n",
      " |-- page: string (nullable = true)\n",
      " |-- registration: long (nullable = true)\n",
      " |-- sessionId: long (nullable = true)\n",
      " |-- song: string (nullable = true)\n",
      " |-- status: long (nullable = true)\n",
      " |-- ts: long (nullable = true)\n",
      " |-- userAgent: string (nullable = true)\n",
      " |-- userId: string (nullable = true)\n",
      "\n",
      "(286500, 18)\n"
     ]
    }
   ],
   "source": [
    "sample = 'mini_sparkify_event_data.json'\n",
    "df = spark.read.json(sample)\n",
    "df.printSchema()\n",
    "print((df.count(), len(df.columns)))"
   ]
  },
  {
   "cell_type": "markdown",
   "metadata": {},
   "source": [
    "# Exploratory Data Analysis.\n",
    "\n",
    "### Define Churn\n",
    "\n",
    "Churn is more like dynamic feature rather than static. Some users are stick to the service from the begining but they can be likely to churn at certain time period. So focus on behavioral events for certain period, not just entire service life time. \n",
    "\n",
    "User characteristics change over time. The probability of a user churn also changes over time. Therefore, it is more appropriate to view the user's characteristics in multiple time windows rather than consolidating them with one input without considering changes over time.\n",
    "\n",
    "You need to know in advance when predicting churn. That way, you can act ahead. It is practically meaningless to make predictions by looking at the records up to the moment of churn. After a certain period of time, for example, by looking at the records up to 4 weeks ago, you have to learn whether it is churn or not after 4 weeks. "
   ]
  },
  {
   "cell_type": "code",
   "execution_count": null,
   "metadata": {},
   "outputs": [],
   "source": []
  },
  {
   "cell_type": "markdown",
   "metadata": {},
   "source": [
    "### Explore Data\n",
    "Once you've defined churn, perform some exploratory data analysis to observe the behavior for users who stayed vs users who churned. You can start by exploring aggregates on these two groups of users, observing how much of a specific action they experienced per a certain time unit or number of songs played."
   ]
  },
  {
   "cell_type": "code",
   "execution_count": 91,
   "metadata": {
    "ExecuteTime": {
     "end_time": "2021-02-09T10:52:16.326471Z",
     "start_time": "2021-02-09T10:52:14.431125Z"
    }
   },
   "outputs": [
    {
     "name": "stdout",
     "output_type": "stream",
     "text": [
      "+--------------------+\n",
      "|                page|\n",
      "+--------------------+\n",
      "|              Cancel|\n",
      "|    Submit Downgrade|\n",
      "|         Thumbs Down|\n",
      "|                Home|\n",
      "|           Downgrade|\n",
      "|         Roll Advert|\n",
      "|              Logout|\n",
      "|       Save Settings|\n",
      "|Cancellation Conf...|\n",
      "|               About|\n",
      "| Submit Registration|\n",
      "|            Settings|\n",
      "|               Login|\n",
      "|            Register|\n",
      "|     Add to Playlist|\n",
      "|          Add Friend|\n",
      "|            NextSong|\n",
      "|           Thumbs Up|\n",
      "|                Help|\n",
      "|             Upgrade|\n",
      "|               Error|\n",
      "|      Submit Upgrade|\n",
      "+--------------------+\n",
      "\n"
     ]
    }
   ],
   "source": [
    "df.select('page').dropDuplicates().show(30)"
   ]
  },
  {
   "cell_type": "code",
   "execution_count": 82,
   "metadata": {
    "ExecuteTime": {
     "end_time": "2021-02-09T09:34:15.636087Z",
     "start_time": "2021-02-09T09:34:13.968299Z"
    }
   },
   "outputs": [
    {
     "name": "stdout",
     "output_type": "stream",
     "text": [
      "+------+---------+---------+------+-------------+--------+------+-----+--------------------+------+--------------------+-------------+---------+----+------+-------------+--------------------+------+\n",
      "|artist|     auth|firstName|gender|itemInSession|lastName|length|level|            location|method|                page| registration|sessionId|song|status|           ts|           userAgent|userId|\n",
      "+------+---------+---------+------+-------------+--------+------+-----+--------------------+------+--------------------+-------------+---------+----+------+-------------+--------------------+------+\n",
      "|  null|Logged In|  Delaney|     F|           22|   Perez|  null| free|Miami-Fort Lauder...|   PUT|              Cancel|1534627466000|       53|null|   307|1538498074000|\"Mozilla/5.0 (Mac...|100001|\n",
      "|  null|Cancelled|  Delaney|     F|           23|   Perez|  null| free|Miami-Fort Lauder...|   GET|Cancellation Conf...|1534627466000|       53|null|   200|1538498205000|\"Mozilla/5.0 (Mac...|100001|\n",
      "|  null|Logged In|   Nevaeh|     F|           80|   Jones|  null| free|Miami-Fort Lauder...|   PUT|              Cancel|1537309344000|       86|null|   307|1539274776000|Mozilla/5.0 (Wind...|100003|\n",
      "|  null|Cancelled|   Nevaeh|     F|           81|   Jones|  null| free|Miami-Fort Lauder...|   GET|Cancellation Conf...|1537309344000|       86|null|   200|1539274781000|Mozilla/5.0 (Wind...|100003|\n",
      "|  null|Logged In|    Cason|     M|           72|   Smith|  null| free|          Monroe, LA|   PUT|              Cancel|1532610926000|      115|null|   307|1539971810000|\"Mozilla/5.0 (Mac...|100005|\n",
      "|  null|Cancelled|    Cason|     M|           73|   Smith|  null| free|          Monroe, LA|   GET|Cancellation Conf...|1532610926000|      115|null|   200|1539971825000|\"Mozilla/5.0 (Mac...|100005|\n",
      "|  null|Logged In|    Leyla|     F|           44|  Barnes|  null| free|           Flint, MI|   PUT|              Cancel|1537964483000|        6|null|   307|1538753067000|\"Mozilla/5.0 (Win...|100006|\n",
      "|  null|Cancelled|    Leyla|     F|           45|  Barnes|  null| free|           Flint, MI|   GET|Cancellation Conf...|1537964483000|        6|null|   200|1538753070000|\"Mozilla/5.0 (Win...|100006|\n",
      "|  null|Logged In|    Piper|     F|          200|    Cook|  null| paid|Little Rock-North...|   PUT|              Cancel|1533522419000|      205|null|   307|1543491907000|\"Mozilla/5.0 (Win...|100007|\n",
      "|  null|Cancelled|    Piper|     F|          201|    Cook|  null| paid|Little Rock-North...|   GET|Cancellation Conf...|1533522419000|      205|null|   200|1543491909000|\"Mozilla/5.0 (Win...|100007|\n",
      "|  null|Logged In|     Troy|     M|           60|  Mathis|  null| free|San Francisco-Oak...|   PUT|              Cancel|1537376437000|      145|null|   307|1540611085000|\"Mozilla/5.0 (Win...|100009|\n",
      "|  null|Cancelled|     Troy|     M|           61|  Mathis|  null| free|San Francisco-Oak...|   GET|Cancellation Conf...|1537376437000|      145|null|   200|1540611104000|\"Mozilla/5.0 (Win...|100009|\n",
      "|  null|Logged In|Sebastian|     M|           21|    Ball|  null| free|          Albany, OR|   PUT|              Cancel|1537970819000|       40|null|   307|1538417064000|Mozilla/5.0 (Wind...|100011|\n",
      "|  null|Cancelled|Sebastian|     M|           22|    Ball|  null| free|          Albany, OR|   GET|Cancellation Conf...|1537970819000|       40|null|   200|1538417085000|Mozilla/5.0 (Wind...|100011|\n",
      "|  null|Logged In|   Daniel|     M|           73|   Marks|  null| free|Chicago-Napervill...|   PUT|              Cancel|1537381154000|      156|null|   307|1541100897000|\"Mozilla/5.0 (Mac...|100012|\n",
      "|  null|Cancelled|   Daniel|     M|           74|   Marks|  null| free|Chicago-Napervill...|   GET|Cancellation Conf...|1537381154000|      156|null|   200|1541100900000|\"Mozilla/5.0 (Mac...|100012|\n",
      "|  null|Logged In|     Cali|     F|           50|   Brown|  null| paid|Cleveland-Elyria, OH|   PUT|              Cancel|1537367773000|      165|null|   307|1541184785000|\"Mozilla/5.0 (Win...|100013|\n",
      "|  null|Cancelled|     Cali|     F|           51|   Brown|  null| paid|Cleveland-Elyria, OH|   GET|Cancellation Conf...|1537367773000|      165|null|   200|1541184816000|\"Mozilla/5.0 (Win...|100013|\n",
      "|  null|Logged In|  Rodrigo|     M|           72|   Carey|  null| paid|New York-Newark-J...|   PUT|              Cancel|1535389443000|      185|null|   307|1542740642000|\"Mozilla/5.0 (Win...|100014|\n",
      "|  null|Cancelled|  Rodrigo|     M|           73|   Carey|  null| paid|New York-Newark-J...|   GET|Cancellation Conf...|1535389443000|      185|null|   200|1542740649000|\"Mozilla/5.0 (Win...|100014|\n",
      "+------+---------+---------+------+-------------+--------+------+-----+--------------------+------+--------------------+-------------+---------+----+------+-------------+--------------------+------+\n",
      "only showing top 20 rows\n",
      "\n"
     ]
    }
   ],
   "source": [
    "df.where((df.page=='Cancel') | (df.page=='Cancellation Confirmation')).orderBy('userID', 'ts').show()"
   ]
  },
  {
   "cell_type": "code",
   "execution_count": 208,
   "metadata": {
    "ExecuteTime": {
     "end_time": "2021-02-11T23:06:32.291820Z",
     "start_time": "2021-02-11T23:06:32.234351Z"
    }
   },
   "outputs": [
    {
     "data": {
      "text/plain": [
       "44.7987037037037"
      ]
     },
     "execution_count": 208,
     "metadata": {},
     "output_type": "execute_result"
    }
   ],
   "source": [
    "(1538498074000-1534627466000)/(1000*60*60*24)"
   ]
  },
  {
   "cell_type": "code",
   "execution_count": 210,
   "metadata": {
    "ExecuteTime": {
     "end_time": "2021-02-11T23:10:10.750264Z",
     "start_time": "2021-02-11T23:10:10.737442Z"
    }
   },
   "outputs": [
    {
     "data": {
      "text/plain": [
       "'2018-10-02 00:00:00'"
      ]
     },
     "execution_count": 210,
     "metadata": {},
     "output_type": "execute_result"
    }
   ],
   "source": [
    "datetime.date.fromtimestamp(1538498074000/1000).strftime('%Y-%m-%d %H:%M:%S')"
   ]
  },
  {
   "cell_type": "code",
   "execution_count": 211,
   "metadata": {
    "ExecuteTime": {
     "end_time": "2021-02-11T23:10:37.841947Z",
     "start_time": "2021-02-11T23:10:37.836270Z"
    }
   },
   "outputs": [
    {
     "data": {
      "text/plain": [
       "'2018-08-18 00:00:00'"
      ]
     },
     "execution_count": 211,
     "metadata": {},
     "output_type": "execute_result"
    }
   ],
   "source": [
    "datetime.date.fromtimestamp(1534627466000/1000).strftime('%Y-%m-%d %H:%M:%S')"
   ]
  },
  {
   "cell_type": "code",
   "execution_count": 19,
   "metadata": {
    "ExecuteTime": {
     "end_time": "2021-02-08T06:52:16.152705Z",
     "start_time": "2021-02-08T06:52:14.068185Z"
    }
   },
   "outputs": [
    {
     "name": "stdout",
     "output_type": "stream",
     "text": [
      "+------+-----------+\n",
      "|gender|count(song)|\n",
      "+------+-----------+\n",
      "|     F|     126696|\n",
      "|     M|     101412|\n",
      "+------+-----------+\n",
      "\n"
     ]
    }
   ],
   "source": [
    "df.where(df.page=='NextSong').groupBy('gender').agg({'song':'count'}).show()"
   ]
  },
  {
   "cell_type": "code",
   "execution_count": 92,
   "metadata": {
    "ExecuteTime": {
     "end_time": "2021-02-09T10:53:23.814622Z",
     "start_time": "2021-02-09T10:53:21.237268Z"
    }
   },
   "outputs": [
    {
     "name": "stdout",
     "output_type": "stream",
     "text": [
      "+--------------------+-----------+\n",
      "|              Artist|Artistcount|\n",
      "+--------------------+-----------+\n",
      "|       Kings Of Leon|       1841|\n",
      "|            Coldplay|       1813|\n",
      "|Florence + The Ma...|       1236|\n",
      "|       Dwight Yoakam|       1135|\n",
      "|            BjÃÂ¶rk|       1133|\n",
      "+--------------------+-----------+\n",
      "only showing top 5 rows\n",
      "\n"
     ]
    }
   ],
   "source": [
    "df.filter(df.page == 'NextSong') \\\n",
    "    .select('Artist') \\\n",
    "    .groupBy('Artist') \\\n",
    "    .agg({'Artist':'count'}) \\\n",
    "    .withColumnRenamed('count(Artist)', 'Artistcount') \\\n",
    "    .sort(desc('Artistcount')) \\\n",
    "    .show(5)"
   ]
  },
  {
   "cell_type": "code",
   "execution_count": 147,
   "metadata": {
    "ExecuteTime": {
     "end_time": "2021-02-10T01:32:33.872729Z",
     "start_time": "2021-02-10T01:32:31.699324Z"
    }
   },
   "outputs": [
    {
     "name": "stdout",
     "output_type": "stream",
     "text": [
      "+--------------------+\n",
      "|                page|\n",
      "+--------------------+\n",
      "|              Cancel|\n",
      "|    Submit Downgrade|\n",
      "|         Thumbs Down|\n",
      "|                Home|\n",
      "|           Downgrade|\n",
      "|         Roll Advert|\n",
      "|              Logout|\n",
      "|       Save Settings|\n",
      "|Cancellation Conf...|\n",
      "|               About|\n",
      "| Submit Registration|\n",
      "|            Settings|\n",
      "|               Login|\n",
      "|            Register|\n",
      "|     Add to Playlist|\n",
      "|          Add Friend|\n",
      "|            NextSong|\n",
      "|           Thumbs Up|\n",
      "|                Help|\n",
      "|             Upgrade|\n",
      "|               Error|\n",
      "|      Submit Upgrade|\n",
      "+--------------------+\n",
      "\n"
     ]
    }
   ],
   "source": [
    "df.select('page').dropDuplicates().show(30)"
   ]
  },
  {
   "cell_type": "code",
   "execution_count": 137,
   "metadata": {
    "ExecuteTime": {
     "end_time": "2021-02-10T00:56:55.431530Z",
     "start_time": "2021-02-10T00:56:55.415192Z"
    }
   },
   "outputs": [],
   "source": []
  },
  {
   "cell_type": "code",
   "execution_count": 184,
   "metadata": {
    "ExecuteTime": {
     "end_time": "2021-02-11T05:51:50.866182Z",
     "start_time": "2021-02-11T05:51:50.613602Z"
    }
   },
   "outputs": [],
   "source": [
    "df = df.withColumn('cancel', when(df.page == 'Cancellation Confirmation', 1).otherwise(0)) \\\n",
    "    .withColumn('thumpsup', when(df.page == 'Thumbs Up', 1).otherwise(0)) \\\n",
    "    .withColumn('thumpsdown', when(df.page == 'Thumbs Down', 1).otherwise(0)) \\\n",
    "    .withColumn('ad', when(df.page == 'Roll Advert', 1).otherwise(0)) \\\n",
    "    .withColumn('playlist', when(df.page == 'Add to Playlist', 1).otherwise(0)) \\\n",
    "    .withColumn('friend', when(df.page == 'Add Friend', 1).otherwise(0)) \\\n",
    "    .withColumn('error', when(df.page == 'Error', 1).otherwise(0)) \\\n",
    "    .withColumn('home', when(df.page == 'Home', 1).otherwise(0)) \\\n",
    "    .withColumn('downgrade', when(df.page == 'Downgrade', 1).otherwise(0)) \\\n",
    "    .withColumn('upgrade', when(df.page == 'Upgrade', 1).otherwise(0)) \\\n",
    "    .withColumn('setting', when(df.page == 'Save Settings', 1).otherwise(0)) \\\n",
    "    .withColumn('ts', col('ts')/1000) \\\n",
    "    .withColumn('registration', col('registration')/1000) \\\n",
    "    .withColumn('day', ((col('ts')-col('registration'))/(60*60*24)).cast(IntegerType()))"
   ]
  },
  {
   "cell_type": "markdown",
   "metadata": {},
   "source": [
    "### Aggregate\n",
    "\n",
    "How to aggregate historical data into a single row?\n"
   ]
  },
  {
   "cell_type": "code",
   "execution_count": 224,
   "metadata": {
    "ExecuteTime": {
     "end_time": "2021-02-11T23:52:44.128234Z",
     "start_time": "2021-02-11T23:52:33.616639Z"
    }
   },
   "outputs": [
    {
     "data": {
      "text/html": [
       "<div>\n",
       "<style scoped>\n",
       "    .dataframe tbody tr th:only-of-type {\n",
       "        vertical-align: middle;\n",
       "    }\n",
       "\n",
       "    .dataframe tbody tr th {\n",
       "        vertical-align: top;\n",
       "    }\n",
       "\n",
       "    .dataframe thead th {\n",
       "        text-align: right;\n",
       "    }\n",
       "</style>\n",
       "<table border=\"1\" class=\"dataframe\">\n",
       "  <thead>\n",
       "    <tr style=\"text-align: right;\">\n",
       "      <th></th>\n",
       "      <th>count</th>\n",
       "    </tr>\n",
       "  </thead>\n",
       "  <tbody>\n",
       "    <tr>\n",
       "      <th>artist</th>\n",
       "      <td>50046</td>\n",
       "    </tr>\n",
       "    <tr>\n",
       "      <th>length</th>\n",
       "      <td>50046</td>\n",
       "    </tr>\n",
       "    <tr>\n",
       "      <th>song</th>\n",
       "      <td>50046</td>\n",
       "    </tr>\n",
       "    <tr>\n",
       "      <th>userAgent</th>\n",
       "      <td>0</td>\n",
       "    </tr>\n",
       "    <tr>\n",
       "      <th>setting</th>\n",
       "      <td>0</td>\n",
       "    </tr>\n",
       "    <tr>\n",
       "      <th>upgrade</th>\n",
       "      <td>0</td>\n",
       "    </tr>\n",
       "    <tr>\n",
       "      <th>downgrade</th>\n",
       "      <td>0</td>\n",
       "    </tr>\n",
       "    <tr>\n",
       "      <th>home</th>\n",
       "      <td>0</td>\n",
       "    </tr>\n",
       "    <tr>\n",
       "      <th>error</th>\n",
       "      <td>0</td>\n",
       "    </tr>\n",
       "    <tr>\n",
       "      <th>friend</th>\n",
       "      <td>0</td>\n",
       "    </tr>\n",
       "    <tr>\n",
       "      <th>playlist</th>\n",
       "      <td>0</td>\n",
       "    </tr>\n",
       "    <tr>\n",
       "      <th>ad</th>\n",
       "      <td>0</td>\n",
       "    </tr>\n",
       "    <tr>\n",
       "      <th>thumpsdown</th>\n",
       "      <td>0</td>\n",
       "    </tr>\n",
       "    <tr>\n",
       "      <th>thumpsup</th>\n",
       "      <td>0</td>\n",
       "    </tr>\n",
       "    <tr>\n",
       "      <th>cancel</th>\n",
       "      <td>0</td>\n",
       "    </tr>\n",
       "    <tr>\n",
       "      <th>userId</th>\n",
       "      <td>0</td>\n",
       "    </tr>\n",
       "    <tr>\n",
       "      <th>ts</th>\n",
       "      <td>0</td>\n",
       "    </tr>\n",
       "    <tr>\n",
       "      <th>auth</th>\n",
       "      <td>0</td>\n",
       "    </tr>\n",
       "    <tr>\n",
       "      <th>status</th>\n",
       "      <td>0</td>\n",
       "    </tr>\n",
       "    <tr>\n",
       "      <th>sessionId</th>\n",
       "      <td>0</td>\n",
       "    </tr>\n",
       "    <tr>\n",
       "      <th>registration</th>\n",
       "      <td>0</td>\n",
       "    </tr>\n",
       "    <tr>\n",
       "      <th>page</th>\n",
       "      <td>0</td>\n",
       "    </tr>\n",
       "    <tr>\n",
       "      <th>method</th>\n",
       "      <td>0</td>\n",
       "    </tr>\n",
       "    <tr>\n",
       "      <th>location</th>\n",
       "      <td>0</td>\n",
       "    </tr>\n",
       "    <tr>\n",
       "      <th>level</th>\n",
       "      <td>0</td>\n",
       "    </tr>\n",
       "    <tr>\n",
       "      <th>lastName</th>\n",
       "      <td>0</td>\n",
       "    </tr>\n",
       "    <tr>\n",
       "      <th>itemInSession</th>\n",
       "      <td>0</td>\n",
       "    </tr>\n",
       "    <tr>\n",
       "      <th>gender</th>\n",
       "      <td>0</td>\n",
       "    </tr>\n",
       "    <tr>\n",
       "      <th>firstName</th>\n",
       "      <td>0</td>\n",
       "    </tr>\n",
       "    <tr>\n",
       "      <th>day</th>\n",
       "      <td>0</td>\n",
       "    </tr>\n",
       "  </tbody>\n",
       "</table>\n",
       "</div>"
      ],
      "text/plain": [
       "               count\n",
       "artist         50046\n",
       "length         50046\n",
       "song           50046\n",
       "userAgent          0\n",
       "setting            0\n",
       "upgrade            0\n",
       "downgrade          0\n",
       "home               0\n",
       "error              0\n",
       "friend             0\n",
       "playlist           0\n",
       "ad                 0\n",
       "thumpsdown         0\n",
       "thumpsup           0\n",
       "cancel             0\n",
       "userId             0\n",
       "ts                 0\n",
       "auth               0\n",
       "status             0\n",
       "sessionId          0\n",
       "registration       0\n",
       "page               0\n",
       "method             0\n",
       "location           0\n",
       "level              0\n",
       "lastName           0\n",
       "itemInSession      0\n",
       "gender             0\n",
       "firstName          0\n",
       "day                0"
      ]
     },
     "execution_count": 224,
     "metadata": {},
     "output_type": "execute_result"
    }
   ],
   "source": [
    "df = df.where(df.userId != \"\")\n",
    "\n",
    "count_missings(df)"
   ]
  },
  {
   "cell_type": "code",
   "execution_count": 225,
   "metadata": {
    "ExecuteTime": {
     "end_time": "2021-02-11T23:52:58.284273Z",
     "start_time": "2021-02-11T23:52:58.173591Z"
    }
   },
   "outputs": [
    {
     "data": {
      "text/plain": [
       "0"
      ]
     },
     "execution_count": 225,
     "metadata": {},
     "output_type": "execute_result"
    }
   ],
   "source": [
    "df.where(df.userId==\"\").count()"
   ]
  },
  {
   "cell_type": "code",
   "execution_count": 254,
   "metadata": {
    "ExecuteTime": {
     "end_time": "2021-02-12T01:31:04.425640Z",
     "start_time": "2021-02-12T01:31:04.358867Z"
    }
   },
   "outputs": [],
   "source": [
    "\n",
    "\n",
    "sessions = df.groupBy('userId', 'sessionId').agg(count('song').alias('play'),\n",
    "                                                 max('cancel').alias('churn'),\n",
    "                                            min('day').alias('day'),\n",
    "                                            min('ts').alias('start'), \n",
    "                                            max('ts').alias('end'),\n",
    "                                           max('cancel').alias('cancel'),\n",
    "                                           sum('thumpsup').alias('thumpsup'),\n",
    "                                           sum('thumpsdown').alias('thumpsdown'),\n",
    "                                           sum('ad').alias('ads'),\n",
    "                                           sum('playlist').alias('playlists'),\n",
    "                                           sum('friend').alias('friends'),\n",
    "                                           sum('error').alias('errors'),\n",
    "                                           sum('setting').alias('setting')) \\\n",
    "    .withColumn('duration', (col('end') - col('start')).cast(IntegerType()))\n"
   ]
  },
  {
   "cell_type": "code",
   "execution_count": 255,
   "metadata": {
    "ExecuteTime": {
     "end_time": "2021-02-12T01:31:08.682820Z",
     "start_time": "2021-02-12T01:31:08.642072Z"
    }
   },
   "outputs": [],
   "source": [
    "windowSpec = Window.partitionBy('userId').orderBy('start')\n",
    "userWindow = Window.partitionBy('userId')\n",
    "sessions = sessions.withColumn('gap', col('day') - lag('day', 1, 0).over(windowSpec))\n",
    "sessions = sessions.withColumn('churn', max('cancel').over(userWindow))\n",
    "sessions = sessions.withColumn('last', max('day').over(userWindow))\n",
    "#It is practically not useful to predict churning with entire records including right before churning. \n",
    "# Exclude the record from 30 days before last sessions.\n",
    "sessions = sessions.withColumn('last', max('day').over(userWindow))"
   ]
  },
  {
   "cell_type": "markdown",
   "metadata": {},
   "source": [
    "It is practically not useful to predict churning with data "
   ]
  },
  {
   "cell_type": "code",
   "execution_count": 319,
   "metadata": {
    "ExecuteTime": {
     "end_time": "2021-02-13T01:25:27.284770Z",
     "start_time": "2021-02-13T01:25:18.848746Z"
    }
   },
   "outputs": [
    {
     "name": "stdout",
     "output_type": "stream",
     "text": [
      "+------+---------+----+-----+---+-------------+-------------+------+--------+----------+---+---------+-------+------+-------+--------+---+----+\n",
      "|userId|sessionId|play|churn|day|        start|          end|cancel|thumpsup|thumpsdown|ads|playlists|friends|errors|setting|duration|gap|last|\n",
      "+------+---------+----+-----+---+-------------+-------------+------+--------+----------+---+---------+-------+------+-------+--------+---+----+\n",
      "|    54|       53|   6|    1| 67| 1.53835393E9|1.538355255E9|     0|       1|         0|  0|        0|      0|     0|      0|    1325| 67| 110|\n",
      "|    54|      260| 118|    1| 68|1.538395957E9|1.538424556E9|     0|       4|         1|  1|        3|      5|     0|      0|   28599|  1| 110|\n",
      "|    54|      309|  37|    1| 71|1.538623828E9|1.538633675E9|     0|       2|         1|  0|        1|      0|     0|      0|    9847|  3| 110|\n",
      "|    54|      434|  82|    1| 72|1.538712831E9|1.538734617E9|     0|       3|         0|  0|        2|      1|     0|      0|   21786|  1| 110|\n",
      "|    54|      495|  69|    1| 72|1.538773999E9|1.538791408E9|     0|       5|         1|  0|        0|      1|     1|      0|   17409|  0| 110|\n",
      "|    54|      525|  77|    1| 73|1.538832609E9|1.538853296E9|     0|       5|         0|  1|        3|      0|     0|      0|   20687|  1| 110|\n",
      "|    54|      546|  41|    1| 75|1.539036328E9|1.539047114E9|     0|       1|         1|  0|        1|      2|     0|      0|   10786|  2| 110|\n",
      "|    54|      630| 180|    1| 76|1.539089254E9|1.539135234E9|     0|       9|         0|  0|       10|      1|     0|      1|   45980|  1| 110|\n",
      "|    54|      670| 498|    1| 77|1.539183472E9|1.539306064E9|     0|      25|         3|  1|       15|      6|     0|      0|  122592|  1| 110|\n",
      "|    54|      776|   0|    1| 79|1.539329482E9|1.539329482E9|     0|       0|         0|  0|        0|      0|     0|      0|       0|  2| 110|\n",
      "|100014|       37|  52|    1| 43|1.539177136E9|1.539191458E9|     0|       1|         1|  0|        1|      0|     0|      0|   14322| 43|  84|\n",
      "|100014|       93|  29|    1| 45|1.539321197E9|1.539328038E9|     0|       1|         0|  0|        0|      1|     0|      0|    6841|  2|  84|\n",
      "|100014|       98|  70|    1| 49|1.539708375E9| 1.53972528E9|     0|       7|         1|  1|        4|      3|     0|      0|   16905|  4|  84|\n",
      "|100014|      119|  44|    1| 53|1.540047564E9|1.540061407E9|     0|       3|         0|  1|        0|      1|     0|      0|   13843|  4|  84|\n",
      "|100021|       21|   8|    1| 19|1.539216275E9|1.539218099E9|     0|       2|         0|  1|        0|      2|     0|      0|    1824| 19|  64|\n",
      "|100021|       95|  10|    1| 20|1.539342574E9|1.539345254E9|     0|       0|         0|  2|        0|      0|     0|      0|    2680|  1|  64|\n",
      "|100021|       99|  50|    1| 21|1.539388189E9|1.539403356E9|     0|       1|         1|  9|        2|      0|     0|      0|   15167|  1|  64|\n",
      "|    29|       28|  78|    1| 16|1.538438103E9|1.538456788E9|     0|       1|         0|  6|        2|      0|     0|      0|   18685| 16|  60|\n",
      "|    29|      326|   8|    1| 17|1.538467791E9|1.538469427E9|     0|       0|         0|  1|        0|      0|     0|      0|    1636|  1|  60|\n",
      "|    29|      331|  23|    1| 17|1.538497231E9|1.538504171E9|     0|       1|         0|  1|        0|      1|     0|      0|    6940|  0|  60|\n",
      "|    29|      355|  15|    1| 18|1.538587537E9|1.538590893E9|     0|       0|         0|  0|        1|      0|     0|      0|    3356|  1|  60|\n",
      "|    29|      410|   5|    1| 18|1.538607919E9|1.538608745E9|     0|       0|         0|  0|        0|      0|     0|      0|     826|  0|  60|\n",
      "|    29|      424|  14|    1| 19|1.538656707E9|1.538660509E9|     0|       2|         0|  1|        1|      0|     0|      0|    3802|  1|  60|\n",
      "|    29|      453| 129|    1| 22|1.538933144E9| 1.53896468E9|     0|      10|         1|  5|        7|      0|     0|      0|   31536|  3|  60|\n",
      "|    29|      589|  51|    1| 23|1.539007655E9|1.539019695E9|     0|       4|         0|  1|        3|      0|     0|      0|   12040|  1|  60|\n",
      "|    29|      617| 443|    1| 23|1.539020898E9|1.539131696E9|     0|      21|         4|  1|       12|      7|     0|      0|  110798|  0|  60|\n",
      "|    29|      667|  21|    1| 25|1.539169935E9| 1.53917484E9|     0|       0|         0|  0|        1|      2|     0|      0|    4905|  2|  60|\n",
      "|    29|      692|  44|    1| 26|1.539259124E9| 1.53926914E9|     0|       1|         2|  0|        0|      1|     0|      0|   10016|  1|  60|\n",
      "|    29|      755|  46|    1| 27|1.539323609E9|1.539334811E9|     0|       2|         0|  0|        2|      0|     0|      0|   11202|  1|  60|\n",
      "|    29|      784|  34|    1| 27|1.539381124E9|1.539389455E9|     0|       2|         0|  0|        0|      5|     0|      0|    8331|  0|  60|\n",
      "|    29|      810|  54|    1| 27|1.539398438E9|1.539412737E9|     0|       3|         0|  0|        0|      0|     0|      0|   14299|  0|  60|\n",
      "|    29|      815|  74|    1| 28|1.539436557E9|1.539455137E9|     0|       1|         0|  0|        4|      0|     0|      0|   18580|  1|  60|\n",
      "|    28|      266|   4|    1|  8|1.538377521E9|1.538378185E9|     0|       0|         0|  0|        0|      0|     0|      0|     664|  8|  43|\n",
      "|    28|      272|   9|    1|  8|1.538404265E9|1.538406735E9|     0|       1|         0|  0|        1|      0|     0|      0|    2470|  0|  43|\n",
      "|    28|      285|   3|    1| 10|1.538507003E9|1.538507441E9|     0|       1|         0|  1|        0|      0|     0|      0|     438|  2|  43|\n",
      "|    28|      356|  20|    1| 11|1.538639207E9|1.538644093E9|     0|       1|         0|  2|        0|      1|     0|      0|    4886|  1|  43|\n",
      "|    28|      438|  73|    1| 11|1.538658041E9|1.538675232E9|     0|       1|         1|  4|        4|      5|     0|      0|   17191|  0|  43|\n",
      "|    28|      468|   0|    1| 12|1.538710946E9|1.538710946E9|     0|       0|         0|  0|        0|      0|     0|      0|       0|  1|  43|\n",
      "|100022|       22|  23|    1|  5|1.538376195E9|1.538381589E9|     0|       2|         1|  2|        0|      0|     0|      1|    5394|  5|  47|\n",
      "|100022|       45| 158|    1|  6|1.538485879E9|1.538522594E9|     0|       4|         4| 24|        4|      3|     0|      0|   36715|  1|  47|\n",
      "|100022|       55|  15|    1|  7|1.538574192E9|1.538577758E9|     0|       2|         0|  5|        0|      1|     0|      0|    3566|  1|  47|\n",
      "|100022|       58|  68|    1|  8|1.538660817E9|1.538678388E9|     0|       4|         3| 16|        1|      2|     0|      0|   17571|  1|  47|\n",
      "|100022|       63|  46|    1| 10|1.538828711E9|1.538839961E9|     0|       4|         0|  9|        2|      0|     0|      0|   11250|  2|  47|\n",
      "|100022|       73|  19|    1| 13|1.539101712E9|1.539105701E9|     0|       1|         2|  1|        1|      1|     0|      0|    3989|  3|  47|\n",
      "|100022|       87|   5|    1| 16|1.539350604E9|1.539351575E9|     0|       2|         0|  0|        0|      0|     0|      0|     971|  3|  47|\n",
      "|    70|      227|   6|    1|101|1.538439586E9|1.538440948E9|     0|       1|         1|  0|        1|      0|     0|      0|    1362|101| 145|\n",
      "|    70|      324|  72|    1|102|1.538520253E9|1.538538351E9|     0|       2|         0|  4|        3|      2|     0|      0|   18098|  1| 145|\n",
      "|    70|      376| 201|    1|103|1.538564861E9|1.538616197E9|     0|      11|         3|  0|        2|      2|     0|      0|   51336|  1| 145|\n",
      "|    70|      427| 176|    1|108|1.538986551E9|1.539029229E9|     0|       9|         1|  0|        9|      8|     0|      1|   42678|  5| 145|\n",
      "|100007|       34| 112|    1| 57|1.538465403E9| 1.53849154E9|     0|       4|         3|  1|        3|      4|     0|      0|   26137| 57| 114|\n",
      "|100007|       52|  41|    1| 60|1.538769726E9|1.538779897E9|     0|       1|         1|  0|        1|      1|     0|      0|   10171|  3| 114|\n",
      "|100007|       69|  53|    1| 74| 1.53993763E9|1.539951083E9|     0|       3|         0|  0|        0|      1|     0|      1|   13453| 14| 114|\n",
      "|100007|      127|   6|    1| 83|1.540744682E9|1.540746052E9|     0|       0|         0|  0|        1|      0|     0|      0|    1370|  9| 114|\n",
      "|300001|        1| 140|    1|134|1.538390082E9|1.538428795E9|     0|      12|         0|  5|        6|      3|     0|      2|   38713|134| 187|\n",
      "|300001|       48|   6|    1|136|1.538494351E9|1.538495802E9|     0|       1|         0|  0|        0|      0|     0|      0|    1451|  2| 187|\n",
      "|300001|       55|   0|    1|137|1.538644152E9|1.538644152E9|     0|       0|         0|  0|        0|      0|     0|      0|       0|  1| 187|\n",
      "|300001|       73|  48|    1|143|1.539102131E9|1.539114021E9|     0|       4|         0|  0|        1|      1|     0|      0|   11890|  6| 187|\n",
      "|300001|      116|  31|    1|144|1.539198221E9|1.539205638E9|     0|       0|         0|  0|        2|      0|     0|      0|    7417|  1| 187|\n",
      "|300001|      124| 115|    1|144|1.539208229E9| 1.53923599E9|     0|      15|         1|  0|        4|      1|     0|      0|   27761|  0| 187|\n",
      "|300001|      126|  68|    1|144|1.539250525E9| 1.53926832E9|     0|       4|         1|  0|        5|      3|     1|      0|   17795|  0| 187|\n",
      "|300001|      131| 119|    1|145|1.539295603E9|1.539325348E9|     0|       9|         1|  0|        6|      3|     0|      0|   29745|  1| 187|\n",
      "|300001|      138|   0|    1|151|1.539819939E9|1.539819939E9|     0|       0|         0|  0|        0|      0|     0|      0|       0|  6| 187|\n",
      "|300001|      184| 118|    1|155|1.540131904E9|1.540160675E9|     0|       7|         2|  0|        2|      2|     0|      0|   28771|  4| 187|\n",
      "|100015|       15|  47|    1| 14|1.538430159E9|1.538442504E9|     0|       1|         0|  6|        3|      2|     0|      0|   12345| 14|  67|\n",
      "|100015|       50| 127|    1| 15|1.538513984E9|1.538546759E9|     0|       7|         2| 23|        4|      2|     0|      0|   32775|  1|  67|\n",
      "|100015|       57|   5|    1| 20|1.539011975E9|1.539013117E9|     0|       1|         0|  1|        0|      0|     0|      0|    1142|  5|  67|\n",
      "|100015|       79| 136|    1| 24|1.539352628E9|1.539386884E9|     0|       5|         2| 16|        4|      3|     0|      0|   34256|  4|  67|\n",
      "|100015|      103|  45|    1| 29|1.539776023E9|1.539787662E9|     0|       1|         0|  0|        3|      4|     0|      0|   11639|  5|  67|\n",
      "|100015|      121| 112|    1| 30|1.539819826E9|1.539848253E9|     0|       4|         1|  2|        1|      2|     1|      0|   28427|  1|  67|\n",
      "|100015|      124|  99|    1| 34|1.540219927E9|1.540245334E9|     0|       4|         2| 15|        2|      0|     0|      1|   25407|  4|  67|\n",
      "|100015|      137|   1|    1| 35|1.540291143E9|1.540291232E9|     0|       0|         0|  0|        0|      0|     0|      0|      89|  1|  67|\n",
      "|   103|      102|   6|    1| 10| 1.53864852E9|1.538649839E9|     0|       1|         0|  2|        0|      0|     0|      0|    1319| 10|  42|\n",
      "|   103|      441|   6|    1| 11|1.538655313E9|1.538656569E9|     0|       0|         0|  0|        0|      0|     0|      0|    1256|  1|  42|\n",
      "|    53|       52|  36|    1|  4|1.538418773E9|1.538427749E9|     0|       0|         0|  4|        1|      1|     1|      0|    8976|  4|  52|\n",
      "|    53|      314|   1|    1|  4|1.538477359E9|1.538477387E9|     0|       0|         0|  0|        0|      0|     0|      1|      28|  0|  52|\n",
      "|    53|      336|   4|    1|  6|1.538595459E9|1.538596075E9|     0|       0|         0|  0|        0|      1|     0|      0|     616|  2|  52|\n",
      "|    53|      415|   4|    1|  8|1.538741854E9|1.538743026E9|     0|       0|         0|  1|        0|      0|     0|      0|    1172|  2|  52|\n",
      "|    53|      502|  31|    1| 12| 1.53913404E9|1.539141401E9|     0|       2|         0|  2|        1|      2|     0|      0|    7361|  4|  52|\n",
      "|    53|      673|  54|    1| 14|1.539296976E9|1.539310235E9|     0|       1|         1|  4|        1|      0|     0|      0|   13259|  2|  52|\n",
      "|    53|      779|   3|    1| 15|1.539365425E9|1.539365879E9|     0|       0|         0|  0|        0|      0|     0|      0|     454|  1|  52|\n",
      "|    53|      801|  49|    1| 19|1.539712424E9|1.539723459E9|     0|       0|         0|  2|        3|      1|     0|      0|   11035|  4|  52|\n",
      "|    53|      941|  95|    1| 20| 1.53979411E9|1.539815541E9|     0|       2|         1|  8|        4|      0|     0|      0|   21431|  1|  52|\n",
      "|200017|       17|  25|    1| 18|1.538665275E9|1.538671027E9|     0|       0|         2|  2|        0|      0|     0|      0|    5752| 18|  60|\n",
      "|200017|       70|  12|    1| 22|1.539025553E9|1.539029461E9|     0|       0|         1|  0|        0|      1|     0|      0|    3908|  4|  60|\n",
      "|200017|      100|  39|    1| 25|1.539242821E9|1.539254081E9|     0|       3|         1|  1|        3|      0|     0|      0|   11260|  3|  60|\n",
      "|200017|      120|  11|    1| 29|1.539630258E9|1.539633745E9|     0|       1|         0|  1|        0|      0|     0|      0|    3487|  4|  60|\n",
      "|200016|       31|  24|    1| 21|1.539358699E9|1.539364613E9|     0|       2|         0|  2|        1|      0|     0|      0|    5914| 21|  55|\n",
      "|200016|      131|  13|    1| 23|1.539610872E9|1.539613839E9|     0|       1|         0|  0|        0|      0|     0|      0|    2967|  2|  55|\n",
      "|200020|       41|  47|    1| 28|1.538403799E9| 1.53841514E9|     0|       3|         0|  4|        2|      0|     0|      0|   11341| 28|  75|\n",
      "|200020|       48|  53|    1| 30|1.538566412E9|1.538579434E9|     0|       3|         1|  2|        1|      0|     0|      0|   13022|  2|  75|\n",
      "|200020|       63|   1|    1| 32|1.538731706E9|1.538731737E9|     0|       0|         0|  1|        0|      0|     0|      0|      31|  2|  75|\n",
      "|200020|       76|  34|    1| 32|1.538752673E9|1.538760238E9|     0|       0|         0|  2|        1|      0|     0|      0|    7565|  0|  75|\n",
      "|200020|       88| 151|    1| 36|1.539090995E9|1.539125995E9|     0|       8|         5| 13|        4|      1|     0|      0|   35000|  4|  75|\n",
      "|200020|      109|   1|    1| 38|1.539246254E9|1.539246256E9|     0|       0|         1|  0|        0|      0|     0|      0|       2|  2|  75|\n",
      "|200020|      119|   8|    1| 41|1.539452299E9|1.539454058E9|     0|       1|         0|  2|        0|      1|     0|      0|    1759|  3|  75|\n",
      "|200020|      141|   7|    1| 41|1.539467548E9| 1.53946924E9|     0|       0|         0|  0|        0|      0|     0|      0|    1692|  0|  75|\n",
      "|200020|      145|  35|    1| 43|1.539640591E9|1.539650279E9|     0|       1|         1|  2|        4|      1|     0|      0|    9688|  2|  75|\n",
      "|200011|       39|  32|    1| 78|1.538484201E9|1.538491416E9|     0|       1|         1|  1|        0|      1|     0|      0|    7215| 78| 109|\n",
      "|100013|       13|  40|    1| 13|1.538503066E9|1.538512562E9|     0|       2|         1|  2|        2|      0|     0|      0|    9496| 13|  44|\n",
      "|200015|       15|   3|    1| 50|1.538549908E9|1.538550393E9|     0|       0|         0|  2|        0|      0|     0|      0|     485| 50|  87|\n",
      "+------+---------+----+-----+---+-------------+-------------+------+--------+----------+---+---------+-------+------+-------+--------+---+----+\n",
      "only showing top 100 rows\n",
      "\n"
     ]
    }
   ],
   "source": [
    "sessions = sessions.where(sessions.day < (sessions.last-30))\n",
    "sessions.where(sessions.churn == '1').show(100)"
   ]
  },
  {
   "cell_type": "code",
   "execution_count": 315,
   "metadata": {
    "ExecuteTime": {
     "end_time": "2021-02-13T01:21:56.036434Z",
     "start_time": "2021-02-13T01:21:49.408881Z"
    },
    "scrolled": false
   },
   "outputs": [
    {
     "name": "stdout",
     "output_type": "stream",
     "text": [
      "+------+---------+----+-----+---+-------------+-------------+------+--------+----------+---+---------+-------+------+-------+--------+---+\n",
      "|userId|sessionId|play|churn|day|        start|          end|cancel|thumpsup|thumpsdown|ads|playlists|friends|errors|setting|duration|gap|\n",
      "+------+---------+----+-----+---+-------------+-------------+------+--------+----------+---+---------+-------+------+-------+--------+---+\n",
      "|   125|      174|   8|    1| 71|1.539317144E9|1.539318918E9|     1|       0|         0|  1|        0|      0|     0|      0|    1774| 71|\n",
      "|    51|      236| 497|    1|  3|1.538398632E9|1.538522795E9|     0|      22|         4|  0|       19|     11|     0|      0|  124163|  3|\n",
      "|    51|      362|  16|    1|  6|1.538648234E9|1.538652258E9|     0|       0|         2|  0|        0|      0|     0|      0|    4024|  3|\n",
      "|    51|      442| 373|    1|  7|1.538704395E9|1.538796904E9|     0|      21|         0|  0|        6|      5|     0|      0|   92509|  1|\n",
      "|    51|      528| 266|    1|  9|1.538935653E9|1.538998539E9|     0|      10|         3|  0|        6|      8|     1|      0|   62886|  2|\n",
      "|    51|      609| 206|    1| 12|1.539195115E9|1.539244853E9|     0|      10|         1|  0|        6|      1|     0|      0|   49738|  3|\n",
      "|    51|      737| 399|    1| 13|1.539256325E9|1.539357883E9|     0|      20|         4|  0|        5|      2|     0|      1|  101558|  1|\n",
      "|    51|      796|  30|    1| 17|1.539574318E9|1.539581255E9|     0|       2|         0|  0|        2|      0|     0|      0|    6937|  4|\n",
      "|    51|      861| 120|    1| 17|1.539611455E9| 1.53963963E9|     0|       2|         2|  0|        4|      0|     0|      0|   28175|  0|\n",
      "|    51|      898|  51|    1| 18|1.539702752E9|1.539717535E9|     0|       2|         2|  0|        1|      1|     0|      0|   14783|  1|\n",
      "|    51|      934| 153|    1| 19|1.539723331E9|1.539761972E9|     1|      11|         3|  0|        3|      0|     0|      0|   38641|  1|\n",
      "|    54|       53|   6|    1| 67| 1.53835393E9|1.538355255E9|     0|       1|         0|  0|        0|      0|     0|      0|    1325| 67|\n",
      "|    54|      260| 118|    1| 68|1.538395957E9|1.538424556E9|     0|       4|         1|  1|        3|      5|     0|      0|   28599|  1|\n",
      "|    54|      309|  37|    1| 71|1.538623828E9|1.538633675E9|     0|       2|         1|  0|        1|      0|     0|      0|    9847|  3|\n",
      "|    54|      434|  82|    1| 72|1.538712831E9|1.538734617E9|     0|       3|         0|  0|        2|      1|     0|      0|   21786|  1|\n",
      "|    54|      495|  69|    1| 72|1.538773999E9|1.538791408E9|     0|       5|         1|  0|        0|      1|     1|      0|   17409|  0|\n",
      "|    54|      525|  77|    1| 73|1.538832609E9|1.538853296E9|     0|       5|         0|  1|        3|      0|     0|      0|   20687|  1|\n",
      "|    54|      546|  41|    1| 75|1.539036328E9|1.539047114E9|     0|       1|         1|  0|        1|      2|     0|      0|   10786|  2|\n",
      "|    54|      630| 180|    1| 76|1.539089254E9|1.539135234E9|     0|       9|         0|  0|       10|      1|     0|      1|   45980|  1|\n",
      "|    54|      670| 498|    1| 77|1.539183472E9|1.539306064E9|     0|      25|         3|  1|       15|      6|     0|      0|  122592|  1|\n",
      "|    54|      776|   0|    1| 79|1.539329482E9|1.539329482E9|     0|       0|         0|  0|        0|      0|     0|      0|       0|  2|\n",
      "|    54|      782| 277|    1| 81|1.539512431E9|1.539578729E9|     0|      10|         2|  0|        3|      5|     0|      0|   66298|  2|\n",
      "|    54|      859|  56|    1| 82|1.539599979E9|1.539612605E9|     0|       4|         0|  2|        1|      0|     0|      0|   12626|  1|\n",
      "|    54|      878|  13|    1| 83|1.539735324E9|1.539738601E9|     0|       1|         0|  0|        0|      0|     0|      0|    3277|  1|\n",
      "|    54|      963|  58|    1| 84|1.539783327E9|1.539799073E9|     0|       4|         2|  5|        0|      0|     0|      0|   15746|  1|\n",
      "|    54|      983|  11|    1| 85|1.539850769E9|1.539853676E9|     0|       0|         0|  1|        1|      0|     0|      0|    2907|  1|\n",
      "|    54|     1012|  69|    1| 85|1.539880981E9|1.539897265E9|     0|       5|         1|  8|        0|      0|     0|      0|   16284|  0|\n",
      "|    54|     1034|  16|    1| 85|1.539910133E9|1.539914943E9|     0|       0|         0|  4|        1|      1|     0|      0|    4810|  0|\n",
      "|    54|     1042|  58|    1| 88|1.540145271E9|1.540160053E9|     0|       3|         1|  6|        0|      3|     0|      0|   14782|  3|\n",
      "|    54|     1138|  17|    1| 90|1.540317959E9| 1.54032201E9|     0|       3|         0|  2|        0|      0|     0|      0|    4051|  2|\n",
      "|    54|     1202|  98|    1| 90|1.540336741E9|1.540361294E9|     0|       7|         3| 11|        4|      1|     0|      0|   24553|  0|\n",
      "|    54|     1214|  34|    1| 91|1.540423806E9|1.540433454E9|     0|       3|         1|  3|        1|      0|     0|      0|    9648|  1|\n",
      "|    54|     1253|   8|    1| 93|1.540561797E9|1.540563723E9|     0|       0|         0|  0|        0|      0|     0|      1|    1926|  2|\n",
      "|    54|     1308|  17|    1| 93|1.540573664E9|  1.5405776E9|     0|       1|         0|  1|        0|      0|     0|      0|    3936|  0|\n",
      "|    54|     1316|  37|    1| 96|1.540810736E9|1.540820536E9|     0|       2|         0|  1|        0|      0|     0|      0|    9800|  3|\n",
      "|    54|     1386|  43|    1| 98|1.540984036E9|1.540994409E9|     0|       4|         0|  0|        3|      0|     0|      0|   10373|  2|\n",
      "|    54|     1468| 139|    1| 98|1.540998069E9|1.541032738E9|     0|      10|         1|  0|        5|      0|     0|      0|   34669|  0|\n",
      "|    54|     1491|  32|    1| 99|1.541036936E9| 1.54104561E9|     0|       2|         0|  0|        0|      1|     0|      0|    8674|  1|\n",
      "|    54|     1493| 100|    1| 99|1.541102061E9|1.541127093E9|     0|       6|         1|  0|        0|      0|     0|      0|   25032|  0|\n",
      "|    54|     1532|  93|    1|100|1.541207602E9|1.541231234E9|     0|       6|         2|  0|        4|      1|     0|      0|   23632|  1|\n",
      "|    54|     1577|   0|    1|103|1.541431285E9|1.541431285E9|     0|       0|         0|  0|        0|      0|     0|      0|       0|  3|\n",
      "|    54|     1631|  20|    1|104|1.541473207E9|1.541478617E9|     0|       2|         0|  0|        0|      0|     0|      0|    5410|  1|\n",
      "|    54|     1651|   6|    1|104|1.541517496E9|1.541518563E9|     0|       1|         0|  0|        0|      0|     0|      0|    1067|  0|\n",
      "|    54|     1665| 243|    1|104|1.541527216E9| 1.54159195E9|     0|      14|         5|  0|        5|      3|     0|      0|   64734|  0|\n",
      "|    54|     1697| 186|    1|107|1.541772147E9|1.541819651E9|     0|      13|         2|  0|        4|      2|     0|      1|   47504|  3|\n",
      "|    54|     1795|   4|    1|108|1.541862422E9|1.541863302E9|     0|       0|         0|  0|        1|      0|     0|      0|     880|  1|\n",
      "|    54|     1805|  67|    1|109|1.541906743E9|1.541923666E9|     0|       6|         1|  0|        1|      0|     0|      0|   16923|  1|\n",
      "|    54|     1819|  31|    1|110|1.542044678E9|1.542051608E9|     1|       1|         0|  0|        3|      0|     0|      0|    6930|  1|\n",
      "|100014|       37|  52|    1| 43|1.539177136E9|1.539191458E9|     0|       1|         1|  0|        1|      0|     0|      0|   14322| 43|\n",
      "|100014|       93|  29|    1| 45|1.539321197E9|1.539328038E9|     0|       1|         0|  0|        0|      1|     0|      0|    6841|  2|\n",
      "|100014|       98|  70|    1| 49|1.539708375E9| 1.53972528E9|     0|       7|         1|  1|        4|      3|     0|      0|   16905|  4|\n",
      "|100014|      119|  44|    1| 53|1.540047564E9|1.540061407E9|     0|       3|         0|  1|        0|      1|     0|      0|   13843|  4|\n",
      "|100014|      134|   2|    1| 73|1.541740212E9|1.541740419E9|     0|       0|         0|  0|        0|      0|     0|      0|     207| 20|\n",
      "|100014|      185|  60|    1| 84|1.542726234E9|1.542740649E9|     1|       5|         1|  0|        2|      1|     0|      0|   14415| 11|\n",
      "|   101|      100|  33|    1| 38|1.538358605E9|1.538370563E9|     0|       2|         0|  5|        0|      1|     0|      0|   11958| 38|\n",
      "|   101|      268|   8|    1| 38|1.538424386E9|1.538426733E9|     0|       0|         0|  2|        0|      0|     0|      0|    2347|  0|\n",
      "|   101|      312| 261|    1| 39|1.538499334E9|1.538564368E9|     0|       5|         3|  0|        5|      3|     0|      0|   65034|  1|\n",
      "|   101|      387| 140|    1| 41|1.538681573E9|1.538719796E9|     0|       6|         0|  0|        5|      0|     0|      0|   38223|  2|\n",
      "|   101|      490|   6|    1| 42|1.538733638E9|1.538735069E9|     0|       0|         0|  0|        0|      2|     0|      0|    1431|  1|\n",
      "|   101|      496| 352|    1| 45| 1.53895885E9|1.539054182E9|     0|      23|         4|  0|       12|      9|     2|      0|   95332|  3|\n",
      "|   101|      635| 708|    1| 46|1.539065365E9|1.539263366E9|     0|      35|         8|  1|       23|      6|     0|      2|  198001|  1|\n",
      "|   101|      747|  62|    1| 50| 1.53938793E9|1.539403806E9|     0|       3|         0|  0|        5|      0|     0|      0|   15876|  4|\n",
      "|   101|      813| 107|    1| 51|1.539502841E9|1.539533071E9|     0|       8|         1|  0|        7|      3|     0|      0|   30230|  1|\n",
      "|   101|      842| 120|    1| 53|1.539696921E9|1.539729037E9|     1|       4|         0|  0|        4|      5|     1|      0|   32116|  2|\n",
      "|100021|       21|   8|    1| 19|1.539216275E9|1.539218099E9|     0|       2|         0|  1|        0|      2|     0|      0|    1824| 19|\n",
      "|100021|       95|  10|    1| 20|1.539342574E9|1.539345254E9|     0|       0|         0|  2|        0|      0|     0|      0|    2680|  1|\n",
      "|100021|       99|  50|    1| 21|1.539388189E9|1.539403356E9|     0|       1|         1|  9|        2|      0|     0|      0|   15167|  1|\n",
      "|100021|      168|  27|    1| 43|1.541273009E9|1.541281595E9|     0|       1|         2|  3|        2|      0|     1|      0|    8586| 22|\n",
      "|100021|      172| 135|    1| 64|1.543107471E9|1.543143782E9|     1|       7|         2| 15|        3|      5|     1|      0|   36311| 21|\n",
      "|    29|       28|  78|    1| 16|1.538438103E9|1.538456788E9|     0|       1|         0|  6|        2|      0|     0|      0|   18685| 16|\n",
      "|    29|      326|   8|    1| 17|1.538467791E9|1.538469427E9|     0|       0|         0|  1|        0|      0|     0|      0|    1636|  1|\n",
      "|    29|      331|  23|    1| 17|1.538497231E9|1.538504171E9|     0|       1|         0|  1|        0|      1|     0|      0|    6940|  0|\n",
      "|    29|      355|  15|    1| 18|1.538587537E9|1.538590893E9|     0|       0|         0|  0|        1|      0|     0|      0|    3356|  1|\n",
      "|    29|      410|   5|    1| 18|1.538607919E9|1.538608745E9|     0|       0|         0|  0|        0|      0|     0|      0|     826|  0|\n",
      "|    29|      424|  14|    1| 19|1.538656707E9|1.538660509E9|     0|       2|         0|  1|        1|      0|     0|      0|    3802|  1|\n",
      "|    29|      453| 129|    1| 22|1.538933144E9| 1.53896468E9|     0|      10|         1|  5|        7|      0|     0|      0|   31536|  3|\n",
      "|    29|      589|  51|    1| 23|1.539007655E9|1.539019695E9|     0|       4|         0|  1|        3|      0|     0|      0|   12040|  1|\n",
      "|    29|      617| 443|    1| 23|1.539020898E9|1.539131696E9|     0|      21|         4|  1|       12|      7|     0|      0|  110798|  0|\n",
      "|    29|      667|  21|    1| 25|1.539169935E9| 1.53917484E9|     0|       0|         0|  0|        1|      2|     0|      0|    4905|  2|\n",
      "|    29|      692|  44|    1| 26|1.539259124E9| 1.53926914E9|     0|       1|         2|  0|        0|      1|     0|      0|   10016|  1|\n",
      "|    29|      755|  46|    1| 27|1.539323609E9|1.539334811E9|     0|       2|         0|  0|        2|      0|     0|      0|   11202|  1|\n",
      "|    29|      784|  34|    1| 27|1.539381124E9|1.539389455E9|     0|       2|         0|  0|        0|      5|     0|      0|    8331|  0|\n",
      "|    29|      810|  54|    1| 27|1.539398438E9|1.539412737E9|     0|       3|         0|  0|        0|      0|     0|      0|   14299|  0|\n",
      "|    29|      815|  74|    1| 28|1.539436557E9|1.539455137E9|     0|       1|         0|  0|        4|      0|     0|      0|   18580|  1|\n",
      "|    29|      824| 197|    1| 30|1.539595169E9|1.539642756E9|     0|       9|         1|  0|        6|      9|     0|      1|   47587|  2|\n",
      "|    29|      901| 388|    1| 32| 1.53978757E9|1.539889172E9|     0|      16|         2|  1|        9|      6|     0|      2|  101602|  2|\n",
      "|    29|     1030|  13|    1| 38|1.540295152E9|1.540297934E9|     0|       1|         0|  0|        1|      0|     0|      1|    2782|  6|\n",
      "|    29|     1193|  48|    1| 39| 1.54039687E9|1.540408615E9|     0|       2|         0|  0|        2|      2|     0|      0|   11745|  1|\n",
      "|    29|     1239|  25|    1| 39|1.540422924E9|1.540429049E9|     0|       3|         0|  0|        0|      0|     0|      0|    6125|  0|\n",
      "|    29|     1250|  10|    1| 40|1.540469943E9|1.540472217E9|     0|       1|         1|  0|        1|      0|     0|      0|    2274|  1|\n",
      "|    29|     1267| 108|    1| 41|1.540549833E9|1.540576696E9|     0|       5|         2|  0|        2|      0|     0|      0|   26863|  1|\n",
      "|    29|     1315| 189|    1| 43|1.540784308E9|1.540828663E9|     0|      13|         2|  0|        7|      0|     0|      0|   44355|  2|\n",
      "|    29|     1392|  34|    1| 44|1.540839571E9|1.540847376E9|     0|       6|         0|  1|        2|      0|     0|      0|    7805|  1|\n",
      "|    29|     1403|  63|    1| 45|1.540892792E9|1.540909971E9|     0|       2|         0|  1|        1|      1|     0|      0|   17179|  1|\n",
      "|    29|     1432|  62|    1| 45|1.540940293E9|1.540956045E9|     0|       0|         0|  0|        1|      1|     0|      0|   15752|  0|\n",
      "|    29|     1455| 532|    1| 46|1.540993744E9|1.541123811E9|     0|      22|         3|  2|       12|      9|     0|      0|  130067|  1|\n",
      "|    29|     1529|  22|    1| 50|1.541391437E9|1.541396278E9|     0|       4|         0|  0|        0|      2|     0|      0|    4841|  4|\n",
      "|    29|     1619|  77|    1| 52|1.541498006E9|1.541516745E9|     0|       4|         2|  1|        3|      0|     0|      0|   18739|  2|\n",
      "|    29|     1662|   7|    1| 54|1.541684002E9|1.541685774E9|     0|       0|         0|  0|        0|      0|     0|      0|    1772|  2|\n",
      "|    29|     1728|   3|    1| 54|1.541708592E9|1.541709078E9|     0|       0|         0|  0|        0|      0|     0|      0|     486|  0|\n",
      "+------+---------+----+-----+---+-------------+-------------+------+--------+----------+---+---------+-------+------+-------+--------+---+\n",
      "only showing top 100 rows\n",
      "\n"
     ]
    }
   ],
   "source": [
    "sessions.where(sessions.churn == '1').show(100)"
   ]
  },
  {
   "cell_type": "code",
   "execution_count": 320,
   "metadata": {
    "ExecuteTime": {
     "end_time": "2021-02-13T01:26:47.661282Z",
     "start_time": "2021-02-13T01:26:38.840530Z"
    }
   },
   "outputs": [
    {
     "data": {
      "text/html": [
       "<div>\n",
       "<style scoped>\n",
       "    .dataframe tbody tr th:only-of-type {\n",
       "        vertical-align: middle;\n",
       "    }\n",
       "\n",
       "    .dataframe tbody tr th {\n",
       "        vertical-align: top;\n",
       "    }\n",
       "\n",
       "    .dataframe thead th {\n",
       "        text-align: right;\n",
       "    }\n",
       "</style>\n",
       "<table border=\"1\" class=\"dataframe\">\n",
       "  <thead>\n",
       "    <tr style=\"text-align: right;\">\n",
       "      <th></th>\n",
       "      <th>count</th>\n",
       "    </tr>\n",
       "  </thead>\n",
       "  <tbody>\n",
       "    <tr>\n",
       "      <th>userId</th>\n",
       "      <td>0</td>\n",
       "    </tr>\n",
       "    <tr>\n",
       "      <th>sessionId</th>\n",
       "      <td>0</td>\n",
       "    </tr>\n",
       "    <tr>\n",
       "      <th>gap</th>\n",
       "      <td>0</td>\n",
       "    </tr>\n",
       "    <tr>\n",
       "      <th>duration</th>\n",
       "      <td>0</td>\n",
       "    </tr>\n",
       "    <tr>\n",
       "      <th>setting</th>\n",
       "      <td>0</td>\n",
       "    </tr>\n",
       "    <tr>\n",
       "      <th>errors</th>\n",
       "      <td>0</td>\n",
       "    </tr>\n",
       "    <tr>\n",
       "      <th>friends</th>\n",
       "      <td>0</td>\n",
       "    </tr>\n",
       "    <tr>\n",
       "      <th>playlists</th>\n",
       "      <td>0</td>\n",
       "    </tr>\n",
       "    <tr>\n",
       "      <th>ads</th>\n",
       "      <td>0</td>\n",
       "    </tr>\n",
       "    <tr>\n",
       "      <th>thumpsdown</th>\n",
       "      <td>0</td>\n",
       "    </tr>\n",
       "    <tr>\n",
       "      <th>thumpsup</th>\n",
       "      <td>0</td>\n",
       "    </tr>\n",
       "    <tr>\n",
       "      <th>cancel</th>\n",
       "      <td>0</td>\n",
       "    </tr>\n",
       "    <tr>\n",
       "      <th>end</th>\n",
       "      <td>0</td>\n",
       "    </tr>\n",
       "    <tr>\n",
       "      <th>start</th>\n",
       "      <td>0</td>\n",
       "    </tr>\n",
       "    <tr>\n",
       "      <th>day</th>\n",
       "      <td>0</td>\n",
       "    </tr>\n",
       "    <tr>\n",
       "      <th>churn</th>\n",
       "      <td>0</td>\n",
       "    </tr>\n",
       "    <tr>\n",
       "      <th>play</th>\n",
       "      <td>0</td>\n",
       "    </tr>\n",
       "    <tr>\n",
       "      <th>last</th>\n",
       "      <td>0</td>\n",
       "    </tr>\n",
       "  </tbody>\n",
       "</table>\n",
       "</div>"
      ],
      "text/plain": [
       "            count\n",
       "userId          0\n",
       "sessionId       0\n",
       "gap             0\n",
       "duration        0\n",
       "setting         0\n",
       "errors          0\n",
       "friends         0\n",
       "playlists       0\n",
       "ads             0\n",
       "thumpsdown      0\n",
       "thumpsup        0\n",
       "cancel          0\n",
       "end             0\n",
       "start           0\n",
       "day             0\n",
       "churn           0\n",
       "play            0\n",
       "last            0"
      ]
     },
     "execution_count": 320,
     "metadata": {},
     "output_type": "execute_result"
    }
   ],
   "source": [
    "count_missings(sessions)"
   ]
  },
  {
   "cell_type": "code",
   "execution_count": null,
   "metadata": {
    "ExecuteTime": {
     "end_time": "2021-02-08T06:52:24.099024Z",
     "start_time": "2021-02-08T06:52:22.534Z"
    }
   },
   "outputs": [],
   "source": [
    "import pyspark.sql.functions as F\n",
    "def count_missings(spark_df,sort=True):\n",
    "    \"\"\"\n",
    "    Counts number of nulls and nans in each column\n",
    "    \"\"\"\n",
    "    df = spark_df.select([F.count(F.when(F.isnan(c) | F.isnull(c), c)).alias(c) for c in spark_df.columns]).toPandas()\n",
    "\n",
    "    if len(df) == 0:\n",
    "        print(\"There are no any missing values!\")\n",
    "        return None\n",
    "\n",
    "    if sort:\n",
    "        return df.rename(index={0: 'count'}).T.sort_values(\"count\",ascending=False)\n",
    "\n",
    "    return df\n",
    "\n",
    "count_missings(df)"
   ]
  },
  {
   "cell_type": "markdown",
   "metadata": {},
   "source": [
    "어떤 피쳐를 추출해야하는가. \n",
    "\n"
   ]
  },
  {
   "cell_type": "markdown",
   "metadata": {},
   "source": [
    "# Feature Engineering\n",
    "Once you've familiarized yourself with the data, build out the features you find promising to train your model on. To work with the full dataset, you can follow the following steps.\n",
    "- Write a script to extract the necessary features from the smaller subset of data\n",
    "- Ensure that your script is scalable, using the best practices discussed in Lesson 3\n",
    "- Try your script on the full data set, debugging your script if necessary\n",
    "\n",
    "If you are working in the classroom workspace, you can just extract features based on the small subset of data contained here. Be sure to transfer over this work to the larger dataset when you work on your Spark cluster."
   ]
  },
  {
   "cell_type": "code",
   "execution_count": 257,
   "metadata": {
    "ExecuteTime": {
     "end_time": "2021-02-12T01:32:48.514703Z",
     "start_time": "2021-02-12T01:32:48.510918Z"
    }
   },
   "outputs": [
    {
     "name": "stdout",
     "output_type": "stream",
     "text": [
      "root\n",
      " |-- userId: string (nullable = true)\n",
      " |-- sessionId: long (nullable = true)\n",
      " |-- play: long (nullable = false)\n",
      " |-- churn: integer (nullable = true)\n",
      " |-- day: integer (nullable = true)\n",
      " |-- start: double (nullable = true)\n",
      " |-- end: double (nullable = true)\n",
      " |-- cancel: integer (nullable = true)\n",
      " |-- thumpsup: long (nullable = true)\n",
      " |-- thumpsdown: long (nullable = true)\n",
      " |-- ads: long (nullable = true)\n",
      " |-- playlists: long (nullable = true)\n",
      " |-- friends: long (nullable = true)\n",
      " |-- errors: long (nullable = true)\n",
      " |-- setting: long (nullable = true)\n",
      " |-- duration: integer (nullable = true)\n",
      " |-- gap: integer (nullable = true)\n",
      "\n"
     ]
    }
   ],
   "source": [
    "sessions.printSchema()"
   ]
  },
  {
   "cell_type": "code",
   "execution_count": 321,
   "metadata": {
    "ExecuteTime": {
     "end_time": "2021-02-13T01:27:04.778191Z",
     "start_time": "2021-02-13T01:26:58.582178Z"
    }
   },
   "outputs": [
    {
     "name": "stdout",
     "output_type": "stream",
     "text": [
      "+------+-------------+------------------+------------------+------------------+------------------+------------------+-------------------+------------------+------------------+------------------+------------------+------------------+------------------+---------+-----+\n",
      "|userId|total_session|          avg_play|          std_play|            avg_up|          avg_down|           avg_ads|        avg_setting|     avg_playlists|       avg_friends|      avg_duration|      std_duration|           avg_gap|           std_gap|life_time|label|\n",
      "+------+-------------+------------------+------------------+------------------+------------------+------------------+-------------------+------------------+------------------+------------------+------------------+------------------+------------------+---------+-----+\n",
      "|100010|            4|              30.0| 16.22754859285078|               1.5|              0.25|               5.5|                0.0|               0.5|              0.75|            6722.0|3820.8957937461037|              5.75| 4.272001872658766|       23|    0|\n",
      "|200002|            2|              12.0|11.313708498984761|               1.0|               0.0|               1.5|                0.0|               0.5|               1.0|            2717.5|2816.4063094660187|              12.5|16.263455967290593|       25|    0|\n",
      "|   124|           13|169.53846153846155| 155.3612003175264| 6.615384615384615|1.3846153846153846|0.3076923076923077|0.23076923076923078| 5.615384615384615|2.8461538461538463| 41895.53846153846| 38153.76929525964| 7.615384615384615| 19.13347181223898|       99|    0|\n",
      "|     7|            3|12.333333333333334|  9.60902353693305|0.3333333333333333|0.3333333333333333|1.3333333333333333|                0.0|               0.0|0.3333333333333333|            2824.0|2303.2110194248376|              12.0| 9.539392014169456|       36|    0|\n",
      "|    15|            9|124.11111111111111|101.08714612210156| 5.222222222222222|0.8888888888888888|               0.0| 0.1111111111111111|3.3333333333333335|1.8888888888888888| 31020.11111111111|25541.738994459854|2.5555555555555554| 2.455153310442706|       23|    0|\n",
      "|    54|           10|             110.8| 146.0827771428849|               5.5|               0.7|               0.3|                0.1|               3.5|               1.6|           27901.1|35896.238937774215|               7.9|20.781669273130532|       79|    1|\n",
      "|100014|            4|             48.75|17.075811352124187|               3.0|               0.5|               0.5|                0.0|              1.25|              1.25|          12977.75| 4306.532199268146|             13.25| 19.85572965166478|       53|    1|\n",
      "|   132|            5|              75.2| 79.08982235408043|               3.6|               0.8|               0.0|                0.0|               1.0|               1.4|           18729.2|19269.411957815424|               6.8| 5.585696017507576|       34|    0|\n",
      "|    11|            5|              21.8|15.319921670818033|               1.8|               0.4|               1.6|                0.2|               0.4|               0.0|            5198.8|3871.2349709104456|              18.2|  29.7018517941222|       91|    0|\n",
      "|   138|            9|107.33333333333333|145.04999138228172| 4.888888888888889|0.8888888888888888|1.6666666666666667| 0.2222222222222222|3.4444444444444446|1.3333333333333333|26101.555555555555| 35753.41672173133|3.4444444444444446|3.0459444804161775|       31|    0|\n",
      "+------+-------------+------------------+------------------+------------------+------------------+------------------+-------------------+------------------+------------------+------------------+------------------+------------------+------------------+---------+-----+\n",
      "only showing top 10 rows\n",
      "\n"
     ]
    }
   ],
   "source": [
    "users = sessions.groupBy('userId').agg(count('sessionId').alias('total_session'),\n",
    "                                       avg('play').alias('avg_play'),\n",
    "                                       when(count('play') > 1, stddev('play')).otherwise(0).alias('std_play'),\n",
    "                                       avg('thumpsup').alias('avg_up'),\n",
    "                                       avg('thumpsdown').alias('avg_down'),\n",
    "                                       avg('ads').alias('avg_ads'),\n",
    "                                       avg('setting').alias('avg_setting'),\n",
    "                                       avg('playlists').alias('avg_playlists'),\n",
    "                                       avg('friends').alias('avg_friends'),\n",
    "                                       avg('duration').alias('avg_duration'),\n",
    "                                       when(count('duration') > 1, stddev('duration')).otherwise(0).alias('std_duration'), \n",
    "                                       avg('gap').alias('avg_gap'),\n",
    "                                       when(count('gap') > 1, stddev('gap')).otherwise(0).alias('std_gap'),\n",
    "                                       max('day').alias('life_time'),\n",
    "                                       max('churn').alias('label'))\n",
    "\n",
    "users.show(10)\n",
    "                                                                           "
   ]
  },
  {
   "cell_type": "code",
   "execution_count": 269,
   "metadata": {
    "ExecuteTime": {
     "end_time": "2021-02-12T09:01:33.234787Z",
     "start_time": "2021-02-12T09:01:33.231347Z"
    }
   },
   "outputs": [
    {
     "name": "stdout",
     "output_type": "stream",
     "text": [
      "root\n",
      " |-- userId: string (nullable = true)\n",
      " |-- total_session: long (nullable = false)\n",
      " |-- avg_play: double (nullable = true)\n",
      " |-- std_play: double (nullable = true)\n",
      " |-- avg_up: double (nullable = true)\n",
      " |-- avg_down: double (nullable = true)\n",
      " |-- avg_ads: double (nullable = true)\n",
      " |-- avg_setting: double (nullable = true)\n",
      " |-- avg_playlists: double (nullable = true)\n",
      " |-- avg_friends: double (nullable = true)\n",
      " |-- avg_duration: double (nullable = true)\n",
      " |-- std_duration: double (nullable = true)\n",
      " |-- avg_gap: double (nullable = true)\n",
      " |-- std_gap: double (nullable = true)\n",
      " |-- life_time: integer (nullable = true)\n",
      " |-- label: integer (nullable = true)\n",
      "\n"
     ]
    }
   ],
   "source": [
    "users.printSchema()"
   ]
  },
  {
   "cell_type": "code",
   "execution_count": 266,
   "metadata": {
    "ExecuteTime": {
     "end_time": "2021-02-12T05:27:03.067940Z",
     "start_time": "2021-02-12T05:27:02.685126Z"
    }
   },
   "outputs": [],
   "source": [
    "\n"
   ]
  },
  {
   "cell_type": "code",
   "execution_count": null,
   "metadata": {},
   "outputs": [],
   "source": []
  },
  {
   "cell_type": "markdown",
   "metadata": {},
   "source": [
    "# Modeling\n",
    "Split the full dataset into train, test, and validation sets. Test out several of the machine learning methods you learned. Evaluate the accuracy of the various models, tuning parameters as necessary. Determine your winning model based on test accuracy and report results on the validation set. Since the churned users are a fairly small subset, I suggest using F1 score as the metric to optimize."
   ]
  },
  {
   "cell_type": "markdown",
   "metadata": {
    "ExecuteTime": {
     "end_time": "2021-02-12T08:50:00.510119Z",
     "start_time": "2021-02-12T08:50:00.494445Z"
    }
   },
   "source": [
    "### Build a pipeline"
   ]
  },
  {
   "cell_type": "code",
   "execution_count": 324,
   "metadata": {
    "ExecuteTime": {
     "end_time": "2021-02-13T01:28:03.982258Z",
     "start_time": "2021-02-13T01:28:03.968087Z"
    }
   },
   "outputs": [],
   "source": [
    "\n",
    "\n",
    "\n",
    "assembler = VectorAssembler(inputCols=[\"total_session\",\n",
    "                                       \"avg_play\",\n",
    "                                       \"std_play\",\n",
    "                                       \"avg_up\",\n",
    "                                       \"avg_down\",\n",
    "                                       \"avg_ads\",\n",
    "                                       \"avg_setting\",\n",
    "                                       \"avg_playlists\",\n",
    "                                       \"avg_friends\",\n",
    "                                       \"avg_duration\",\n",
    "                                       \"std_duration\",\n",
    "                                       \"avg_gap\",\n",
    "                                       \"std_gap\",\n",
    "                                       \"life_time\"\n",
    "                                      ], outputCol=\"NumFeatures\")\n",
    "\n",
    "scaler = StandardScaler(inputCol=\"NumFeatures\", outputCol=\"features\", withStd=True)\n",
    "#gbt = GBTClassifier(featuresCol=\"features\", maxIter=10)\n",
    "rf = RandomForestClassifier(featuresCol=\"features\")\n",
    "\n",
    "\n",
    "pipeline = Pipeline(stages=[assembler, scaler, rf])"
   ]
  },
  {
   "cell_type": "code",
   "execution_count": 325,
   "metadata": {
    "ExecuteTime": {
     "end_time": "2021-02-13T01:29:32.986131Z",
     "start_time": "2021-02-13T01:28:16.480436Z"
    }
   },
   "outputs": [
    {
     "name": "stderr",
     "output_type": "stream",
     "text": [
      "Exception ignored in: <function JavaWrapper.__del__ at 0x7f9fae01b1f0>\n",
      "Traceback (most recent call last):\n",
      "  File \"/Users/stillqe/anaconda/envs/Sparkify/lib/python3.8/site-packages/pyspark/ml/wrapper.py\", line 42, in __del__\n",
      "    if SparkContext._active_spark_context and self._java_obj is not None:\n",
      "AttributeError: 'StandardScaler' object has no attribute '_java_obj'\n",
      "Exception ignored in: <function JavaWrapper.__del__ at 0x7f9fae01b1f0>\n",
      "Traceback (most recent call last):\n",
      "  File \"/Users/stillqe/anaconda/envs/Sparkify/lib/python3.8/site-packages/pyspark/ml/wrapper.py\", line 42, in __del__\n",
      "    if SparkContext._active_spark_context and self._java_obj is not None:\n",
      "AttributeError: 'RandomForestClassifier' object has no attribute '_java_obj'\n"
     ]
    }
   ],
   "source": [
    "rf = RandomForestClassifier(featuresCol=\"features\")\n",
    "pipeline = Pipeline(stages=[assembler, scaler, rf])\n",
    "model = pipeline.fit(train)"
   ]
  },
  {
   "cell_type": "code",
   "execution_count": 326,
   "metadata": {
    "ExecuteTime": {
     "end_time": "2021-02-13T01:31:23.284227Z",
     "start_time": "2021-02-13T01:30:11.970521Z"
    }
   },
   "outputs": [],
   "source": [
    "# Split the data into train and test subsets\n",
    "train, test = users.randomSplit([0.8, 0.2], seed=123)\n",
    "\n",
    "model = pipeline.fit(train)"
   ]
  },
  {
   "cell_type": "code",
   "execution_count": 308,
   "metadata": {
    "ExecuteTime": {
     "end_time": "2021-02-12T22:54:18.859428Z",
     "start_time": "2021-02-12T22:00:04.828344Z"
    }
   },
   "outputs": [
    {
     "ename": "NameError",
     "evalue": "name 'cvModel_SVM' is not defined",
     "output_type": "error",
     "traceback": [
      "\u001b[0;31m---------------------------------------------------------------------------\u001b[0m",
      "\u001b[0;31mNameError\u001b[0m                                 Traceback (most recent call last)",
      "\u001b[0;32m<ipython-input-308-2c177c9abc32>\u001b[0m in \u001b[0;36m<module>\u001b[0;34m\u001b[0m\n\u001b[1;32m      9\u001b[0m \u001b[0;34m\u001b[0m\u001b[0m\n\u001b[1;32m     10\u001b[0m \u001b[0mcvModel\u001b[0m \u001b[0;34m=\u001b[0m \u001b[0mcrossval\u001b[0m\u001b[0;34m.\u001b[0m\u001b[0mfit\u001b[0m\u001b[0;34m(\u001b[0m\u001b[0mtrain\u001b[0m\u001b[0;34m)\u001b[0m\u001b[0;34m\u001b[0m\u001b[0;34m\u001b[0m\u001b[0m\n\u001b[0;32m---> 11\u001b[0;31m \u001b[0mcvModel_SVM\u001b[0m\u001b[0;34m.\u001b[0m\u001b[0mavgMetrics\u001b[0m\u001b[0;34m\u001b[0m\u001b[0;34m\u001b[0m\u001b[0m\n\u001b[0m",
      "\u001b[0;31mNameError\u001b[0m: name 'cvModel_SVM' is not defined"
     ]
    }
   ],
   "source": [
    "paramGrid = ParamGridBuilder() \\\n",
    "            .addGrid(gbt.maxDepth, [3, 5, 10]) \\\n",
    "            .addGrid(gbt.maxBins, [16, 32, 64]).build()\n",
    "\n",
    "crossval = CrossValidator(estimator=pipeline,\n",
    "                         estimatorParamMaps=paramGrid,\n",
    "                         evaluator=MulticlassClassificationEvaluator(metricName='f1'),\n",
    "                         numFolds=3)\n",
    "\n",
    "cvModel = crossval.fit(train)\n",
    "cvModel.avgMetrics"
   ]
  },
  {
   "cell_type": "code",
   "execution_count": 310,
   "metadata": {
    "ExecuteTime": {
     "end_time": "2021-02-12T23:15:25.575032Z",
     "start_time": "2021-02-12T23:15:13.503807Z"
    }
   },
   "outputs": [
    {
     "name": "stdout",
     "output_type": "stream",
     "text": [
      "The F1 score on the test set is 77.55%\n"
     ]
    }
   ],
   "source": [
    "cvModel.avgMetrics\n",
    "\n",
    "pred_test = cvModel.transform(test)\n",
    "\n",
    "f1_score_evaluator = MulticlassClassificationEvaluator(metricName='f1')\n",
    "f1_score = f1_score_evaluator.evaluate(pred_test.select('label','prediction'),{f1_score_evaluator.metricName: 'f1'})\n",
    "\n",
    "print('The F1 score on the test set is {:.2%}'.format(f1_score))"
   ]
  },
  {
   "cell_type": "code",
   "execution_count": 314,
   "metadata": {
    "ExecuteTime": {
     "end_time": "2021-02-12T23:48:37.608539Z",
     "start_time": "2021-02-12T23:48:25.071870Z"
    }
   },
   "outputs": [
    {
     "name": "stdout",
     "output_type": "stream",
     "text": [
      "The F1 score on the test set is 79.46%\n"
     ]
    }
   ],
   "source": [
    "pred_test = model.transform(test)\n",
    "\n",
    "f1_score_evaluator = MulticlassClassificationEvaluator(metricName='f1')\n",
    "f1_score = f1_score_evaluator.evaluate(pred_test.select('label','prediction'),{f1_score_evaluator.metricName: 'f1'})\n",
    "\n",
    "print('The F1 score on the test set is {:.2%}'.format(f1_score))"
   ]
  },
  {
   "cell_type": "code",
   "execution_count": 303,
   "metadata": {
    "ExecuteTime": {
     "end_time": "2021-02-12T19:51:04.678092Z",
     "start_time": "2021-02-12T19:51:04.605404Z"
    }
   },
   "outputs": [
    {
     "name": "stderr",
     "output_type": "stream",
     "text": [
      "Exception ignored in: <function JavaWrapper.__del__ at 0x7f9fae01b1f0>\n",
      "Traceback (most recent call last):\n",
      "  File \"/Users/stillqe/anaconda/envs/Sparkify/lib/python3.8/site-packages/pyspark/ml/wrapper.py\", line 42, in __del__\n",
      "    if SparkContext._active_spark_context and self._java_obj is not None:\n",
      "AttributeError: 'StandardScaler' object has no attribute '_java_obj'\n"
     ]
    },
    {
     "name": "stdout",
     "output_type": "stream",
     "text": [
      "total_session : 0.09265597231971447 \n",
      "\n",
      "avg_play : 0.020043266406611474 \n",
      "\n",
      "std_play : 0.02087489622324075 \n",
      "\n",
      "avg_up : 0.03466778331225433 \n",
      "\n",
      "avg_down : 0.12084347612478788 \n",
      "\n",
      "avg_ads : 0.10486518950621027 \n",
      "\n",
      "avg_setting : 0.05857305800973874 \n",
      "\n",
      "avg_playlists : 0.03971134170798569 \n",
      "\n",
      "avg_friends : 0.015787617986012244 \n",
      "\n",
      "avg_duration : 0.0026083766350204615 \n",
      "\n",
      "std_duration : 0.008286571122397769 \n",
      "\n",
      "avg_gap : 0.1047910747445332 \n",
      "\n",
      "std_gap : 0.058819884056444054 \n",
      "\n",
      "life_time : 0.3174714918450489 \n",
      "\n"
     ]
    }
   ],
   "source": [
    "inputCols=[\"total_session\", \"avg_play\",\"std_play\",\"avg_up\",\"avg_down\",\"avg_ads\",\"avg_setting\",\"avg_playlists\",\n",
    "           \"avg_friends\",\"avg_duration\",\"std_duration\",\"avg_gap\",\"std_gap\",\"life_time\"]\n",
    "# print feature importances\n",
    "for i in range(len(model.stages[-1].featureImportances)):\n",
    "    print(\"{} : {} \\n\".format(inputCols[i], model.stages[-1].featureImportances[i]))\n"
   ]
  },
  {
   "cell_type": "code",
   "execution_count": 294,
   "metadata": {
    "ExecuteTime": {
     "end_time": "2021-02-12T10:29:50.471034Z",
     "start_time": "2021-02-12T10:29:38.122969Z"
    }
   },
   "outputs": [
    {
     "name": "stdout",
     "output_type": "stream",
     "text": [
      "+----------+-----+--------------------+\n",
      "|prediction|label|            features|\n",
      "+----------+-----+--------------------+\n",
      "|       0.0|    1|[2.45232377485841...|\n",
      "|       1.0|    0|[0.19883706282635...|\n",
      "|       0.0|    0|[0.59651118847907...|\n",
      "|       0.0|    1|[0.39767412565271...|\n",
      "|       1.0|    0|[0.39767412565271...|\n",
      "|       0.0|    0|[0.19883706282635...|\n",
      "|       1.0|    0|[0.19883706282635...|\n",
      "|       0.0|    0|[0.06627902094211...|\n",
      "|       0.0|    0|[0.46395314659483...|\n",
      "|       0.0|    0|[1.12674335601603...|\n",
      "|       1.0|    1|[1.32558041884238...|\n",
      "|       0.0|    0|[1.19302237695814...|\n",
      "|       1.0|    1|[0.06627902094211...|\n",
      "|       0.0|    0|[0.92790629318967...|\n",
      "|       0.0|    0|[0.66279020942119...|\n",
      "|       0.0|    1|[1.25930139790026...|\n",
      "|       0.0|    0|[0.59651118847907...|\n",
      "|       0.0|    0|[1.59069650261086...|\n",
      "|       1.0|    1|[0.66279020942119...|\n",
      "|       0.0|    0|[5.03720559160107...|\n",
      "|       0.0|    0|[1.19302237695814...|\n",
      "|       0.0|    0|[0.33139510471059...|\n",
      "|       1.0|    0|[0.06627902094211...|\n",
      "|       0.0|    0|[0.53023216753695...|\n",
      "|       1.0|    0|(14,[0,1,5,9],[0....|\n",
      "|       0.0|    0|[0.19883706282635...|\n",
      "|       0.0|    0|[0.66279020942119...|\n",
      "|       0.0|    0|[1.25930139790026...|\n",
      "|       0.0|    0|[0.79534825130543...|\n",
      "|       1.0|    1|[0.46395314659483...|\n",
      "|       0.0|    0|[0.72906923036331...|\n",
      "|       1.0|    1|[0.79534825130543...|\n",
      "|       0.0|    0|[0.86162727224755...|\n",
      "|       1.0|    0|[1.39185943978450...|\n",
      "|       0.0|    0|[0.72906923036331...|\n",
      "|       0.0|    1|[0.86162727224755...|\n",
      "|       0.0|    0|[0.13255804188423...|\n",
      "|       0.0|    0|[0.53023216753695...|\n",
      "|       0.0|    0|[0.66279020942119...|\n",
      "|       0.0|    0|[0.59651118847907...|\n",
      "|       0.0|    0|[0.06627902094211...|\n",
      "|       0.0|    0|[0.53023216753695...|\n",
      "|       0.0|    0|[0.39767412565271...|\n",
      "+----------+-----+--------------------+\n",
      "\n"
     ]
    }
   ],
   "source": [
    "pred_test.select(\"prediction\", \"label\", \"features\").show(100)\n"
   ]
  },
  {
   "cell_type": "code",
   "execution_count": null,
   "metadata": {},
   "outputs": [],
   "source": [
    "accuracy = evaluator.evaluate(predictions)"
   ]
  },
  {
   "cell_type": "markdown",
   "metadata": {},
   "source": [
    "# Final Steps\n",
    "Clean up your code, adding comments and renaming variables to make the code easier to read and maintain. Refer to the Spark Project Overview page and Data Scientist Capstone Project Rubric to make sure you are including all components of the capstone project and meet all expectations. Remember, this includes thorough documentation in a README file in a Github repository, as well as a web app or blog post."
   ]
  },
  {
   "cell_type": "code",
   "execution_count": null,
   "metadata": {},
   "outputs": [],
   "source": []
  }
 ],
 "metadata": {
  "hide_input": false,
  "kernelspec": {
   "display_name": "Python 3",
   "language": "python",
   "name": "python3"
  },
  "language_info": {
   "codemirror_mode": {
    "name": "ipython",
    "version": 3
   },
   "file_extension": ".py",
   "mimetype": "text/x-python",
   "name": "python",
   "nbconvert_exporter": "python",
   "pygments_lexer": "ipython3",
   "version": "3.8.5"
  },
  "toc": {
   "base_numbering": 1,
   "nav_menu": {},
   "number_sections": true,
   "sideBar": true,
   "skip_h1_title": false,
   "title_cell": "Table of Contents",
   "title_sidebar": "Contents",
   "toc_cell": false,
   "toc_position": {
    "height": "calc(100% - 180px)",
    "left": "10px",
    "top": "150px",
    "width": "282.59375px"
   },
   "toc_section_display": true,
   "toc_window_display": true
  },
  "varInspector": {
   "cols": {
    "lenName": 16,
    "lenType": 16,
    "lenVar": 40
   },
   "kernels_config": {
    "python": {
     "delete_cmd_postfix": "",
     "delete_cmd_prefix": "del ",
     "library": "var_list.py",
     "varRefreshCmd": "print(var_dic_list())"
    },
    "r": {
     "delete_cmd_postfix": ") ",
     "delete_cmd_prefix": "rm(",
     "library": "var_list.r",
     "varRefreshCmd": "cat(var_dic_list()) "
    }
   },
   "types_to_exclude": [
    "module",
    "function",
    "builtin_function_or_method",
    "instance",
    "_Feature"
   ],
   "window_display": false
  }
 },
 "nbformat": 4,
 "nbformat_minor": 2
}
